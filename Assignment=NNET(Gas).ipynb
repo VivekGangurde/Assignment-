{
 "cells": [
  {
   "cell_type": "markdown",
   "id": "c412b7f7",
   "metadata": {},
   "source": [
    "# Introduction :\n",
    "\n",
    "An artificial neural network learning algorithm, or neural network, or just neural net.\n",
    "It is a computational learning system that uses a network of functions to understand and translate a data input of one form into a desired output, usually in another form. The concept of the artificial neural network was inspired by human biology and the way neurons of the human brain function together to understand inputs from human senses. \n",
    "\n",
    "Neural networks are just one of many tools and approaches used in machine learning algorithms. The neural network itself may be used as a piece in many different machine learning algorithms to process complex data inputs into a space that computers can understand. \n",
    "\n",
    "Neural networks are being applied to many real-life problems today, including speech and image recognition, spam email filtering, finance, and medical diagnosis, to name a few. \n"
   ]
  },
  {
   "cell_type": "markdown",
   "id": "6254e7ac",
   "metadata": {},
   "source": [
    "# Problem Statement:\n",
    "predicting turbine energy yield (TEY) using ambient variables as features.\n",
    "\n",
    "\n"
   ]
  },
  {
   "cell_type": "markdown",
   "id": "e3a264a0",
   "metadata": {},
   "source": [
    "# About the data:\n",
    "he dataset contains 36733 instances of 11 sensor measures aggregated over one hour (by means of average or sum) from a gas turbine. \n",
    "\n",
    "The Dataset includes gas turbine parameters (such as Turbine Inlet Temperature and Compressor Discharge pressure) in addition to the ambient variables.\n",
    "\n",
    "So, before making the models it is require to check the missing values, outliere & of course have to do the EDA, Feature engineering,scaling(if require), hyperparameter tuning etc. In the end will have to evaluate the model by checking its accurcy & errors also will do the residual analysis to verify the features coefficiency with target."
   ]
  },
  {
   "cell_type": "markdown",
   "id": "17c36424",
   "metadata": {},
   "source": [
    "# Importing Liabraries"
   ]
  },
  {
   "cell_type": "code",
   "execution_count": 1,
   "id": "a9e1d2c8",
   "metadata": {},
   "outputs": [],
   "source": [
    "import numpy as np\n",
    "import pandas as pd\n",
    "import matplotlib.pyplot as plt\n",
    "import plotly.graph_objects as go\n",
    "from plotly.subplots import make_subplots\n",
    "import seaborn as sns\n",
    "from collections import Counter\n",
    "sns.set_style('darkgrid')\n",
    "from imblearn.pipeline import Pipeline\n",
    "\n",
    "import plotly.express as px\n",
    "from plotly.offline import plot as off\n",
    "import plotly.figure_factory as ff\n",
    "import plotly.io as pio\n",
    "from sklearn.preprocessing import StandardScaler, LabelEncoder, MinMaxScaler, scale\n",
    "from sklearn.ensemble import RandomForestRegressor\n",
    "from sklearn.metrics import mean_squared_error\n",
    "from sklearn.model_selection import GridSearchCV, KFold, StratifiedKFold, cross_val_score, \\\n",
    "                                    train_test_split, RandomizedSearchCV\n",
    "import warnings\n",
    "warnings.filterwarnings('ignore')\n",
    "from keras.optimizers import Adam\n",
    "from kerastuner.tuners import RandomSearch\n",
    "from tensorflow.keras import layers\n",
    "from tensorflow import keras\n",
    "from keras.models import Sequential\n",
    "from keras.layers import Dense\n",
    "from keras.layers import Dropout\n",
    "from keras.utils import np_utils\n",
    "from keras.constraints import maxnorm\n",
    "from keras.wrappers.scikit_learn import KerasRegressor, KerasClassifier\n",
    "from sklearn.feature_selection import SelectKBest\n",
    "from sklearn.feature_selection import mutual_info_regression"
   ]
  },
  {
   "cell_type": "markdown",
   "id": "dd0fdc69",
   "metadata": {},
   "source": [
    "# Load the Data"
   ]
  },
  {
   "cell_type": "code",
   "execution_count": 2,
   "id": "2d71072e",
   "metadata": {},
   "outputs": [],
   "source": [
    "data=pd.read_csv('C:/Users/VivekG/Desktop/My Files- Vivek/gas_turbines.csv')"
   ]
  },
  {
   "cell_type": "code",
   "execution_count": 3,
   "id": "dc6696d4",
   "metadata": {},
   "outputs": [
    {
     "data": {
      "text/html": [
       "<div>\n",
       "<style scoped>\n",
       "    .dataframe tbody tr th:only-of-type {\n",
       "        vertical-align: middle;\n",
       "    }\n",
       "\n",
       "    .dataframe tbody tr th {\n",
       "        vertical-align: top;\n",
       "    }\n",
       "\n",
       "    .dataframe thead th {\n",
       "        text-align: right;\n",
       "    }\n",
       "</style>\n",
       "<table border=\"1\" class=\"dataframe\">\n",
       "  <thead>\n",
       "    <tr style=\"text-align: right;\">\n",
       "      <th></th>\n",
       "      <th>AT</th>\n",
       "      <th>AP</th>\n",
       "      <th>AH</th>\n",
       "      <th>AFDP</th>\n",
       "      <th>GTEP</th>\n",
       "      <th>TIT</th>\n",
       "      <th>TAT</th>\n",
       "      <th>TEY</th>\n",
       "      <th>CDP</th>\n",
       "      <th>CO</th>\n",
       "      <th>NOX</th>\n",
       "    </tr>\n",
       "  </thead>\n",
       "  <tbody>\n",
       "    <tr>\n",
       "      <th>0</th>\n",
       "      <td>6.8594</td>\n",
       "      <td>1007.9</td>\n",
       "      <td>96.799</td>\n",
       "      <td>3.5000</td>\n",
       "      <td>19.663</td>\n",
       "      <td>1059.2</td>\n",
       "      <td>550.00</td>\n",
       "      <td>114.70</td>\n",
       "      <td>10.605</td>\n",
       "      <td>3.1547</td>\n",
       "      <td>82.722</td>\n",
       "    </tr>\n",
       "    <tr>\n",
       "      <th>1</th>\n",
       "      <td>6.7850</td>\n",
       "      <td>1008.4</td>\n",
       "      <td>97.118</td>\n",
       "      <td>3.4998</td>\n",
       "      <td>19.728</td>\n",
       "      <td>1059.3</td>\n",
       "      <td>550.00</td>\n",
       "      <td>114.72</td>\n",
       "      <td>10.598</td>\n",
       "      <td>3.2363</td>\n",
       "      <td>82.776</td>\n",
       "    </tr>\n",
       "    <tr>\n",
       "      <th>2</th>\n",
       "      <td>6.8977</td>\n",
       "      <td>1008.8</td>\n",
       "      <td>95.939</td>\n",
       "      <td>3.4824</td>\n",
       "      <td>19.779</td>\n",
       "      <td>1059.4</td>\n",
       "      <td>549.87</td>\n",
       "      <td>114.71</td>\n",
       "      <td>10.601</td>\n",
       "      <td>3.2012</td>\n",
       "      <td>82.468</td>\n",
       "    </tr>\n",
       "    <tr>\n",
       "      <th>3</th>\n",
       "      <td>7.0569</td>\n",
       "      <td>1009.2</td>\n",
       "      <td>95.249</td>\n",
       "      <td>3.4805</td>\n",
       "      <td>19.792</td>\n",
       "      <td>1059.6</td>\n",
       "      <td>549.99</td>\n",
       "      <td>114.72</td>\n",
       "      <td>10.606</td>\n",
       "      <td>3.1923</td>\n",
       "      <td>82.670</td>\n",
       "    </tr>\n",
       "    <tr>\n",
       "      <th>4</th>\n",
       "      <td>7.3978</td>\n",
       "      <td>1009.7</td>\n",
       "      <td>95.150</td>\n",
       "      <td>3.4976</td>\n",
       "      <td>19.765</td>\n",
       "      <td>1059.7</td>\n",
       "      <td>549.98</td>\n",
       "      <td>114.72</td>\n",
       "      <td>10.612</td>\n",
       "      <td>3.2484</td>\n",
       "      <td>82.311</td>\n",
       "    </tr>\n",
       "  </tbody>\n",
       "</table>\n",
       "</div>"
      ],
      "text/plain": [
       "       AT      AP      AH    AFDP    GTEP     TIT     TAT     TEY     CDP  \\\n",
       "0  6.8594  1007.9  96.799  3.5000  19.663  1059.2  550.00  114.70  10.605   \n",
       "1  6.7850  1008.4  97.118  3.4998  19.728  1059.3  550.00  114.72  10.598   \n",
       "2  6.8977  1008.8  95.939  3.4824  19.779  1059.4  549.87  114.71  10.601   \n",
       "3  7.0569  1009.2  95.249  3.4805  19.792  1059.6  549.99  114.72  10.606   \n",
       "4  7.3978  1009.7  95.150  3.4976  19.765  1059.7  549.98  114.72  10.612   \n",
       "\n",
       "       CO     NOX  \n",
       "0  3.1547  82.722  \n",
       "1  3.2363  82.776  \n",
       "2  3.2012  82.468  \n",
       "3  3.1923  82.670  \n",
       "4  3.2484  82.311  "
      ]
     },
     "execution_count": 3,
     "metadata": {},
     "output_type": "execute_result"
    }
   ],
   "source": [
    "data.head()"
   ]
  },
  {
   "cell_type": "markdown",
   "id": "edadf5d1",
   "metadata": {},
   "source": [
    "# EDA"
   ]
  },
  {
   "cell_type": "code",
   "execution_count": 4,
   "id": "bd5f6ef7",
   "metadata": {},
   "outputs": [
    {
     "name": "stdout",
     "output_type": "stream",
     "text": [
      "<class 'pandas.core.frame.DataFrame'>\n",
      "RangeIndex: 15039 entries, 0 to 15038\n",
      "Data columns (total 11 columns):\n",
      " #   Column  Non-Null Count  Dtype  \n",
      "---  ------  --------------  -----  \n",
      " 0   AT      15039 non-null  float64\n",
      " 1   AP      15039 non-null  float64\n",
      " 2   AH      15039 non-null  float64\n",
      " 3   AFDP    15039 non-null  float64\n",
      " 4   GTEP    15039 non-null  float64\n",
      " 5   TIT     15039 non-null  float64\n",
      " 6   TAT     15039 non-null  float64\n",
      " 7   TEY     15039 non-null  float64\n",
      " 8   CDP     15039 non-null  float64\n",
      " 9   CO      15039 non-null  float64\n",
      " 10  NOX     15039 non-null  float64\n",
      "dtypes: float64(11)\n",
      "memory usage: 1.3 MB\n"
     ]
    }
   ],
   "source": [
    "data.info()"
   ]
  },
  {
   "cell_type": "code",
   "execution_count": 5,
   "id": "d6c111f2",
   "metadata": {},
   "outputs": [
    {
     "data": {
      "text/plain": [
       "(15039, 11)"
      ]
     },
     "execution_count": 5,
     "metadata": {},
     "output_type": "execute_result"
    }
   ],
   "source": [
    "data.shape"
   ]
  },
  {
   "cell_type": "code",
   "execution_count": 6,
   "id": "d4f707a4",
   "metadata": {},
   "outputs": [
    {
     "data": {
      "text/plain": [
       "AT      0\n",
       "AP      0\n",
       "AH      0\n",
       "AFDP    0\n",
       "GTEP    0\n",
       "TIT     0\n",
       "TAT     0\n",
       "TEY     0\n",
       "CDP     0\n",
       "CO      0\n",
       "NOX     0\n",
       "dtype: int64"
      ]
     },
     "execution_count": 6,
     "metadata": {},
     "output_type": "execute_result"
    }
   ],
   "source": [
    "data.isnull().sum()"
   ]
  },
  {
   "cell_type": "code",
   "execution_count": 7,
   "id": "a8d21931",
   "metadata": {},
   "outputs": [
    {
     "data": {
      "text/plain": [
       "AT      12086\n",
       "AP        540\n",
       "AH      12637\n",
       "AFDP    11314\n",
       "GTEP     8234\n",
       "TIT       706\n",
       "TAT      2340\n",
       "TEY      4207\n",
       "CDP      3611\n",
       "CO      13096\n",
       "NOX     11996\n",
       "dtype: int64"
      ]
     },
     "execution_count": 7,
     "metadata": {},
     "output_type": "execute_result"
    }
   ],
   "source": [
    "data.nunique()"
   ]
  },
  {
   "cell_type": "code",
   "execution_count": 8,
   "id": "fe501021",
   "metadata": {},
   "outputs": [
    {
     "data": {
      "text/html": [
       "<div>\n",
       "<style scoped>\n",
       "    .dataframe tbody tr th:only-of-type {\n",
       "        vertical-align: middle;\n",
       "    }\n",
       "\n",
       "    .dataframe tbody tr th {\n",
       "        vertical-align: top;\n",
       "    }\n",
       "\n",
       "    .dataframe thead th {\n",
       "        text-align: right;\n",
       "    }\n",
       "</style>\n",
       "<table border=\"1\" class=\"dataframe\">\n",
       "  <thead>\n",
       "    <tr style=\"text-align: right;\">\n",
       "      <th></th>\n",
       "      <th>AT</th>\n",
       "      <th>AP</th>\n",
       "      <th>AH</th>\n",
       "      <th>AFDP</th>\n",
       "      <th>GTEP</th>\n",
       "      <th>TIT</th>\n",
       "      <th>TAT</th>\n",
       "      <th>TEY</th>\n",
       "      <th>CDP</th>\n",
       "      <th>CO</th>\n",
       "      <th>NOX</th>\n",
       "    </tr>\n",
       "  </thead>\n",
       "  <tbody>\n",
       "    <tr>\n",
       "      <th>count</th>\n",
       "      <td>15039.000000</td>\n",
       "      <td>15039.00000</td>\n",
       "      <td>15039.000000</td>\n",
       "      <td>15039.000000</td>\n",
       "      <td>15039.000000</td>\n",
       "      <td>15039.000000</td>\n",
       "      <td>15039.000000</td>\n",
       "      <td>15039.000000</td>\n",
       "      <td>15039.000000</td>\n",
       "      <td>15039.000000</td>\n",
       "      <td>15039.000000</td>\n",
       "    </tr>\n",
       "    <tr>\n",
       "      <th>mean</th>\n",
       "      <td>17.764381</td>\n",
       "      <td>1013.19924</td>\n",
       "      <td>79.124174</td>\n",
       "      <td>4.200294</td>\n",
       "      <td>25.419061</td>\n",
       "      <td>1083.798770</td>\n",
       "      <td>545.396183</td>\n",
       "      <td>134.188464</td>\n",
       "      <td>12.102353</td>\n",
       "      <td>1.972499</td>\n",
       "      <td>68.190934</td>\n",
       "    </tr>\n",
       "    <tr>\n",
       "      <th>std</th>\n",
       "      <td>7.574323</td>\n",
       "      <td>6.41076</td>\n",
       "      <td>13.793439</td>\n",
       "      <td>0.760197</td>\n",
       "      <td>4.173916</td>\n",
       "      <td>16.527806</td>\n",
       "      <td>7.866803</td>\n",
       "      <td>15.829717</td>\n",
       "      <td>1.103196</td>\n",
       "      <td>2.222206</td>\n",
       "      <td>10.470586</td>\n",
       "    </tr>\n",
       "    <tr>\n",
       "      <th>min</th>\n",
       "      <td>0.522300</td>\n",
       "      <td>985.85000</td>\n",
       "      <td>30.344000</td>\n",
       "      <td>2.087400</td>\n",
       "      <td>17.878000</td>\n",
       "      <td>1000.800000</td>\n",
       "      <td>512.450000</td>\n",
       "      <td>100.170000</td>\n",
       "      <td>9.904400</td>\n",
       "      <td>0.000388</td>\n",
       "      <td>27.765000</td>\n",
       "    </tr>\n",
       "    <tr>\n",
       "      <th>25%</th>\n",
       "      <td>11.408000</td>\n",
       "      <td>1008.90000</td>\n",
       "      <td>69.750000</td>\n",
       "      <td>3.723900</td>\n",
       "      <td>23.294000</td>\n",
       "      <td>1079.600000</td>\n",
       "      <td>542.170000</td>\n",
       "      <td>127.985000</td>\n",
       "      <td>11.622000</td>\n",
       "      <td>0.858055</td>\n",
       "      <td>61.303500</td>\n",
       "    </tr>\n",
       "    <tr>\n",
       "      <th>50%</th>\n",
       "      <td>18.186000</td>\n",
       "      <td>1012.80000</td>\n",
       "      <td>82.266000</td>\n",
       "      <td>4.186200</td>\n",
       "      <td>25.082000</td>\n",
       "      <td>1088.700000</td>\n",
       "      <td>549.890000</td>\n",
       "      <td>133.780000</td>\n",
       "      <td>12.025000</td>\n",
       "      <td>1.390200</td>\n",
       "      <td>66.601000</td>\n",
       "    </tr>\n",
       "    <tr>\n",
       "      <th>75%</th>\n",
       "      <td>23.862500</td>\n",
       "      <td>1016.90000</td>\n",
       "      <td>90.043500</td>\n",
       "      <td>4.550900</td>\n",
       "      <td>27.184000</td>\n",
       "      <td>1096.000000</td>\n",
       "      <td>550.060000</td>\n",
       "      <td>140.895000</td>\n",
       "      <td>12.578000</td>\n",
       "      <td>2.160400</td>\n",
       "      <td>73.935500</td>\n",
       "    </tr>\n",
       "    <tr>\n",
       "      <th>max</th>\n",
       "      <td>34.929000</td>\n",
       "      <td>1034.20000</td>\n",
       "      <td>100.200000</td>\n",
       "      <td>7.610600</td>\n",
       "      <td>37.402000</td>\n",
       "      <td>1100.800000</td>\n",
       "      <td>550.610000</td>\n",
       "      <td>174.610000</td>\n",
       "      <td>15.081000</td>\n",
       "      <td>44.103000</td>\n",
       "      <td>119.890000</td>\n",
       "    </tr>\n",
       "  </tbody>\n",
       "</table>\n",
       "</div>"
      ],
      "text/plain": [
       "                 AT           AP            AH          AFDP          GTEP  \\\n",
       "count  15039.000000  15039.00000  15039.000000  15039.000000  15039.000000   \n",
       "mean      17.764381   1013.19924     79.124174      4.200294     25.419061   \n",
       "std        7.574323      6.41076     13.793439      0.760197      4.173916   \n",
       "min        0.522300    985.85000     30.344000      2.087400     17.878000   \n",
       "25%       11.408000   1008.90000     69.750000      3.723900     23.294000   \n",
       "50%       18.186000   1012.80000     82.266000      4.186200     25.082000   \n",
       "75%       23.862500   1016.90000     90.043500      4.550900     27.184000   \n",
       "max       34.929000   1034.20000    100.200000      7.610600     37.402000   \n",
       "\n",
       "                TIT           TAT           TEY           CDP            CO  \\\n",
       "count  15039.000000  15039.000000  15039.000000  15039.000000  15039.000000   \n",
       "mean    1083.798770    545.396183    134.188464     12.102353      1.972499   \n",
       "std       16.527806      7.866803     15.829717      1.103196      2.222206   \n",
       "min     1000.800000    512.450000    100.170000      9.904400      0.000388   \n",
       "25%     1079.600000    542.170000    127.985000     11.622000      0.858055   \n",
       "50%     1088.700000    549.890000    133.780000     12.025000      1.390200   \n",
       "75%     1096.000000    550.060000    140.895000     12.578000      2.160400   \n",
       "max     1100.800000    550.610000    174.610000     15.081000     44.103000   \n",
       "\n",
       "                NOX  \n",
       "count  15039.000000  \n",
       "mean      68.190934  \n",
       "std       10.470586  \n",
       "min       27.765000  \n",
       "25%       61.303500  \n",
       "50%       66.601000  \n",
       "75%       73.935500  \n",
       "max      119.890000  "
      ]
     },
     "execution_count": 8,
     "metadata": {},
     "output_type": "execute_result"
    }
   ],
   "source": [
    "data.describe()"
   ]
  },
  {
   "cell_type": "code",
   "execution_count": 9,
   "id": "166e2c28",
   "metadata": {},
   "outputs": [
    {
     "data": {
      "text/plain": [
       "(0, 11)"
      ]
     },
     "execution_count": 9,
     "metadata": {},
     "output_type": "execute_result"
    }
   ],
   "source": [
    "\n",
    "data[data.duplicated()].shape"
   ]
  },
  {
   "cell_type": "code",
   "execution_count": 10,
   "id": "96ea177b",
   "metadata": {},
   "outputs": [
    {
     "data": {
      "text/html": [
       "<div>\n",
       "<style scoped>\n",
       "    .dataframe tbody tr th:only-of-type {\n",
       "        vertical-align: middle;\n",
       "    }\n",
       "\n",
       "    .dataframe tbody tr th {\n",
       "        vertical-align: top;\n",
       "    }\n",
       "\n",
       "    .dataframe thead th {\n",
       "        text-align: right;\n",
       "    }\n",
       "</style>\n",
       "<table border=\"1\" class=\"dataframe\">\n",
       "  <thead>\n",
       "    <tr style=\"text-align: right;\">\n",
       "      <th></th>\n",
       "      <th>AT</th>\n",
       "      <th>AP</th>\n",
       "      <th>AH</th>\n",
       "      <th>AFDP</th>\n",
       "      <th>GTEP</th>\n",
       "      <th>TIT</th>\n",
       "      <th>TAT</th>\n",
       "      <th>TEY</th>\n",
       "      <th>CDP</th>\n",
       "      <th>CO</th>\n",
       "      <th>NOX</th>\n",
       "    </tr>\n",
       "  </thead>\n",
       "  <tbody>\n",
       "  </tbody>\n",
       "</table>\n",
       "</div>"
      ],
      "text/plain": [
       "Empty DataFrame\n",
       "Columns: [AT, AP, AH, AFDP, GTEP, TIT, TAT, TEY, CDP, CO, NOX]\n",
       "Index: []"
      ]
     },
     "execution_count": 10,
     "metadata": {},
     "output_type": "execute_result"
    }
   ],
   "source": [
    "data[data.duplicated()]"
   ]
  },
  {
   "cell_type": "code",
   "execution_count": 11,
   "id": "13904e50",
   "metadata": {},
   "outputs": [
    {
     "data": {
      "text/plain": [
       "TEY     1.000000\n",
       "CDP     0.988473\n",
       "GTEP    0.977042\n",
       "TIT     0.891587\n",
       "AFDP    0.717995\n",
       "AP      0.146939\n",
       "NOX    -0.102631\n",
       "AH     -0.110272\n",
       "AT     -0.207495\n",
       "CO     -0.541751\n",
       "TAT    -0.720356\n",
       "Name: TEY, dtype: float64"
      ]
     },
     "execution_count": 11,
     "metadata": {},
     "output_type": "execute_result"
    }
   ],
   "source": [
    "data.corr()[\"TEY\"].sort_values(ascending=False)"
   ]
  },
  {
   "cell_type": "code",
   "execution_count": 12,
   "id": "14afbb15",
   "metadata": {},
   "outputs": [
    {
     "data": {
      "text/plain": [
       "Index(['AT', 'AP', 'AH', 'AFDP', 'GTEP', 'TIT', 'TAT', 'TEY', 'CDP', 'CO',\n",
       "       'NOX'],\n",
       "      dtype='object')"
      ]
     },
     "execution_count": 12,
     "metadata": {},
     "output_type": "execute_result"
    }
   ],
   "source": [
    "numerical_features = data.describe(include=[\"int64\",\"float64\"]).columns\n",
    "numerical_features                                      # knowing the numerical colums,may require ahead."
   ]
  },
  {
   "cell_type": "code",
   "execution_count": 13,
   "id": "b1545a78",
   "metadata": {},
   "outputs": [
    {
     "data": {
      "text/plain": [
       "AT     -0.030710\n",
       "AP      0.107601\n",
       "AH     -0.681224\n",
       "AFDP    0.315150\n",
       "GTEP    0.370987\n",
       "TIT    -1.133744\n",
       "TAT    -1.485524\n",
       "TEY     0.145963\n",
       "CDP     0.263042\n",
       "CO      6.534577\n",
       "NOX     1.126605\n",
       "dtype: float64"
      ]
     },
     "execution_count": 13,
     "metadata": {},
     "output_type": "execute_result"
    }
   ],
   "source": [
    "data.skew(axis = 0, skipna = True) # skewness of each variable.(all variables are numeric)"
   ]
  },
  {
   "cell_type": "markdown",
   "id": "7efdbe80",
   "metadata": {},
   "source": [
    "Observation :The features AH, CO, TIT and TATa exhibit the highest skew coefficients. Moreover, the distribution of CO,TIT,TAT seem to contain many outliers."
   ]
  },
  {
   "cell_type": "markdown",
   "id": "ffcfd1c9",
   "metadata": {},
   "source": [
    "# Visualization"
   ]
  },
  {
   "cell_type": "code",
   "execution_count": 14,
   "id": "5e421e2b",
   "metadata": {},
   "outputs": [
    {
     "data": {
      "text/plain": [
       "<AxesSubplot:ylabel='Frequency'>"
      ]
     },
     "execution_count": 14,
     "metadata": {},
     "output_type": "execute_result"
    },
    {
     "data": {
      "image/png": "[encoded data removed]",
      "text/plain": [
       "<Figure size 432x288 with 1 Axes>"
      ]
     },
     "metadata": {},
     "output_type": "display_data"
    }
   ],
   "source": [
    "data['AT'].plot(kind='hist')"
   ]
  },
  {
   "cell_type": "code",
   "execution_count": 15,
   "id": "f827370f",
   "metadata": {},
   "outputs": [
    {
     "data": {
      "text/plain": [
       "<AxesSubplot:ylabel='Frequency'>"
      ]
     },
     "execution_count": 15,
     "metadata": {},
     "output_type": "execute_result"
    },
    {
     "data": {
      "image/png": "[encoded data removed]",
      "text/plain": [
       "<Figure size 432x288 with 1 Axes>"
      ]
     },
     "metadata": {},
     "output_type": "display_data"
    }
   ],
   "source": [
    "data['AP'].plot(kind='hist')"
   ]
  },
  {
   "cell_type": "code",
   "execution_count": 16,
   "id": "a2d5628a",
   "metadata": {},
   "outputs": [
    {
     "data": {
      "text/plain": [
       "<AxesSubplot:ylabel='Frequency'>"
      ]
     },
     "execution_count": 16,
     "metadata": {},
     "output_type": "execute_result"
    },
    {
     "data": {
      "image/png": "[encoded data removed]",
      "text/plain": [
       "<Figure size 432x288 with 1 Axes>"
      ]
     },
     "metadata": {},
     "output_type": "display_data"
    }
   ],
   "source": [
    "data['AH'].plot(kind='hist')"
   ]
  },
  {
   "cell_type": "code",
   "execution_count": 17,
   "id": "a5da10d7",
   "metadata": {},
   "outputs": [
    {
     "data": {
      "text/plain": [
       "<AxesSubplot:ylabel='Frequency'>"
      ]
     },
     "execution_count": 17,
     "metadata": {},
     "output_type": "execute_result"
    },
    {
     "data": {
      "image/png": "[encoded data removed]",
      "text/plain": [
       "<Figure size 432x288 with 1 Axes>"
      ]
     },
     "metadata": {},
     "output_type": "display_data"
    }
   ],
   "source": [
    "data['AFDP'].plot(kind='hist')"
   ]
  },
  {
   "cell_type": "code",
   "execution_count": 18,
   "id": "7ebe756f",
   "metadata": {},
   "outputs": [
    {
     "data": {
      "text/plain": [
       "<AxesSubplot:ylabel='Frequency'>"
      ]
     },
     "execution_count": 18,
     "metadata": {},
     "output_type": "execute_result"
    },
    {
     "data": {
      "image/png": "[encoded data removed]",
      "text/plain": [
       "<Figure size 432x288 with 1 Axes>"
      ]
     },
     "metadata": {},
     "output_type": "display_data"
    }
   ],
   "source": [
    "data['TIT'].plot(kind='hist')"
   ]
  },
  {
   "cell_type": "code",
   "execution_count": 19,
   "id": "f16b11ab",
   "metadata": {},
   "outputs": [
    {
     "data": {
      "text/plain": [
       "<AxesSubplot:ylabel='Frequency'>"
      ]
     },
     "execution_count": 19,
     "metadata": {},
     "output_type": "execute_result"
    },
    {
     "data": {
      "image/png": "[encoded data removed]",
      "text/plain": [
       "<Figure size 432x288 with 1 Axes>"
      ]
     },
     "metadata": {},
     "output_type": "display_data"
    }
   ],
   "source": [
    "data['TAT'].plot(kind='hist')"
   ]
  },
  {
   "cell_type": "code",
   "execution_count": 20,
   "id": "4278d0cd",
   "metadata": {},
   "outputs": [
    {
     "data": {
      "text/plain": [
       "<AxesSubplot:ylabel='Frequency'>"
      ]
     },
     "execution_count": 20,
     "metadata": {},
     "output_type": "execute_result"
    },
    {
     "data": {
      "image/png": "[encoded data removed]",
      "text/plain": [
       "<Figure size 432x288 with 1 Axes>"
      ]
     },
     "metadata": {},
     "output_type": "display_data"
    }
   ],
   "source": [
    "data['CDP'].plot(kind='hist')"
   ]
  },
  {
   "cell_type": "code",
   "execution_count": 21,
   "id": "6ea6a365",
   "metadata": {},
   "outputs": [
    {
     "data": {
      "text/plain": [
       "<AxesSubplot:ylabel='Frequency'>"
      ]
     },
     "execution_count": 21,
     "metadata": {},
     "output_type": "execute_result"
    },
    {
     "data": {
      "image/png": "[encoded data removed]",
      "text/plain": [
       "<Figure size 432x288 with 1 Axes>"
      ]
     },
     "metadata": {},
     "output_type": "display_data"
    }
   ],
   "source": [
    "data['CO'].plot(kind='hist')"
   ]
  },
  {
   "cell_type": "code",
   "execution_count": 22,
   "id": "0531d257",
   "metadata": {},
   "outputs": [
    {
     "data": {
      "text/plain": [
       "<AxesSubplot:ylabel='Frequency'>"
      ]
     },
     "execution_count": 22,
     "metadata": {},
     "output_type": "execute_result"
    },
    {
     "data": {
      "image/png": "[encoded data removed]",
      "text/plain": [
       "<Figure size 432x288 with 1 Axes>"
      ]
     },
     "metadata": {},
     "output_type": "display_data"
    }
   ],
   "source": [
    "data['NOX'].plot(kind='hist')"
   ]
  },
  {
   "cell_type": "code",
   "execution_count": 23,
   "id": "168379de",
   "metadata": {},
   "outputs": [
    {
     "data": {
      "text/plain": [
       "<AxesSubplot:>"
      ]
     },
     "execution_count": 23,
     "metadata": {},
     "output_type": "execute_result"
    },
    {
     "data": {
      "image/png": "[encoded data removed]",
      "text/plain": [
       "<Figure size 1440x1152 with 1 Axes>"
      ]
     },
     "metadata": {},
     "output_type": "display_data"
    }
   ],
   "source": [
    "plt.figure(figsize=(20,16))    # Find the outliers\n",
    "sns.boxplot(data=data[numerical_features], orient=\"h\")"
   ]
  },
  {
   "cell_type": "code",
   "execution_count": 24,
   "id": "ac829cd2",
   "metadata": {},
   "outputs": [
    {
     "data": {
      "text/plain": [
       "Text(0.5, 1.0, 'Histogram of the Target variable')"
      ]
     },
     "execution_count": 24,
     "metadata": {},
     "output_type": "execute_result"
    },
    {
     "data": {
      "image/png": "[encoded data removed]",
      "text/plain": [
       "<Figure size 864x720 with 1 Axes>"
      ]
     },
     "metadata": {},
     "output_type": "display_data"
    }
   ],
   "source": [
    "sns.set_style(\"darkgrid\")\n",
    "plt.figure(figsize=(12,10))\n",
    "sns.histplot(data=data,x=\"TEY\",color=\"blue\",kde=True)\n",
    "plt.axvline(x=data[\"TEY\"].mean(),ymax=0.55,color=\"red\",linestyle='--',label=\"Mean\")\n",
    "plt.axvline(x=data[\"TEY\"].median(),ymax=0.56,color=\"yellow\",linestyle='--',label=\"Median\")\n",
    "plt.legend()\n",
    "plt.title(\"Histogram of the Target variable\")"
   ]
  },
  {
   "cell_type": "code",
   "execution_count": 25,
   "id": "5c44dc31",
   "metadata": {},
   "outputs": [
    {
     "data": {
      "text/plain": [
       "Text(0.5, 1.0, 'Cumulative of the Target variable')"
      ]
     },
     "execution_count": 25,
     "metadata": {},
     "output_type": "execute_result"
    },
    {
     "data": {
      "image/png": "[encoded data removed]",
      "text/plain": [
       "<Figure size 864x720 with 1 Axes>"
      ]
     },
     "metadata": {},
     "output_type": "display_data"
    }
   ],
   "source": [
    "plt.figure(figsize = (12,10))\n",
    "sns.histplot(data[\"TEY\"],kde=True,bins=40,color=\"blue\",cumulative=True)\n",
    "plt.title(\"Cumulative of the Target variable\")"
   ]
  },
  {
   "cell_type": "markdown",
   "id": "8b7aa263",
   "metadata": {},
   "source": [
    "Features are mostly not on a same scale(we've seen in histogram & Boxplots),Lets check their collinarity with Target variable first through scatter plot."
   ]
  },
  {
   "cell_type": "code",
   "execution_count": 26,
   "id": "a5fd5a27",
   "metadata": {},
   "outputs": [
    {
     "data": {
      "text/plain": [
       "<matplotlib.collections.PathCollection at 0x13e7b9ae190>"
      ]
     },
     "execution_count": 26,
     "metadata": {},
     "output_type": "execute_result"
    },
    {
     "data": {
      "image/png": "[encoded data removed]",
      "text/plain": [
       "<Figure size 432x288 with 1 Axes>"
      ]
     },
     "metadata": {},
     "output_type": "display_data"
    }
   ],
   "source": [
    "plt.scatter(x=\"CDP\",y=\"TEY\",data=data) #  CDP vs TEY linerly co-related"
   ]
  },
  {
   "cell_type": "code",
   "execution_count": 27,
   "id": "b75b26c6",
   "metadata": {},
   "outputs": [
    {
     "data": {
      "text/plain": [
       "<matplotlib.collections.PathCollection at 0x13e7bbff820>"
      ]
     },
     "execution_count": 27,
     "metadata": {},
     "output_type": "execute_result"
    },
    {
     "data": {
      "image/png": "[encoded data removed]",
      "text/plain": [
       "<Figure size 432x288 with 1 Axes>"
      ]
     },
     "metadata": {},
     "output_type": "display_data"
    }
   ],
   "source": [
    "plt.scatter(x=\"AT\",y=\"TEY\",data=data) # AT vs TEY"
   ]
  },
  {
   "cell_type": "code",
   "execution_count": 28,
   "id": "b0633d81",
   "metadata": {},
   "outputs": [
    {
     "data": {
      "text/plain": [
       "<matplotlib.collections.PathCollection at 0x13e7bc79fd0>"
      ]
     },
     "execution_count": 28,
     "metadata": {},
     "output_type": "execute_result"
    },
    {
     "data": {
      "image/png": "[encoded data removed]",
      "text/plain": [
       "<Figure size 432x288 with 1 Axes>"
      ]
     },
     "metadata": {},
     "output_type": "display_data"
    }
   ],
   "source": [
    "plt.scatter(x=\"GTEP\",y=\"TEY\",data=data) # GTEP vs TEY linerly co-related"
   ]
  },
  {
   "cell_type": "code",
   "execution_count": 29,
   "id": "9b1eb7eb",
   "metadata": {},
   "outputs": [
    {
     "data": {
      "text/plain": [
       "<matplotlib.collections.PathCollection at 0x13e7bcea940>"
      ]
     },
     "execution_count": 29,
     "metadata": {},
     "output_type": "execute_result"
    },
    {
     "data": {
      "image/png": "[encoded data removed]",
      "text/plain": [
       "<Figure size 432x288 with 1 Axes>"
      ]
     },
     "metadata": {},
     "output_type": "display_data"
    }
   ],
   "source": [
    "plt.scatter(x=\"AP\",y=\"TEY\",data=data) # AP vs TEY"
   ]
  },
  {
   "cell_type": "code",
   "execution_count": 30,
   "id": "76dee134",
   "metadata": {},
   "outputs": [
    {
     "data": {
      "text/plain": [
       "<matplotlib.collections.PathCollection at 0x13e7bd4bdf0>"
      ]
     },
     "execution_count": 30,
     "metadata": {},
     "output_type": "execute_result"
    },
    {
     "data": {
      "image/png": "[encoded data removed]",
      "text/plain": [
       "<Figure size 432x288 with 1 Axes>"
      ]
     },
     "metadata": {},
     "output_type": "display_data"
    }
   ],
   "source": [
    "plt.scatter(x=\"AH\",y=\"TEY\",data=data) # AH vs TEY"
   ]
  },
  {
   "cell_type": "code",
   "execution_count": 31,
   "id": "5cce2f4c",
   "metadata": {},
   "outputs": [
    {
     "data": {
      "text/plain": [
       "<matplotlib.collections.PathCollection at 0x13e7cd90370>"
      ]
     },
     "execution_count": 31,
     "metadata": {},
     "output_type": "execute_result"
    },
    {
     "data": {
      "image/png": "[encoded data removed]",
      "text/plain": [
       "<Figure size 432x288 with 1 Axes>"
      ]
     },
     "metadata": {},
     "output_type": "display_data"
    }
   ],
   "source": [
    "plt.scatter(x=\"AFDP\",y=\"TEY\",data=data)  # AFDP vs TEY"
   ]
  },
  {
   "cell_type": "code",
   "execution_count": 32,
   "id": "3febbded",
   "metadata": {},
   "outputs": [
    {
     "data": {
      "text/plain": [
       "<matplotlib.collections.PathCollection at 0x13e7bcaebe0>"
      ]
     },
     "execution_count": 32,
     "metadata": {},
     "output_type": "execute_result"
    },
    {
     "data": {
      "image/png": "[encoded data removed]",
      "text/plain": [
       "<Figure size 432x288 with 1 Axes>"
      ]
     },
     "metadata": {},
     "output_type": "display_data"
    }
   ],
   "source": [
    "plt.scatter(x=\"TIT\",y=\"TEY\",data=data)    # TIT vs TEY"
   ]
  },
  {
   "cell_type": "code",
   "execution_count": 33,
   "id": "b7c76d18",
   "metadata": {},
   "outputs": [
    {
     "data": {
      "text/plain": [
       "<matplotlib.collections.PathCollection at 0x13e7ce59730>"
      ]
     },
     "execution_count": 33,
     "metadata": {},
     "output_type": "execute_result"
    },
    {
     "data": {
      "image/png": "[encoded data removed]",
      "text/plain": [
       "<Figure size 432x288 with 1 Axes>"
      ]
     },
     "metadata": {},
     "output_type": "display_data"
    }
   ],
   "source": [
    "plt.scatter(x=\"TAT\",y=\"TEY\",data=data)   # TAT vs TEY"
   ]
  },
  {
   "cell_type": "code",
   "execution_count": 34,
   "id": "636502e2",
   "metadata": {},
   "outputs": [
    {
     "data": {
      "text/plain": [
       "<matplotlib.collections.PathCollection at 0x13e7cec0dc0>"
      ]
     },
     "execution_count": 34,
     "metadata": {},
     "output_type": "execute_result"
    },
    {
     "data": {
      "image/png": "[encoded data removed]",
      "text/plain": [
       "<Figure size 432x288 with 1 Axes>"
      ]
     },
     "metadata": {},
     "output_type": "display_data"
    }
   ],
   "source": [
    "plt.scatter(x=\"CO\",y=\"TEY\",data=data)    # CO vs TEY"
   ]
  },
  {
   "cell_type": "code",
   "execution_count": 35,
   "id": "861b59ef",
   "metadata": {},
   "outputs": [
    {
     "data": {
      "text/plain": [
       "<matplotlib.collections.PathCollection at 0x13e7cee5bb0>"
      ]
     },
     "execution_count": 35,
     "metadata": {},
     "output_type": "execute_result"
    },
    {
     "data": {
      "image/png": "[encoded data removed]",
      "text/plain": [
       "<Figure size 432x288 with 1 Axes>"
      ]
     },
     "metadata": {},
     "output_type": "display_data"
    }
   ],
   "source": [
    "plt.scatter(x=\"NOX\",y=\"TEY\",data=data)    # NOX vs TEY"
   ]
  },
  {
   "cell_type": "markdown",
   "id": "848f54df",
   "metadata": {},
   "source": [
    "# Correlation"
   ]
  },
  {
   "cell_type": "code",
   "execution_count": 36,
   "id": "e51a20b2",
   "metadata": {},
   "outputs": [
    {
     "data": {
      "text/html": [
       "<div>\n",
       "<style scoped>\n",
       "    .dataframe tbody tr th:only-of-type {\n",
       "        vertical-align: middle;\n",
       "    }\n",
       "\n",
       "    .dataframe tbody tr th {\n",
       "        vertical-align: top;\n",
       "    }\n",
       "\n",
       "    .dataframe thead th {\n",
       "        text-align: right;\n",
       "    }\n",
       "</style>\n",
       "<table border=\"1\" class=\"dataframe\">\n",
       "  <thead>\n",
       "    <tr style=\"text-align: right;\">\n",
       "      <th></th>\n",
       "      <th>AT</th>\n",
       "      <th>AP</th>\n",
       "      <th>AH</th>\n",
       "      <th>AFDP</th>\n",
       "      <th>GTEP</th>\n",
       "      <th>TIT</th>\n",
       "      <th>TAT</th>\n",
       "      <th>TEY</th>\n",
       "      <th>CDP</th>\n",
       "      <th>CO</th>\n",
       "      <th>NOX</th>\n",
       "    </tr>\n",
       "  </thead>\n",
       "  <tbody>\n",
       "    <tr>\n",
       "      <th>AT</th>\n",
       "      <td>1.000000</td>\n",
       "      <td>-0.412953</td>\n",
       "      <td>-0.549432</td>\n",
       "      <td>-0.099333</td>\n",
       "      <td>-0.049103</td>\n",
       "      <td>0.093067</td>\n",
       "      <td>0.338569</td>\n",
       "      <td>-0.207495</td>\n",
       "      <td>-0.100705</td>\n",
       "      <td>-0.088588</td>\n",
       "      <td>-0.600006</td>\n",
       "    </tr>\n",
       "    <tr>\n",
       "      <th>AP</th>\n",
       "      <td>-0.412953</td>\n",
       "      <td>1.000000</td>\n",
       "      <td>0.042573</td>\n",
       "      <td>0.040318</td>\n",
       "      <td>0.078575</td>\n",
       "      <td>0.029650</td>\n",
       "      <td>-0.223479</td>\n",
       "      <td>0.146939</td>\n",
       "      <td>0.131198</td>\n",
       "      <td>0.041614</td>\n",
       "      <td>0.256744</td>\n",
       "    </tr>\n",
       "    <tr>\n",
       "      <th>AH</th>\n",
       "      <td>-0.549432</td>\n",
       "      <td>0.042573</td>\n",
       "      <td>1.000000</td>\n",
       "      <td>-0.119249</td>\n",
       "      <td>-0.202784</td>\n",
       "      <td>-0.247781</td>\n",
       "      <td>0.010859</td>\n",
       "      <td>-0.110272</td>\n",
       "      <td>-0.182010</td>\n",
       "      <td>0.165505</td>\n",
       "      <td>0.143061</td>\n",
       "    </tr>\n",
       "    <tr>\n",
       "      <th>AFDP</th>\n",
       "      <td>-0.099333</td>\n",
       "      <td>0.040318</td>\n",
       "      <td>-0.119249</td>\n",
       "      <td>1.000000</td>\n",
       "      <td>0.744251</td>\n",
       "      <td>0.627254</td>\n",
       "      <td>-0.571541</td>\n",
       "      <td>0.717995</td>\n",
       "      <td>0.727152</td>\n",
       "      <td>-0.334207</td>\n",
       "      <td>-0.037299</td>\n",
       "    </tr>\n",
       "    <tr>\n",
       "      <th>GTEP</th>\n",
       "      <td>-0.049103</td>\n",
       "      <td>0.078575</td>\n",
       "      <td>-0.202784</td>\n",
       "      <td>0.744251</td>\n",
       "      <td>1.000000</td>\n",
       "      <td>0.874526</td>\n",
       "      <td>-0.756884</td>\n",
       "      <td>0.977042</td>\n",
       "      <td>0.993784</td>\n",
       "      <td>-0.508259</td>\n",
       "      <td>-0.208496</td>\n",
       "    </tr>\n",
       "    <tr>\n",
       "      <th>TIT</th>\n",
       "      <td>0.093067</td>\n",
       "      <td>0.029650</td>\n",
       "      <td>-0.247781</td>\n",
       "      <td>0.627254</td>\n",
       "      <td>0.874526</td>\n",
       "      <td>1.000000</td>\n",
       "      <td>-0.357320</td>\n",
       "      <td>0.891587</td>\n",
       "      <td>0.887238</td>\n",
       "      <td>-0.688272</td>\n",
       "      <td>-0.231636</td>\n",
       "    </tr>\n",
       "    <tr>\n",
       "      <th>TAT</th>\n",
       "      <td>0.338569</td>\n",
       "      <td>-0.223479</td>\n",
       "      <td>0.010859</td>\n",
       "      <td>-0.571541</td>\n",
       "      <td>-0.756884</td>\n",
       "      <td>-0.357320</td>\n",
       "      <td>1.000000</td>\n",
       "      <td>-0.720356</td>\n",
       "      <td>-0.744740</td>\n",
       "      <td>0.063404</td>\n",
       "      <td>0.009888</td>\n",
       "    </tr>\n",
       "    <tr>\n",
       "      <th>TEY</th>\n",
       "      <td>-0.207495</td>\n",
       "      <td>0.146939</td>\n",
       "      <td>-0.110272</td>\n",
       "      <td>0.717995</td>\n",
       "      <td>0.977042</td>\n",
       "      <td>0.891587</td>\n",
       "      <td>-0.720356</td>\n",
       "      <td>1.000000</td>\n",
       "      <td>0.988473</td>\n",
       "      <td>-0.541751</td>\n",
       "      <td>-0.102631</td>\n",
       "    </tr>\n",
       "    <tr>\n",
       "      <th>CDP</th>\n",
       "      <td>-0.100705</td>\n",
       "      <td>0.131198</td>\n",
       "      <td>-0.182010</td>\n",
       "      <td>0.727152</td>\n",
       "      <td>0.993784</td>\n",
       "      <td>0.887238</td>\n",
       "      <td>-0.744740</td>\n",
       "      <td>0.988473</td>\n",
       "      <td>1.000000</td>\n",
       "      <td>-0.520783</td>\n",
       "      <td>-0.169103</td>\n",
       "    </tr>\n",
       "    <tr>\n",
       "      <th>CO</th>\n",
       "      <td>-0.088588</td>\n",
       "      <td>0.041614</td>\n",
       "      <td>0.165505</td>\n",
       "      <td>-0.334207</td>\n",
       "      <td>-0.508259</td>\n",
       "      <td>-0.688272</td>\n",
       "      <td>0.063404</td>\n",
       "      <td>-0.541751</td>\n",
       "      <td>-0.520783</td>\n",
       "      <td>1.000000</td>\n",
       "      <td>0.316743</td>\n",
       "    </tr>\n",
       "    <tr>\n",
       "      <th>NOX</th>\n",
       "      <td>-0.600006</td>\n",
       "      <td>0.256744</td>\n",
       "      <td>0.143061</td>\n",
       "      <td>-0.037299</td>\n",
       "      <td>-0.208496</td>\n",
       "      <td>-0.231636</td>\n",
       "      <td>0.009888</td>\n",
       "      <td>-0.102631</td>\n",
       "      <td>-0.169103</td>\n",
       "      <td>0.316743</td>\n",
       "      <td>1.000000</td>\n",
       "    </tr>\n",
       "  </tbody>\n",
       "</table>\n",
       "</div>"
      ],
      "text/plain": [
       "            AT        AP        AH      AFDP      GTEP       TIT       TAT  \\\n",
       "AT    1.000000 -0.412953 -0.549432 -0.099333 -0.049103  0.093067  0.338569   \n",
       "AP   -0.412953  1.000000  0.042573  0.040318  0.078575  0.029650 -0.223479   \n",
       "AH   -0.549432  0.042573  1.000000 -0.119249 -0.202784 -0.247781  0.010859   \n",
       "AFDP -0.099333  0.040318 -0.119249  1.000000  0.744251  0.627254 -0.571541   \n",
       "GTEP -0.049103  0.078575 -0.202784  0.744251  1.000000  0.874526 -0.756884   \n",
       "TIT   0.093067  0.029650 -0.247781  0.627254  0.874526  1.000000 -0.357320   \n",
       "TAT   0.338569 -0.223479  0.010859 -0.571541 -0.756884 -0.357320  1.000000   \n",
       "TEY  -0.207495  0.146939 -0.110272  0.717995  0.977042  0.891587 -0.720356   \n",
       "CDP  -0.100705  0.131198 -0.182010  0.727152  0.993784  0.887238 -0.744740   \n",
       "CO   -0.088588  0.041614  0.165505 -0.334207 -0.508259 -0.688272  0.063404   \n",
       "NOX  -0.600006  0.256744  0.143061 -0.037299 -0.208496 -0.231636  0.009888   \n",
       "\n",
       "           TEY       CDP        CO       NOX  \n",
       "AT   -0.207495 -0.100705 -0.088588 -0.600006  \n",
       "AP    0.146939  0.131198  0.041614  0.256744  \n",
       "AH   -0.110272 -0.182010  0.165505  0.143061  \n",
       "AFDP  0.717995  0.727152 -0.334207 -0.037299  \n",
       "GTEP  0.977042  0.993784 -0.508259 -0.208496  \n",
       "TIT   0.891587  0.887238 -0.688272 -0.231636  \n",
       "TAT  -0.720356 -0.744740  0.063404  0.009888  \n",
       "TEY   1.000000  0.988473 -0.541751 -0.102631  \n",
       "CDP   0.988473  1.000000 -0.520783 -0.169103  \n",
       "CO   -0.541751 -0.520783  1.000000  0.316743  \n",
       "NOX  -0.102631 -0.169103  0.316743  1.000000  "
      ]
     },
     "execution_count": 36,
     "metadata": {},
     "output_type": "execute_result"
    }
   ],
   "source": [
    "corr=data.corr()\n",
    "corr"
   ]
  },
  {
   "cell_type": "code",
   "execution_count": 37,
   "id": "132780f2",
   "metadata": {},
   "outputs": [
    {
     "data": {
      "text/plain": [
       "<AxesSubplot:>"
      ]
     },
     "execution_count": 37,
     "metadata": {},
     "output_type": "execute_result"
    },
    {
     "data": {
      "image/png": "[encoded data removed]",
      "text/plain": [
       "<Figure size 1080x504 with 2 Axes>"
      ]
     },
     "metadata": {},
     "output_type": "display_data"
    }
   ],
   "source": [
    "plt.figure(figsize=(15,7))\n",
    "sns.heatmap(data.corr(),annot=True,cmap='plasma')     # Heat map correlation"
   ]
  },
  {
   "cell_type": "code",
   "execution_count": 38,
   "id": "c30a6663",
   "metadata": {},
   "outputs": [
    {
     "data": {
      "text/plain": [
       "<AxesSubplot:>"
      ]
     },
     "execution_count": 38,
     "metadata": {},
     "output_type": "execute_result"
    },
    {
     "data": {
      "image/png": "[encoded data removed]",
      "text/plain": [
       "<Figure size 1152x864 with 2 Axes>"
      ]
     },
     "metadata": {},
     "output_type": "display_data"
    }
   ],
   "source": [
    "# Heatmap - Correlation matrix\n",
    "plt.figure(figsize=(16,12))\n",
    "mask = np.zeros_like(data.corr(), dtype=np.bool)\n",
    "mask[np.triu_indices_from(mask)] = True\n",
    "sns.heatmap(data=data.corr(), cmap=\"jet\", annot=True,linewidths=1, linecolor='white',mask=mask)"
   ]
  },
  {
   "cell_type": "code",
   "execution_count": 39,
   "id": "1e8d475a",
   "metadata": {},
   "outputs": [
    {
     "name": "stdout",
     "output_type": "stream",
     "text": [
      "The dataset contains 1543 observations with more than 2 outliers\n"
     ]
    }
   ],
   "source": [
    "# Detect observations with more than one outlier\n",
    "\n",
    "def outlier_hunt(df):\n",
    "    \"\"\"\n",
    "    Takes a dataframe df of features and returns a list of the indices\n",
    "    corresponding to the observations containing more than 2 outliers. \n",
    "    \"\"\"\n",
    "    outlier_indices = []\n",
    "    \n",
    "    # iterate over features(columns)\n",
    "    for col in df.columns.tolist():\n",
    "        # 1st quartile (25%)\n",
    "        Q1 = np.percentile(df[col], 25)\n",
    "        \n",
    "        # 3rd quartile (75%)\n",
    "        Q3 = np.percentile(df[col],75)\n",
    "        \n",
    "        # Interquartile rrange (IQR)\n",
    "        IQR = Q3 - Q1\n",
    "        \n",
    "        # outlier step\n",
    "        outlier_step = 1.5 * IQR\n",
    "        \n",
    "        # Determine a list of indices of outliers for feature col\n",
    "        outlier_list_col = data[(data[col] < Q1 - outlier_step) | (data[col] > Q3 + outlier_step )].index\n",
    "        \n",
    "        # append the found outlier indices for col to the list of outlier indices \n",
    "        outlier_indices.extend(outlier_list_col)\n",
    "        \n",
    "    # select observations containing more than 2 outliers\n",
    "    outlier_indices = Counter(outlier_indices)        \n",
    "    multiple_outliers = list( k for k, v in outlier_indices.items() if v > 2 )\n",
    "    \n",
    "    return multiple_outliers   \n",
    "\n",
    "print('The dataset contains %d observations with more than 2 outliers' %(len(outlier_hunt(data[numerical_features])))) \n"
   ]
  },
  {
   "cell_type": "code",
   "execution_count": 40,
   "id": "15dcb181",
   "metadata": {},
   "outputs": [
    {
     "data": {
      "image/png": "[encoded data removed]",
      "text/plain": [
       "<Figure size 1008x1152 with 11 Axes>"
      ]
     },
     "metadata": {},
     "output_type": "display_data"
    }
   ],
   "source": [
    "viz=data.copy() \n",
    "fig, axes=plt.subplots(11,1,figsize=(14,16),sharex=False,sharey=False)\n",
    "sns.boxplot(x='AT',data=data,palette='crest',ax=axes[0])\n",
    "sns.boxplot(x='AP',data=data,palette='crest',ax=axes[1])\n",
    "sns.boxplot(x='AH',data=data,palette='crest',ax=axes[2])\n",
    "sns.boxplot(x='AFDP',data=data,palette='crest',ax=axes[3])\n",
    "sns.boxplot(x='GTEP',data=data,palette='crest',ax=axes[4])\n",
    "sns.boxplot(x='TIT',data=data,palette='crest',ax=axes[5])\n",
    "sns.boxplot(x='TAT',data=data,palette='crest',ax=axes[6])\n",
    "sns.boxplot(x='TEY',data=data,palette='crest',ax=axes[7])\n",
    "sns.boxplot(x='CDP',data=data,palette='crest',ax=axes[8])\n",
    "sns.boxplot(x='CO',data=data,palette='crest',ax=axes[9])\n",
    "sns.boxplot(x='NOX',data=data,palette='crest',ax=axes[10])\n",
    "plt.tight_layout(pad=2.0)"
   ]
  },
  {
   "cell_type": "markdown",
   "id": "d3063110",
   "metadata": {},
   "source": [
    "# Assigning the dataset into x & y variable"
   ]
  },
  {
   "cell_type": "code",
   "execution_count": 41,
   "id": "63388be8",
   "metadata": {},
   "outputs": [],
   "source": [
    "x = data.drop('TEY', axis=1) # All features\n",
    "y = data[[\"TEY\"]]           # Target"
   ]
  },
  {
   "cell_type": "code",
   "execution_count": 42,
   "id": "c282abf3",
   "metadata": {},
   "outputs": [
    {
     "data": {
      "text/html": [
       "<div>\n",
       "<style scoped>\n",
       "    .dataframe tbody tr th:only-of-type {\n",
       "        vertical-align: middle;\n",
       "    }\n",
       "\n",
       "    .dataframe tbody tr th {\n",
       "        vertical-align: top;\n",
       "    }\n",
       "\n",
       "    .dataframe thead th {\n",
       "        text-align: right;\n",
       "    }\n",
       "</style>\n",
       "<table border=\"1\" class=\"dataframe\">\n",
       "  <thead>\n",
       "    <tr style=\"text-align: right;\">\n",
       "      <th></th>\n",
       "      <th>AT</th>\n",
       "      <th>AP</th>\n",
       "      <th>AH</th>\n",
       "      <th>AFDP</th>\n",
       "      <th>GTEP</th>\n",
       "      <th>TIT</th>\n",
       "      <th>TAT</th>\n",
       "      <th>CDP</th>\n",
       "      <th>CO</th>\n",
       "      <th>NOX</th>\n",
       "    </tr>\n",
       "  </thead>\n",
       "  <tbody>\n",
       "    <tr>\n",
       "      <th>0</th>\n",
       "      <td>6.8594</td>\n",
       "      <td>1007.9</td>\n",
       "      <td>96.799</td>\n",
       "      <td>3.5000</td>\n",
       "      <td>19.663</td>\n",
       "      <td>1059.2</td>\n",
       "      <td>550.00</td>\n",
       "      <td>10.605</td>\n",
       "      <td>3.1547</td>\n",
       "      <td>82.722</td>\n",
       "    </tr>\n",
       "    <tr>\n",
       "      <th>1</th>\n",
       "      <td>6.7850</td>\n",
       "      <td>1008.4</td>\n",
       "      <td>97.118</td>\n",
       "      <td>3.4998</td>\n",
       "      <td>19.728</td>\n",
       "      <td>1059.3</td>\n",
       "      <td>550.00</td>\n",
       "      <td>10.598</td>\n",
       "      <td>3.2363</td>\n",
       "      <td>82.776</td>\n",
       "    </tr>\n",
       "    <tr>\n",
       "      <th>2</th>\n",
       "      <td>6.8977</td>\n",
       "      <td>1008.8</td>\n",
       "      <td>95.939</td>\n",
       "      <td>3.4824</td>\n",
       "      <td>19.779</td>\n",
       "      <td>1059.4</td>\n",
       "      <td>549.87</td>\n",
       "      <td>10.601</td>\n",
       "      <td>3.2012</td>\n",
       "      <td>82.468</td>\n",
       "    </tr>\n",
       "    <tr>\n",
       "      <th>3</th>\n",
       "      <td>7.0569</td>\n",
       "      <td>1009.2</td>\n",
       "      <td>95.249</td>\n",
       "      <td>3.4805</td>\n",
       "      <td>19.792</td>\n",
       "      <td>1059.6</td>\n",
       "      <td>549.99</td>\n",
       "      <td>10.606</td>\n",
       "      <td>3.1923</td>\n",
       "      <td>82.670</td>\n",
       "    </tr>\n",
       "    <tr>\n",
       "      <th>4</th>\n",
       "      <td>7.3978</td>\n",
       "      <td>1009.7</td>\n",
       "      <td>95.150</td>\n",
       "      <td>3.4976</td>\n",
       "      <td>19.765</td>\n",
       "      <td>1059.7</td>\n",
       "      <td>549.98</td>\n",
       "      <td>10.612</td>\n",
       "      <td>3.2484</td>\n",
       "      <td>82.311</td>\n",
       "    </tr>\n",
       "  </tbody>\n",
       "</table>\n",
       "</div>"
      ],
      "text/plain": [
       "       AT      AP      AH    AFDP    GTEP     TIT     TAT     CDP      CO  \\\n",
       "0  6.8594  1007.9  96.799  3.5000  19.663  1059.2  550.00  10.605  3.1547   \n",
       "1  6.7850  1008.4  97.118  3.4998  19.728  1059.3  550.00  10.598  3.2363   \n",
       "2  6.8977  1008.8  95.939  3.4824  19.779  1059.4  549.87  10.601  3.2012   \n",
       "3  7.0569  1009.2  95.249  3.4805  19.792  1059.6  549.99  10.606  3.1923   \n",
       "4  7.3978  1009.7  95.150  3.4976  19.765  1059.7  549.98  10.612  3.2484   \n",
       "\n",
       "      NOX  \n",
       "0  82.722  \n",
       "1  82.776  \n",
       "2  82.468  \n",
       "3  82.670  \n",
       "4  82.311  "
      ]
     },
     "execution_count": 42,
     "metadata": {},
     "output_type": "execute_result"
    }
   ],
   "source": [
    "x.head()"
   ]
  },
  {
   "cell_type": "code",
   "execution_count": 43,
   "id": "7afd87b7",
   "metadata": {},
   "outputs": [
    {
     "data": {
      "text/html": [
       "<div>\n",
       "<style scoped>\n",
       "    .dataframe tbody tr th:only-of-type {\n",
       "        vertical-align: middle;\n",
       "    }\n",
       "\n",
       "    .dataframe tbody tr th {\n",
       "        vertical-align: top;\n",
       "    }\n",
       "\n",
       "    .dataframe thead th {\n",
       "        text-align: right;\n",
       "    }\n",
       "</style>\n",
       "<table border=\"1\" class=\"dataframe\">\n",
       "  <thead>\n",
       "    <tr style=\"text-align: right;\">\n",
       "      <th></th>\n",
       "      <th>TEY</th>\n",
       "    </tr>\n",
       "  </thead>\n",
       "  <tbody>\n",
       "    <tr>\n",
       "      <th>0</th>\n",
       "      <td>114.70</td>\n",
       "    </tr>\n",
       "    <tr>\n",
       "      <th>1</th>\n",
       "      <td>114.72</td>\n",
       "    </tr>\n",
       "    <tr>\n",
       "      <th>2</th>\n",
       "      <td>114.71</td>\n",
       "    </tr>\n",
       "    <tr>\n",
       "      <th>3</th>\n",
       "      <td>114.72</td>\n",
       "    </tr>\n",
       "    <tr>\n",
       "      <th>4</th>\n",
       "      <td>114.72</td>\n",
       "    </tr>\n",
       "    <tr>\n",
       "      <th>...</th>\n",
       "      <td>...</td>\n",
       "    </tr>\n",
       "    <tr>\n",
       "      <th>15034</th>\n",
       "      <td>111.61</td>\n",
       "    </tr>\n",
       "    <tr>\n",
       "      <th>15035</th>\n",
       "      <td>111.78</td>\n",
       "    </tr>\n",
       "    <tr>\n",
       "      <th>15036</th>\n",
       "      <td>110.19</td>\n",
       "    </tr>\n",
       "    <tr>\n",
       "      <th>15037</th>\n",
       "      <td>110.74</td>\n",
       "    </tr>\n",
       "    <tr>\n",
       "      <th>15038</th>\n",
       "      <td>111.58</td>\n",
       "    </tr>\n",
       "  </tbody>\n",
       "</table>\n",
       "<p>15039 rows × 1 columns</p>\n",
       "</div>"
      ],
      "text/plain": [
       "          TEY\n",
       "0      114.70\n",
       "1      114.72\n",
       "2      114.71\n",
       "3      114.72\n",
       "4      114.72\n",
       "...       ...\n",
       "15034  111.61\n",
       "15035  111.78\n",
       "15036  110.19\n",
       "15037  110.74\n",
       "15038  111.58\n",
       "\n",
       "[15039 rows x 1 columns]"
      ]
     },
     "execution_count": 43,
     "metadata": {},
     "output_type": "execute_result"
    }
   ],
   "source": [
    "y"
   ]
  },
  {
   "cell_type": "markdown",
   "id": "e238d86d",
   "metadata": {},
   "source": [
    "# Feature Importance(selection)"
   ]
  },
  {
   "cell_type": "code",
   "execution_count": 44,
   "id": "6ce23cc3",
   "metadata": {},
   "outputs": [],
   "source": [
    "from numpy import set_printoptions"
   ]
  },
  {
   "cell_type": "code",
   "execution_count": 45,
   "id": "1a1810ff",
   "metadata": {},
   "outputs": [],
   "source": [
    "# feature extraction\n",
    "test = SelectKBest(score_func=mutual_info_regression, k='all')\n",
    "fit = test.fit(x, y)"
   ]
  },
  {
   "cell_type": "code",
   "execution_count": 46,
   "id": "145147e9",
   "metadata": {},
   "outputs": [],
   "source": [
    "# summarize scores\n",
    "scores = fit.scores_\n",
    "\n",
    "features = fit.transform(x)"
   ]
  },
  {
   "cell_type": "code",
   "execution_count": 47,
   "id": "6cf315b9",
   "metadata": {},
   "outputs": [
    {
     "data": {
      "text/html": [
       "<div>\n",
       "<style scoped>\n",
       "    .dataframe tbody tr th:only-of-type {\n",
       "        vertical-align: middle;\n",
       "    }\n",
       "\n",
       "    .dataframe tbody tr th {\n",
       "        vertical-align: top;\n",
       "    }\n",
       "\n",
       "    .dataframe thead th {\n",
       "        text-align: right;\n",
       "    }\n",
       "</style>\n",
       "<table border=\"1\" class=\"dataframe\">\n",
       "  <thead>\n",
       "    <tr style=\"text-align: right;\">\n",
       "      <th></th>\n",
       "      <th>Score</th>\n",
       "      <th>Feature</th>\n",
       "    </tr>\n",
       "  </thead>\n",
       "  <tbody>\n",
       "    <tr>\n",
       "      <th>7</th>\n",
       "      <td>1.711309</td>\n",
       "      <td>CDP</td>\n",
       "    </tr>\n",
       "    <tr>\n",
       "      <th>4</th>\n",
       "      <td>1.600602</td>\n",
       "      <td>GTEP</td>\n",
       "    </tr>\n",
       "    <tr>\n",
       "      <th>5</th>\n",
       "      <td>1.322194</td>\n",
       "      <td>TIT</td>\n",
       "    </tr>\n",
       "    <tr>\n",
       "      <th>6</th>\n",
       "      <td>0.895578</td>\n",
       "      <td>TAT</td>\n",
       "    </tr>\n",
       "    <tr>\n",
       "      <th>3</th>\n",
       "      <td>0.660405</td>\n",
       "      <td>AFDP</td>\n",
       "    </tr>\n",
       "    <tr>\n",
       "      <th>8</th>\n",
       "      <td>0.512883</td>\n",
       "      <td>CO</td>\n",
       "    </tr>\n",
       "    <tr>\n",
       "      <th>0</th>\n",
       "      <td>0.412731</td>\n",
       "      <td>AT</td>\n",
       "    </tr>\n",
       "    <tr>\n",
       "      <th>9</th>\n",
       "      <td>0.300137</td>\n",
       "      <td>NOX</td>\n",
       "    </tr>\n",
       "    <tr>\n",
       "      <th>1</th>\n",
       "      <td>0.135762</td>\n",
       "      <td>AP</td>\n",
       "    </tr>\n",
       "    <tr>\n",
       "      <th>2</th>\n",
       "      <td>0.097453</td>\n",
       "      <td>AH</td>\n",
       "    </tr>\n",
       "  </tbody>\n",
       "</table>\n",
       "</div>"
      ],
      "text/plain": [
       "      Score Feature\n",
       "7  1.711309     CDP\n",
       "4  1.600602    GTEP\n",
       "5  1.322194     TIT\n",
       "6  0.895578     TAT\n",
       "3  0.660405    AFDP\n",
       "8  0.512883      CO\n",
       "0  0.412731      AT\n",
       "9  0.300137     NOX\n",
       "1  0.135762      AP\n",
       "2  0.097453      AH"
      ]
     },
     "execution_count": 47,
     "metadata": {},
     "output_type": "execute_result"
    }
   ],
   "source": [
    "score_data = pd.DataFrame(list(zip(scores, x.columns)),\n",
    "               columns =['Score', 'Feature'])\n",
    "score_data.sort_values(by=\"Score\", ascending=False, inplace=True)\n",
    "score_data"
   ]
  },
  {
   "cell_type": "code",
   "execution_count": 48,
   "id": "16d94249",
   "metadata": {},
   "outputs": [
    {
     "data": {
      "image/png": "[encoded data removed]",
      "text/plain": [
       "<Figure size 1440x576 with 1 Axes>"
      ]
     },
     "metadata": {},
     "output_type": "display_data"
    }
   ],
   "source": [
    "plt.figure(figsize=(20,8))         # Visualize the Feature Score\n",
    "\n",
    "sns.barplot(x='Feature',\n",
    "            y=\"Score\", \n",
    "            data=score_data, \n",
    "            order=score_data.sort_values('Score').Feature)\n",
    "# set labels\n",
    "plt.xlabel(\"Features\", size=15)\n",
    "plt.ylabel(\"Scores\", size=15)\n",
    "plt.yticks(rotation = 0, fontsize = 14)\n",
    "plt.xticks(rotation = 90, fontsize = 16)\n",
    "plt.title(\"Feature Score\", size=18)\n",
    "plt.show()"
   ]
  },
  {
   "cell_type": "code",
   "execution_count": 49,
   "id": "c81731b9",
   "metadata": {},
   "outputs": [
    {
     "data": {
      "text/html": [
       "<div>\n",
       "<style scoped>\n",
       "    .dataframe tbody tr th:only-of-type {\n",
       "        vertical-align: middle;\n",
       "    }\n",
       "\n",
       "    .dataframe tbody tr th {\n",
       "        vertical-align: top;\n",
       "    }\n",
       "\n",
       "    .dataframe thead th {\n",
       "        text-align: right;\n",
       "    }\n",
       "</style>\n",
       "<table border=\"1\" class=\"dataframe\">\n",
       "  <thead>\n",
       "    <tr style=\"text-align: right;\">\n",
       "      <th></th>\n",
       "      <th>Score</th>\n",
       "      <th>Feature</th>\n",
       "    </tr>\n",
       "  </thead>\n",
       "  <tbody>\n",
       "    <tr>\n",
       "      <th>7</th>\n",
       "      <td>1.711309</td>\n",
       "      <td>CDP</td>\n",
       "    </tr>\n",
       "    <tr>\n",
       "      <th>4</th>\n",
       "      <td>1.600602</td>\n",
       "      <td>GTEP</td>\n",
       "    </tr>\n",
       "    <tr>\n",
       "      <th>5</th>\n",
       "      <td>1.322194</td>\n",
       "      <td>TIT</td>\n",
       "    </tr>\n",
       "    <tr>\n",
       "      <th>6</th>\n",
       "      <td>0.895578</td>\n",
       "      <td>TAT</td>\n",
       "    </tr>\n",
       "    <tr>\n",
       "      <th>3</th>\n",
       "      <td>0.660405</td>\n",
       "      <td>AFDP</td>\n",
       "    </tr>\n",
       "    <tr>\n",
       "      <th>8</th>\n",
       "      <td>0.512883</td>\n",
       "      <td>CO</td>\n",
       "    </tr>\n",
       "    <tr>\n",
       "      <th>0</th>\n",
       "      <td>0.412731</td>\n",
       "      <td>AT</td>\n",
       "    </tr>\n",
       "    <tr>\n",
       "      <th>9</th>\n",
       "      <td>0.300137</td>\n",
       "      <td>NOX</td>\n",
       "    </tr>\n",
       "    <tr>\n",
       "      <th>1</th>\n",
       "      <td>0.135762</td>\n",
       "      <td>AP</td>\n",
       "    </tr>\n",
       "    <tr>\n",
       "      <th>2</th>\n",
       "      <td>0.097453</td>\n",
       "      <td>AH</td>\n",
       "    </tr>\n",
       "  </tbody>\n",
       "</table>\n",
       "</div>"
      ],
      "text/plain": [
       "      Score Feature\n",
       "7  1.711309     CDP\n",
       "4  1.600602    GTEP\n",
       "5  1.322194     TIT\n",
       "6  0.895578     TAT\n",
       "3  0.660405    AFDP\n",
       "8  0.512883      CO\n",
       "0  0.412731      AT\n",
       "9  0.300137     NOX\n",
       "1  0.135762      AP\n",
       "2  0.097453      AH"
      ]
     },
     "execution_count": 49,
     "metadata": {},
     "output_type": "execute_result"
    }
   ],
   "source": [
    "score_data.sort_values('Score',ascending=False)"
   ]
  },
  {
   "cell_type": "code",
   "execution_count": 50,
   "id": "9d97d508",
   "metadata": {},
   "outputs": [
    {
     "data": {
      "text/html": [
       "<div>\n",
       "<style scoped>\n",
       "    .dataframe tbody tr th:only-of-type {\n",
       "        vertical-align: middle;\n",
       "    }\n",
       "\n",
       "    .dataframe tbody tr th {\n",
       "        vertical-align: top;\n",
       "    }\n",
       "\n",
       "    .dataframe thead th {\n",
       "        text-align: right;\n",
       "    }\n",
       "</style>\n",
       "<table border=\"1\" class=\"dataframe\">\n",
       "  <thead>\n",
       "    <tr style=\"text-align: right;\">\n",
       "      <th></th>\n",
       "      <th>CDP</th>\n",
       "      <th>GTEP</th>\n",
       "      <th>TIT</th>\n",
       "      <th>TAT</th>\n",
       "      <th>AFDP</th>\n",
       "      <th>CO</th>\n",
       "      <th>AT</th>\n",
       "      <th>TEY</th>\n",
       "    </tr>\n",
       "  </thead>\n",
       "  <tbody>\n",
       "    <tr>\n",
       "      <th>0</th>\n",
       "      <td>10.605</td>\n",
       "      <td>19.663</td>\n",
       "      <td>1059.2</td>\n",
       "      <td>550.00</td>\n",
       "      <td>3.5000</td>\n",
       "      <td>3.1547</td>\n",
       "      <td>6.8594</td>\n",
       "      <td>114.70</td>\n",
       "    </tr>\n",
       "    <tr>\n",
       "      <th>1</th>\n",
       "      <td>10.598</td>\n",
       "      <td>19.728</td>\n",
       "      <td>1059.3</td>\n",
       "      <td>550.00</td>\n",
       "      <td>3.4998</td>\n",
       "      <td>3.2363</td>\n",
       "      <td>6.7850</td>\n",
       "      <td>114.72</td>\n",
       "    </tr>\n",
       "    <tr>\n",
       "      <th>2</th>\n",
       "      <td>10.601</td>\n",
       "      <td>19.779</td>\n",
       "      <td>1059.4</td>\n",
       "      <td>549.87</td>\n",
       "      <td>3.4824</td>\n",
       "      <td>3.2012</td>\n",
       "      <td>6.8977</td>\n",
       "      <td>114.71</td>\n",
       "    </tr>\n",
       "    <tr>\n",
       "      <th>3</th>\n",
       "      <td>10.606</td>\n",
       "      <td>19.792</td>\n",
       "      <td>1059.6</td>\n",
       "      <td>549.99</td>\n",
       "      <td>3.4805</td>\n",
       "      <td>3.1923</td>\n",
       "      <td>7.0569</td>\n",
       "      <td>114.72</td>\n",
       "    </tr>\n",
       "    <tr>\n",
       "      <th>4</th>\n",
       "      <td>10.612</td>\n",
       "      <td>19.765</td>\n",
       "      <td>1059.7</td>\n",
       "      <td>549.98</td>\n",
       "      <td>3.4976</td>\n",
       "      <td>3.2484</td>\n",
       "      <td>7.3978</td>\n",
       "      <td>114.72</td>\n",
       "    </tr>\n",
       "  </tbody>\n",
       "</table>\n",
       "</div>"
      ],
      "text/plain": [
       "      CDP    GTEP     TIT     TAT    AFDP      CO      AT     TEY\n",
       "0  10.605  19.663  1059.2  550.00  3.5000  3.1547  6.8594  114.70\n",
       "1  10.598  19.728  1059.3  550.00  3.4998  3.2363  6.7850  114.72\n",
       "2  10.601  19.779  1059.4  549.87  3.4824  3.2012  6.8977  114.71\n",
       "3  10.606  19.792  1059.6  549.99  3.4805  3.1923  7.0569  114.72\n",
       "4  10.612  19.765  1059.7  549.98  3.4976  3.2484  7.3978  114.72"
      ]
     },
     "execution_count": 50,
     "metadata": {},
     "output_type": "execute_result"
    }
   ],
   "source": [
    "model_data = data[['CDP', 'GTEP','TIT', 'TAT', 'AFDP', 'CO', 'AT',\"TEY\"]]\n",
    "model_data.head()"
   ]
  },
  {
   "cell_type": "markdown",
   "id": "4b34f781",
   "metadata": {},
   "source": [
    "# Data Pre-Processing"
   ]
  },
  {
   "cell_type": "markdown",
   "id": "4f4334b3",
   "metadata": {},
   "source": [
    "# Feature Engineering"
   ]
  },
  {
   "cell_type": "code",
   "execution_count": 51,
   "id": "6109b840",
   "metadata": {},
   "outputs": [
    {
     "name": "stdout",
     "output_type": "stream",
     "text": [
      "Continuous Feature Count 8\n"
     ]
    }
   ],
   "source": [
    "continuous_feature=[feature for feature in model_data.columns if model_data[feature].dtype!='O']\n",
    "print('Continuous Feature Count {}'.format(len(continuous_feature)))"
   ]
  },
  {
   "cell_type": "code",
   "execution_count": 52,
   "id": "cb017f9a",
   "metadata": {},
   "outputs": [],
   "source": [
    "data_standard_scaled = model_data.copy()\n",
    "features = data_standard_scaled[continuous_feature]"
   ]
  },
  {
   "cell_type": "code",
   "execution_count": 53,
   "id": "1aea7b22",
   "metadata": {},
   "outputs": [
    {
     "data": {
      "text/html": [
       "<div>\n",
       "<style scoped>\n",
       "    .dataframe tbody tr th:only-of-type {\n",
       "        vertical-align: middle;\n",
       "    }\n",
       "\n",
       "    .dataframe tbody tr th {\n",
       "        vertical-align: top;\n",
       "    }\n",
       "\n",
       "    .dataframe thead th {\n",
       "        text-align: right;\n",
       "    }\n",
       "</style>\n",
       "<table border=\"1\" class=\"dataframe\">\n",
       "  <thead>\n",
       "    <tr style=\"text-align: right;\">\n",
       "      <th></th>\n",
       "      <th>CDP</th>\n",
       "      <th>GTEP</th>\n",
       "      <th>TIT</th>\n",
       "      <th>TAT</th>\n",
       "      <th>AFDP</th>\n",
       "      <th>CO</th>\n",
       "      <th>AT</th>\n",
       "      <th>TEY</th>\n",
       "    </tr>\n",
       "  </thead>\n",
       "  <tbody>\n",
       "    <tr>\n",
       "      <th>0</th>\n",
       "      <td>-1.357331</td>\n",
       "      <td>-1.379101</td>\n",
       "      <td>-1.488376</td>\n",
       "      <td>0.585240</td>\n",
       "      <td>-0.921232</td>\n",
       "      <td>0.532012</td>\n",
       "      <td>-1.439778</td>\n",
       "      <td>-1.231172</td>\n",
       "    </tr>\n",
       "    <tr>\n",
       "      <th>1</th>\n",
       "      <td>-1.363676</td>\n",
       "      <td>-1.363528</td>\n",
       "      <td>-1.482325</td>\n",
       "      <td>0.585240</td>\n",
       "      <td>-0.921495</td>\n",
       "      <td>0.568733</td>\n",
       "      <td>-1.449601</td>\n",
       "      <td>-1.229909</td>\n",
       "    </tr>\n",
       "    <tr>\n",
       "      <th>2</th>\n",
       "      <td>-1.360957</td>\n",
       "      <td>-1.351309</td>\n",
       "      <td>-1.476275</td>\n",
       "      <td>0.568715</td>\n",
       "      <td>-0.944385</td>\n",
       "      <td>0.552938</td>\n",
       "      <td>-1.434721</td>\n",
       "      <td>-1.230541</td>\n",
       "    </tr>\n",
       "    <tr>\n",
       "      <th>3</th>\n",
       "      <td>-1.356424</td>\n",
       "      <td>-1.348194</td>\n",
       "      <td>-1.464173</td>\n",
       "      <td>0.583969</td>\n",
       "      <td>-0.946884</td>\n",
       "      <td>0.548933</td>\n",
       "      <td>-1.413702</td>\n",
       "      <td>-1.229909</td>\n",
       "    </tr>\n",
       "    <tr>\n",
       "      <th>4</th>\n",
       "      <td>-1.350985</td>\n",
       "      <td>-1.354663</td>\n",
       "      <td>-1.458123</td>\n",
       "      <td>0.582698</td>\n",
       "      <td>-0.924389</td>\n",
       "      <td>0.574179</td>\n",
       "      <td>-1.368693</td>\n",
       "      <td>-1.229909</td>\n",
       "    </tr>\n",
       "  </tbody>\n",
       "</table>\n",
       "</div>"
      ],
      "text/plain": [
       "        CDP      GTEP       TIT       TAT      AFDP        CO        AT  \\\n",
       "0 -1.357331 -1.379101 -1.488376  0.585240 -0.921232  0.532012 -1.439778   \n",
       "1 -1.363676 -1.363528 -1.482325  0.585240 -0.921495  0.568733 -1.449601   \n",
       "2 -1.360957 -1.351309 -1.476275  0.568715 -0.944385  0.552938 -1.434721   \n",
       "3 -1.356424 -1.348194 -1.464173  0.583969 -0.946884  0.548933 -1.413702   \n",
       "4 -1.350985 -1.354663 -1.458123  0.582698 -0.924389  0.574179 -1.368693   \n",
       "\n",
       "        TEY  \n",
       "0 -1.231172  \n",
       "1 -1.229909  \n",
       "2 -1.230541  \n",
       "3 -1.229909  \n",
       "4 -1.229909  "
      ]
     },
     "execution_count": 53,
     "metadata": {},
     "output_type": "execute_result"
    }
   ],
   "source": [
    "from sklearn.preprocessing import StandardScaler\n",
    "scaler = StandardScaler()\n",
    "\n",
    "data_standard_scaled[continuous_feature] = scaler.fit_transform(features.values)\n",
    "data_standard_scaled.head()"
   ]
  },
  {
   "cell_type": "markdown",
   "id": "e9525e06",
   "metadata": {},
   "source": [
    "# Mean and standard deviation of scaled data"
   ]
  },
  {
   "cell_type": "code",
   "execution_count": 54,
   "id": "0e1adcde",
   "metadata": {},
   "outputs": [
    {
     "name": "stdout",
     "output_type": "stream",
     "text": [
      "Mean\n",
      " CDP     0.0\n",
      "GTEP    0.0\n",
      "TIT    -0.0\n",
      "TAT     0.0\n",
      "AFDP    0.0\n",
      "CO      0.0\n",
      "AT     -0.0\n",
      "TEY     0.0\n",
      "dtype: float64 \n",
      "Standard Devaition \n",
      " CDP     1.0\n",
      "GTEP    1.0\n",
      "TIT     1.0\n",
      "TAT     1.0\n",
      "AFDP    1.0\n",
      "CO      1.0\n",
      "AT      1.0\n",
      "TEY     1.0\n",
      "dtype: float64 1\n"
     ]
    }
   ],
   "source": [
    "print('Mean' '\\n',np.round(data_standard_scaled.mean(),1),'\\n' 'Standard Devaition','\\n',np.round(data_standard_scaled.std()),1)"
   ]
  },
  {
   "cell_type": "markdown",
   "id": "ce0d4b40",
   "metadata": {},
   "source": [
    "# Split the Variant dataset into Train -Test."
   ]
  },
  {
   "cell_type": "code",
   "execution_count": 55,
   "id": "20d1caf6",
   "metadata": {},
   "outputs": [],
   "source": [
    "x = data_standard_scaled.drop('TEY',axis=1)\n",
    "y = data_standard_scaled[['TEY']]"
   ]
  },
  {
   "cell_type": "code",
   "execution_count": 56,
   "id": "52986ad2",
   "metadata": {},
   "outputs": [],
   "source": [
    "\n",
    "x_train, x_test, y_train, y_test = train_test_split(x, y, test_size=0.3, random_state=3)"
   ]
  },
  {
   "cell_type": "markdown",
   "id": "cdc49d66",
   "metadata": {},
   "source": [
    "# Hyperparameter Tuning\n",
    " Hyperparameter Tuning: Optimal Learning rate ,Number of Layers and Neurons"
   ]
  },
  {
   "cell_type": "code",
   "execution_count": 57,
   "id": "8004c459",
   "metadata": {},
   "outputs": [],
   "source": [
    "def build_model(hp):\n",
    "    model =Sequential()\n",
    "    for i in range(hp.Int('num_layers', 2, 20)):\n",
    "        model.add(layers.Dense(units=hp.Int('units_' + str(i),\n",
    "                                            min_value=32,\n",
    "                                            max_value=100,\n",
    "                                            step=32),\n",
    "                               activation='relu'))\n",
    "    model.add(layers.Dense(1, activation='linear'))\n",
    "    model.compile(\n",
    "        optimizer=keras.optimizers.Adam(\n",
    "            hp.Choice('learning_rate', [1e-2, 1e-3, 1e-4])),\n",
    "        loss='mean_absolute_error',\n",
    "        metrics=['mean_absolute_error'])\n",
    "    return model"
   ]
  },
  {
   "cell_type": "code",
   "execution_count": 58,
   "id": "688d256b",
   "metadata": {},
   "outputs": [
    {
     "name": "stdout",
     "output_type": "stream",
     "text": [
      "INFO:tensorflow:Reloading Oracle from existing project project\\Gas Turbine\\oracle.json\n",
      "INFO:tensorflow:Reloading Tuner from project\\Gas Turbine\\tuner0.json\n"
     ]
    }
   ],
   "source": [
    "tuner = RandomSearch(build_model,objective='val_mean_absolute_error',max_trials=5,  executions_per_trial=3,directory='project',project_name='Gas Turbine')"
   ]
  },
  {
   "cell_type": "code",
   "execution_count": 59,
   "id": "d02a26e3",
   "metadata": {
    "scrolled": false
   },
   "outputs": [
    {
     "name": "stdout",
     "output_type": "stream",
     "text": [
      "Search space summary\n",
      "Default search space size: 19\n",
      "num_layers (Int)\n",
      "{'default': None, 'conditions': [], 'min_value': 2, 'max_value': 20, 'step': 1, 'sampling': None}\n",
      "units_0 (Int)\n",
      "{'default': None, 'conditions': [], 'min_value': 32, 'max_value': 100, 'step': 32, 'sampling': None}\n",
      "units_1 (Int)\n",
      "{'default': None, 'conditions': [], 'min_value': 32, 'max_value': 100, 'step': 32, 'sampling': None}\n",
      "learning_rate (Choice)\n",
      "{'default': 0.01, 'conditions': [], 'values': [0.01, 0.001, 0.0001], 'ordered': True}\n",
      "units_2 (Int)\n",
      "{'default': None, 'conditions': [], 'min_value': 32, 'max_value': 100, 'step': 32, 'sampling': None}\n",
      "units_3 (Int)\n",
      "{'default': None, 'conditions': [], 'min_value': 32, 'max_value': 100, 'step': 32, 'sampling': None}\n",
      "units_4 (Int)\n",
      "{'default': None, 'conditions': [], 'min_value': 32, 'max_value': 100, 'step': 32, 'sampling': None}\n",
      "units_5 (Int)\n",
      "{'default': None, 'conditions': [], 'min_value': 32, 'max_value': 100, 'step': 32, 'sampling': None}\n",
      "units_6 (Int)\n",
      "{'default': None, 'conditions': [], 'min_value': 32, 'max_value': 100, 'step': 32, 'sampling': None}\n",
      "units_7 (Int)\n",
      "{'default': None, 'conditions': [], 'min_value': 32, 'max_value': 100, 'step': 32, 'sampling': None}\n",
      "units_8 (Int)\n",
      "{'default': None, 'conditions': [], 'min_value': 32, 'max_value': 100, 'step': 32, 'sampling': None}\n",
      "units_9 (Int)\n",
      "{'default': None, 'conditions': [], 'min_value': 32, 'max_value': 100, 'step': 32, 'sampling': None}\n",
      "units_10 (Int)\n",
      "{'default': None, 'conditions': [], 'min_value': 32, 'max_value': 100, 'step': 32, 'sampling': None}\n",
      "units_11 (Int)\n",
      "{'default': None, 'conditions': [], 'min_value': 32, 'max_value': 100, 'step': 32, 'sampling': None}\n",
      "units_12 (Int)\n",
      "{'default': None, 'conditions': [], 'min_value': 32, 'max_value': 100, 'step': 32, 'sampling': None}\n",
      "units_13 (Int)\n",
      "{'default': None, 'conditions': [], 'min_value': 32, 'max_value': 100, 'step': 32, 'sampling': None}\n",
      "units_14 (Int)\n",
      "{'default': None, 'conditions': [], 'min_value': 32, 'max_value': 100, 'step': 32, 'sampling': None}\n",
      "units_15 (Int)\n",
      "{'default': None, 'conditions': [], 'min_value': 32, 'max_value': 100, 'step': 32, 'sampling': None}\n",
      "units_16 (Int)\n",
      "{'default': None, 'conditions': [], 'min_value': 32, 'max_value': 100, 'step': 32, 'sampling': None}\n"
     ]
    }
   ],
   "source": [
    "tuner.search_space_summary()"
   ]
  },
  {
   "cell_type": "code",
   "execution_count": 60,
   "id": "8cdde0a6",
   "metadata": {},
   "outputs": [
    {
     "name": "stdout",
     "output_type": "stream",
     "text": [
      "INFO:tensorflow:Oracle triggered exit\n"
     ]
    }
   ],
   "source": [
    "tuner.search(x_train, y_train,epochs=100,validation_data=(x_test, y_test))"
   ]
  },
  {
   "cell_type": "code",
   "execution_count": 61,
   "id": "39cd933a",
   "metadata": {},
   "outputs": [
    {
     "name": "stdout",
     "output_type": "stream",
     "text": [
      "Results summary\n",
      "Results in project\\Gas Turbine\n",
      "Showing 10 best trials\n",
      "<keras_tuner.engine.objective.Objective object at 0x0000013E7DE9B430>\n",
      "Trial summary\n",
      "Hyperparameters:\n",
      "num_layers: 17\n",
      "units_0: 64\n",
      "units_1: 64\n",
      "learning_rate: 0.0001\n",
      "units_2: 64\n",
      "units_3: 64\n",
      "units_4: 64\n",
      "units_5: 96\n",
      "units_6: 96\n",
      "units_7: 96\n",
      "units_8: 64\n",
      "units_9: 64\n",
      "units_10: 64\n",
      "units_11: 64\n",
      "units_12: 32\n",
      "units_13: 64\n",
      "units_14: 64\n",
      "units_15: 96\n",
      "units_16: 64\n",
      "Score: 0.024215875814358395\n",
      "Trial summary\n",
      "Hyperparameters:\n",
      "num_layers: 7\n",
      "units_0: 96\n",
      "units_1: 32\n",
      "learning_rate: 0.0001\n",
      "units_2: 32\n",
      "units_3: 32\n",
      "units_4: 32\n",
      "units_5: 32\n",
      "units_6: 32\n",
      "Score: 0.02449424999455611\n",
      "Trial summary\n",
      "Hyperparameters:\n",
      "num_layers: 16\n",
      "units_0: 64\n",
      "units_1: 96\n",
      "learning_rate: 0.001\n",
      "units_2: 32\n",
      "units_3: 96\n",
      "units_4: 64\n",
      "units_5: 64\n",
      "units_6: 64\n",
      "units_7: 64\n",
      "units_8: 96\n",
      "units_9: 32\n",
      "units_10: 96\n",
      "units_11: 64\n",
      "units_12: 64\n",
      "units_13: 96\n",
      "units_14: 64\n",
      "units_15: 32\n",
      "units_16: 32\n",
      "Score: 0.024775472159187\n",
      "Trial summary\n",
      "Hyperparameters:\n",
      "num_layers: 17\n",
      "units_0: 32\n",
      "units_1: 64\n",
      "learning_rate: 0.0001\n",
      "units_2: 96\n",
      "units_3: 32\n",
      "units_4: 96\n",
      "units_5: 96\n",
      "units_6: 32\n",
      "units_7: 32\n",
      "units_8: 32\n",
      "units_9: 32\n",
      "units_10: 32\n",
      "units_11: 32\n",
      "units_12: 32\n",
      "units_13: 32\n",
      "units_14: 32\n",
      "units_15: 32\n",
      "units_16: 32\n",
      "Score: 0.024877861763040226\n",
      "Trial summary\n",
      "Hyperparameters:\n",
      "num_layers: 8\n",
      "units_0: 64\n",
      "units_1: 32\n",
      "learning_rate: 0.01\n",
      "units_2: 96\n",
      "units_3: 96\n",
      "units_4: 32\n",
      "units_5: 96\n",
      "units_6: 32\n",
      "units_7: 64\n",
      "units_8: 96\n",
      "units_9: 96\n",
      "units_10: 64\n",
      "units_11: 64\n",
      "units_12: 64\n",
      "units_13: 64\n",
      "units_14: 64\n",
      "units_15: 32\n",
      "units_16: 64\n",
      "Score: 0.027072233458360035\n"
     ]
    }
   ],
   "source": [
    "tuner.results_summary()"
   ]
  },
  {
   "cell_type": "markdown",
   "id": "339c2626",
   "metadata": {},
   "source": [
    "# Hyperparameter Tuning:\n",
    "Optimal Batch_size, Number of Epochs"
   ]
  },
  {
   "cell_type": "code",
   "execution_count": 62,
   "id": "700e875d",
   "metadata": {},
   "outputs": [],
   "source": [
    "def create_model():\n",
    "    model1 = Sequential()\n",
    "    model1.add(Dense(32,input_dim=7,activation='relu'))\n",
    "    model1.add(Dense(64,activation='relu'))\n",
    "    model1.add(Dense(96,activation=\"relu\"))\n",
    "    model1.add(Dense(32,activation=\"relu\"))\n",
    "    model1.add(Dense(64,activation=\"relu\"))\n",
    "    model1.add(Dense(32,activation=\"relu\"))\n",
    "    model1.add(Dense(96,activation=\"relu\"))\n",
    "    model1.add(Dense(96,activation=\"relu\"))\n",
    "    model1.add(Dense(32,activation=\"relu\"))\n",
    "    model1.add(Dense(64,activation=\"relu\"))\n",
    "    model1.add(Dense(64,activation=\"relu\"))\n",
    "    model1.add(Dense(units=1,activation=\"linear\"))\n",
    "    \n",
    "    adam=Adam(learning_rate=0.001)\n",
    "    model1.compile(loss='mean_absolute_error',optimizer = adam,metrics=[\"mean_absolute_error\"])\n",
    "    return model1"
   ]
  },
  {
   "cell_type": "code",
   "execution_count": 63,
   "id": "0e0c61ce",
   "metadata": {},
   "outputs": [],
   "source": [
    "model1 =KerasRegressor(build_fn=create_model,verbose=0)\n",
    "batch_size=[10,20,40,50]\n",
    "epochs=[10,50,100,200]\n",
    "param_grid=dict(batch_size=batch_size,epochs=epochs)\n",
    "grid = GridSearchCV(estimator=model1,param_grid=param_grid,cv=KFold(),verbose=10)"
   ]
  },
  {
   "cell_type": "code",
   "execution_count": 64,
   "id": "776b4d39",
   "metadata": {
    "scrolled": false
   },
   "outputs": [
    {
     "name": "stdout",
     "output_type": "stream",
     "text": [
      "Fitting 5 folds for each of 16 candidates, totalling 80 fits\n",
      "[CV 1/5; 1/16] START batch_size=10, epochs=10...................................\n",
      "[CV 1/5; 1/16] END ...batch_size=10, epochs=10;, score=-0.080 total time=   4.3s\n",
      "[CV 2/5; 1/16] START batch_size=10, epochs=10...................................\n",
      "[CV 2/5; 1/16] END ...batch_size=10, epochs=10;, score=-0.035 total time=   4.2s\n",
      "[CV 3/5; 1/16] START batch_size=10, epochs=10...................................\n",
      "[CV 3/5; 1/16] END ...batch_size=10, epochs=10;, score=-0.056 total time=   4.3s\n",
      "[CV 4/5; 1/16] START batch_size=10, epochs=10...................................\n",
      "[CV 4/5; 1/16] END ...batch_size=10, epochs=10;, score=-0.042 total time=   4.1s\n",
      "[CV 5/5; 1/16] START batch_size=10, epochs=10...................................\n",
      "[CV 5/5; 1/16] END ...batch_size=10, epochs=10;, score=-0.048 total time=   4.2s\n",
      "[CV 1/5; 2/16] START batch_size=10, epochs=50...................................\n",
      "[CV 1/5; 2/16] END ...batch_size=10, epochs=50;, score=-0.035 total time=  18.1s\n",
      "[CV 2/5; 2/16] START batch_size=10, epochs=50...................................\n",
      "[CV 2/5; 2/16] END ...batch_size=10, epochs=50;, score=-0.038 total time=  19.1s\n",
      "[CV 3/5; 2/16] START batch_size=10, epochs=50...................................\n",
      "[CV 3/5; 2/16] END ...batch_size=10, epochs=50;, score=-0.041 total time=  18.0s\n",
      "[CV 4/5; 2/16] START batch_size=10, epochs=50...................................\n",
      "[CV 4/5; 2/16] END ...batch_size=10, epochs=50;, score=-0.035 total time=  17.3s\n",
      "[CV 5/5; 2/16] START batch_size=10, epochs=50...................................\n",
      "[CV 5/5; 2/16] END ...batch_size=10, epochs=50;, score=-0.030 total time=  17.8s\n",
      "[CV 1/5; 3/16] START batch_size=10, epochs=100..................................\n",
      "[CV 1/5; 3/16] END ..batch_size=10, epochs=100;, score=-0.043 total time=  35.3s\n",
      "[CV 2/5; 3/16] START batch_size=10, epochs=100..................................\n",
      "[CV 2/5; 3/16] END ..batch_size=10, epochs=100;, score=-0.027 total time=  37.4s\n",
      "[CV 3/5; 3/16] START batch_size=10, epochs=100..................................\n",
      "[CV 3/5; 3/16] END ..batch_size=10, epochs=100;, score=-0.032 total time=  35.4s\n",
      "[CV 4/5; 3/16] START batch_size=10, epochs=100..................................\n",
      "[CV 4/5; 3/16] END ..batch_size=10, epochs=100;, score=-0.029 total time=  34.9s\n",
      "[CV 5/5; 3/16] START batch_size=10, epochs=100..................................\n",
      "[CV 5/5; 3/16] END ..batch_size=10, epochs=100;, score=-0.029 total time=  34.5s\n",
      "[CV 1/5; 4/16] START batch_size=10, epochs=200..................................\n",
      "[CV 1/5; 4/16] END ..batch_size=10, epochs=200;, score=-0.035 total time= 1.2min\n",
      "[CV 2/5; 4/16] START batch_size=10, epochs=200..................................\n",
      "[CV 2/5; 4/16] END ..batch_size=10, epochs=200;, score=-0.049 total time= 1.2min\n",
      "[CV 3/5; 4/16] START batch_size=10, epochs=200..................................\n",
      "[CV 3/5; 4/16] END ..batch_size=10, epochs=200;, score=-0.028 total time= 1.1min\n",
      "[CV 4/5; 4/16] START batch_size=10, epochs=200..................................\n",
      "[CV 4/5; 4/16] END ..batch_size=10, epochs=200;, score=-0.031 total time= 1.1min\n",
      "[CV 5/5; 4/16] START batch_size=10, epochs=200..................................\n",
      "[CV 5/5; 4/16] END ..batch_size=10, epochs=200;, score=-0.039 total time= 1.1min\n",
      "[CV 1/5; 5/16] START batch_size=20, epochs=10...................................\n",
      "[CV 1/5; 5/16] END ...batch_size=20, epochs=10;, score=-0.054 total time=   2.9s\n",
      "[CV 2/5; 5/16] START batch_size=20, epochs=10...................................\n",
      "[CV 2/5; 5/16] END ...batch_size=20, epochs=10;, score=-0.034 total time=   2.6s\n",
      "[CV 3/5; 5/16] START batch_size=20, epochs=10...................................\n",
      "[CV 3/5; 5/16] END ...batch_size=20, epochs=10;, score=-0.036 total time=   2.6s\n",
      "[CV 4/5; 5/16] START batch_size=20, epochs=10...................................\n",
      "[CV 4/5; 5/16] END ...batch_size=20, epochs=10;, score=-0.046 total time=   2.6s\n",
      "[CV 5/5; 5/16] START batch_size=20, epochs=10...................................\n",
      "[CV 5/5; 5/16] END ...batch_size=20, epochs=10;, score=-0.031 total time=   2.5s\n",
      "[CV 1/5; 6/16] START batch_size=20, epochs=50...................................\n",
      "[CV 1/5; 6/16] END ...batch_size=20, epochs=50;, score=-0.037 total time=  10.7s\n",
      "[CV 2/5; 6/16] START batch_size=20, epochs=50...................................\n",
      "[CV 2/5; 6/16] END ...batch_size=20, epochs=50;, score=-0.036 total time=  10.2s\n",
      "[CV 3/5; 6/16] START batch_size=20, epochs=50...................................\n",
      "[CV 3/5; 6/16] END ...batch_size=20, epochs=50;, score=-0.035 total time=  11.1s\n",
      "[CV 4/5; 6/16] START batch_size=20, epochs=50...................................\n",
      "[CV 4/5; 6/16] END ...batch_size=20, epochs=50;, score=-0.030 total time=  10.0s\n",
      "[CV 5/5; 6/16] START batch_size=20, epochs=50...................................\n",
      "[CV 5/5; 6/16] END ...batch_size=20, epochs=50;, score=-0.035 total time=  10.9s\n",
      "[CV 1/5; 7/16] START batch_size=20, epochs=100..................................\n",
      "[CV 1/5; 7/16] END ..batch_size=20, epochs=100;, score=-0.032 total time=  19.7s\n",
      "[CV 2/5; 7/16] START batch_size=20, epochs=100..................................\n",
      "[CV 2/5; 7/16] END ..batch_size=20, epochs=100;, score=-0.026 total time=  19.0s\n",
      "[CV 3/5; 7/16] START batch_size=20, epochs=100..................................\n",
      "[CV 3/5; 7/16] END ..batch_size=20, epochs=100;, score=-0.031 total time=  18.9s\n",
      "[CV 4/5; 7/16] START batch_size=20, epochs=100..................................\n",
      "[CV 4/5; 7/16] END ..batch_size=20, epochs=100;, score=-0.029 total time=  18.7s\n",
      "[CV 5/5; 7/16] START batch_size=20, epochs=100..................................\n",
      "[CV 5/5; 7/16] END ..batch_size=20, epochs=100;, score=-0.040 total time=  21.1s\n",
      "[CV 1/5; 8/16] START batch_size=20, epochs=200..................................\n",
      "[CV 1/5; 8/16] END ..batch_size=20, epochs=200;, score=-0.040 total time=  40.1s\n",
      "[CV 2/5; 8/16] START batch_size=20, epochs=200..................................\n",
      "[CV 2/5; 8/16] END ..batch_size=20, epochs=200;, score=-0.030 total time=  38.4s\n",
      "[CV 3/5; 8/16] START batch_size=20, epochs=200..................................\n",
      "[CV 3/5; 8/16] END ..batch_size=20, epochs=200;, score=-0.031 total time=  37.2s\n",
      "[CV 4/5; 8/16] START batch_size=20, epochs=200..................................\n",
      "[CV 4/5; 8/16] END ..batch_size=20, epochs=200;, score=-0.029 total time=  40.0s\n",
      "[CV 5/5; 8/16] START batch_size=20, epochs=200..................................\n",
      "[CV 5/5; 8/16] END ..batch_size=20, epochs=200;, score=-0.028 total time=  39.1s\n",
      "[CV 1/5; 9/16] START batch_size=40, epochs=10...................................\n",
      "[CV 1/5; 9/16] END ...batch_size=40, epochs=10;, score=-0.041 total time=   1.7s\n",
      "[CV 2/5; 9/16] START batch_size=40, epochs=10...................................\n",
      "[CV 2/5; 9/16] END ...batch_size=40, epochs=10;, score=-0.036 total time=   1.7s\n",
      "[CV 3/5; 9/16] START batch_size=40, epochs=10...................................\n",
      "[CV 3/5; 9/16] END ...batch_size=40, epochs=10;, score=-0.033 total time=   1.9s\n",
      "[CV 4/5; 9/16] START batch_size=40, epochs=10...................................\n",
      "[CV 4/5; 9/16] END ...batch_size=40, epochs=10;, score=-0.034 total time=   1.7s\n",
      "[CV 5/5; 9/16] START batch_size=40, epochs=10...................................\n",
      "[CV 5/5; 9/16] END ...batch_size=40, epochs=10;, score=-0.033 total time=   1.8s\n",
      "[CV 1/5; 10/16] START batch_size=40, epochs=50..................................\n",
      "[CV 1/5; 10/16] END ..batch_size=40, epochs=50;, score=-0.030 total time=   5.7s\n",
      "[CV 2/5; 10/16] START batch_size=40, epochs=50..................................\n",
      "[CV 2/5; 10/16] END ..batch_size=40, epochs=50;, score=-0.033 total time=   5.6s\n",
      "[CV 3/5; 10/16] START batch_size=40, epochs=50..................................\n",
      "[CV 3/5; 10/16] END ..batch_size=40, epochs=50;, score=-0.029 total time=   6.3s\n",
      "[CV 4/5; 10/16] START batch_size=40, epochs=50..................................\n",
      "[CV 4/5; 10/16] END ..batch_size=40, epochs=50;, score=-0.035 total time=   5.9s\n",
      "[CV 5/5; 10/16] START batch_size=40, epochs=50..................................\n",
      "[CV 5/5; 10/16] END ..batch_size=40, epochs=50;, score=-0.032 total time=   5.7s\n",
      "[CV 1/5; 11/16] START batch_size=40, epochs=100.................................\n"
     ]
    },
    {
     "name": "stdout",
     "output_type": "stream",
     "text": [
      "[CV 1/5; 11/16] END .batch_size=40, epochs=100;, score=-0.040 total time=  10.7s\n",
      "[CV 2/5; 11/16] START batch_size=40, epochs=100.................................\n",
      "[CV 2/5; 11/16] END .batch_size=40, epochs=100;, score=-0.041 total time=  11.6s\n",
      "[CV 3/5; 11/16] START batch_size=40, epochs=100.................................\n",
      "[CV 3/5; 11/16] END .batch_size=40, epochs=100;, score=-0.029 total time=  10.9s\n",
      "[CV 4/5; 11/16] START batch_size=40, epochs=100.................................\n",
      "[CV 4/5; 11/16] END .batch_size=40, epochs=100;, score=-0.028 total time=  10.7s\n",
      "[CV 5/5; 11/16] START batch_size=40, epochs=100.................................\n",
      "[CV 5/5; 11/16] END .batch_size=40, epochs=100;, score=-0.027 total time=  10.5s\n",
      "[CV 1/5; 12/16] START batch_size=40, epochs=200.................................\n",
      "[CV 1/5; 12/16] END .batch_size=40, epochs=200;, score=-0.029 total time=  22.4s\n",
      "[CV 2/5; 12/16] START batch_size=40, epochs=200.................................\n",
      "[CV 2/5; 12/16] END .batch_size=40, epochs=200;, score=-0.026 total time=  21.3s\n",
      "[CV 3/5; 12/16] START batch_size=40, epochs=200.................................\n",
      "[CV 3/5; 12/16] END .batch_size=40, epochs=200;, score=-0.028 total time=  20.5s\n",
      "[CV 4/5; 12/16] START batch_size=40, epochs=200.................................\n",
      "[CV 4/5; 12/16] END .batch_size=40, epochs=200;, score=-0.030 total time=  20.2s\n",
      "[CV 5/5; 12/16] START batch_size=40, epochs=200.................................\n",
      "[CV 5/5; 12/16] END .batch_size=40, epochs=200;, score=-0.030 total time=  19.9s\n",
      "[CV 1/5; 13/16] START batch_size=50, epochs=10..................................\n",
      "[CV 1/5; 13/16] END ..batch_size=50, epochs=10;, score=-0.040 total time=   1.8s\n",
      "[CV 2/5; 13/16] START batch_size=50, epochs=10..................................\n",
      "[CV 2/5; 13/16] END ..batch_size=50, epochs=10;, score=-0.047 total time=   1.6s\n",
      "[CV 3/5; 13/16] START batch_size=50, epochs=10..................................\n",
      "[CV 3/5; 13/16] END ..batch_size=50, epochs=10;, score=-0.035 total time=   1.6s\n",
      "[CV 4/5; 13/16] START batch_size=50, epochs=10..................................\n",
      "[CV 4/5; 13/16] END ..batch_size=50, epochs=10;, score=-0.036 total time=   1.5s\n",
      "[CV 5/5; 13/16] START batch_size=50, epochs=10..................................\n",
      "[CV 5/5; 13/16] END ..batch_size=50, epochs=10;, score=-0.030 total time=   1.5s\n",
      "[CV 1/5; 14/16] START batch_size=50, epochs=50..................................\n",
      "[CV 1/5; 14/16] END ..batch_size=50, epochs=50;, score=-0.036 total time=   5.2s\n",
      "[CV 2/5; 14/16] START batch_size=50, epochs=50..................................\n",
      "[CV 2/5; 14/16] END ..batch_size=50, epochs=50;, score=-0.043 total time=   4.9s\n",
      "[CV 3/5; 14/16] START batch_size=50, epochs=50..................................\n",
      "[CV 3/5; 14/16] END ..batch_size=50, epochs=50;, score=-0.030 total time=   4.8s\n",
      "[CV 4/5; 14/16] START batch_size=50, epochs=50..................................\n",
      "[CV 4/5; 14/16] END ..batch_size=50, epochs=50;, score=-0.037 total time=   4.9s\n",
      "[CV 5/5; 14/16] START batch_size=50, epochs=50..................................\n",
      "[CV 5/5; 14/16] END ..batch_size=50, epochs=50;, score=-0.037 total time=   5.2s\n",
      "[CV 1/5; 15/16] START batch_size=50, epochs=100.................................\n",
      "[CV 1/5; 15/16] END .batch_size=50, epochs=100;, score=-0.038 total time=   9.0s\n",
      "[CV 2/5; 15/16] START batch_size=50, epochs=100.................................\n",
      "[CV 2/5; 15/16] END .batch_size=50, epochs=100;, score=-0.027 total time=   8.8s\n",
      "[CV 3/5; 15/16] START batch_size=50, epochs=100.................................\n",
      "[CV 3/5; 15/16] END .batch_size=50, epochs=100;, score=-0.031 total time=   8.8s\n",
      "[CV 4/5; 15/16] START batch_size=50, epochs=100.................................\n",
      "[CV 4/5; 15/16] END .batch_size=50, epochs=100;, score=-0.028 total time=   8.8s\n",
      "[CV 5/5; 15/16] START batch_size=50, epochs=100.................................\n",
      "[CV 5/5; 15/16] END .batch_size=50, epochs=100;, score=-0.029 total time=   9.7s\n",
      "[CV 1/5; 16/16] START batch_size=50, epochs=200.................................\n",
      "[CV 1/5; 16/16] END .batch_size=50, epochs=200;, score=-0.032 total time=  18.0s\n",
      "[CV 2/5; 16/16] START batch_size=50, epochs=200.................................\n",
      "[CV 2/5; 16/16] END .batch_size=50, epochs=200;, score=-0.036 total time=  17.2s\n",
      "[CV 3/5; 16/16] START batch_size=50, epochs=200.................................\n",
      "[CV 3/5; 16/16] END .batch_size=50, epochs=200;, score=-0.028 total time=  17.1s\n",
      "[CV 4/5; 16/16] START batch_size=50, epochs=200.................................\n",
      "[CV 4/5; 16/16] END .batch_size=50, epochs=200;, score=-0.036 total time=  18.7s\n",
      "[CV 5/5; 16/16] START batch_size=50, epochs=200.................................\n",
      "[CV 5/5; 16/16] END .batch_size=50, epochs=200;, score=-0.026 total time=  18.6s\n"
     ]
    }
   ],
   "source": [
    "grid_result = grid.fit(x_test,y_test)"
   ]
  },
  {
   "cell_type": "code",
   "execution_count": 65,
   "id": "483e3f38",
   "metadata": {},
   "outputs": [
    {
     "name": "stdout",
     "output_type": "stream",
     "text": [
      "Best -0.02866109237074852, using {'batch_size': 40, 'epochs': 200}\n",
      "-0.05224805995821953,0.015546208971706764 with {'batch_size': 10, 'epochs': 10}\n",
      "-0.03585148677229881,0.003754369379243687 with {'batch_size': 10, 'epochs': 50}\n",
      "-0.03232522383332252,0.005794000413424672 with {'batch_size': 10, 'epochs': 100}\n",
      "-0.03660063222050667,0.007307943505439092 with {'batch_size': 10, 'epochs': 200}\n",
      "-0.03998197726905346,0.008489289511689438 with {'batch_size': 20, 'epochs': 10}\n",
      "-0.03448891006410122,0.0024480097831510402 with {'batch_size': 20, 'epochs': 50}\n",
      "-0.03181973472237587,0.004626483852456871 with {'batch_size': 20, 'epochs': 100}\n",
      "-0.03162822313606739,0.004201925674545686 with {'batch_size': 20, 'epochs': 200}\n",
      "-0.03539412394165993,0.003099212934395534 with {'batch_size': 40, 'epochs': 10}\n",
      "-0.031984541192650796,0.0022462202438108397 with {'batch_size': 40, 'epochs': 50}\n",
      "-0.033223414421081544,0.0061896182520120475 with {'batch_size': 40, 'epochs': 100}\n",
      "-0.02866109237074852,0.0016162995233162767 with {'batch_size': 40, 'epochs': 200}\n",
      "-0.0377718061208725,0.00584574096115503 with {'batch_size': 50, 'epochs': 10}\n",
      "-0.03664945252239704,0.003963763428468178 with {'batch_size': 50, 'epochs': 50}\n",
      "-0.030771733820438386,0.003970097453495591 with {'batch_size': 50, 'epochs': 100}\n",
      "-0.031460870802402494,0.004250055116826112 with {'batch_size': 50, 'epochs': 200}\n"
     ]
    }
   ],
   "source": [
    "print('Best {}, using {}'.format(grid_result.best_score_,grid_result.best_params_))\n",
    "means = grid_result.cv_results_[\"mean_test_score\"]\n",
    "stds = grid_result.cv_results_[\"std_test_score\"]\n",
    "params = grid_result.cv_results_[\"params\"]\n",
    "for mean,stdev,param in zip(means,stds,params):\n",
    "    print(\"{},{} with {}\".format(mean,stdev,param))"
   ]
  },
  {
   "cell_type": "markdown",
   "id": "0fdc9e0c",
   "metadata": {},
   "source": [
    "# Hyperparameter Tuning: \n",
    "Optimal Droupout rate"
   ]
  },
  {
   "cell_type": "code",
   "execution_count": 66,
   "id": "d55ae611",
   "metadata": {},
   "outputs": [],
   "source": [
    "def create_model(dropout_rate):\n",
    "    model2 = Sequential()\n",
    "    model2.add(Dense(32,input_dim=7,activation='relu'))\n",
    "    model2.add(Dense(64,activation='relu'))\n",
    "    model2.add(Dense(96,activation=\"relu\"))\n",
    "    model2.add(Dense(32,activation=\"relu\"))\n",
    "    model2.add(Dense(64,activation=\"relu\"))\n",
    "    model2.add(Dense(32,activation=\"relu\"))\n",
    "    model2.add(Dense(96,activation=\"relu\"))\n",
    "    model2.add(Dense(96,activation=\"relu\"))\n",
    "    model2.add(Dense(32,activation=\"relu\"))\n",
    "    model2.add(Dense(64,activation=\"relu\"))\n",
    "    model2.add(Dense(64,activation=\"relu\"))\n",
    "    model2.add(Dense(units=1,activation=\"linear\"))\n",
    "    \n",
    "    adam=Adam(lr=0.001)\n",
    "    model2.compile(loss='mean_absolute_error',optimizer = adam,metrics=[\"mean_absolute_error\"])\n",
    "    return model2"
   ]
  },
  {
   "cell_type": "code",
   "execution_count": 67,
   "id": "c0fe9ec0",
   "metadata": {},
   "outputs": [],
   "source": [
    "model2=KerasRegressor(build_fn=create_model,batch_size=40,epochs=200,verbose=0)\n",
    "dropout_rate=[0.0,0.1,0.2,0.3,0.4,0.5]\n",
    "param_grid=dict(dropout_rate=dropout_rate)\n",
    "grid2 = GridSearchCV(estimator=model2,param_grid=param_grid,cv=KFold(),verbose=10)"
   ]
  },
  {
   "cell_type": "code",
   "execution_count": 68,
   "id": "f242f960",
   "metadata": {
    "scrolled": false
   },
   "outputs": [
    {
     "name": "stdout",
     "output_type": "stream",
     "text": [
      "Fitting 5 folds for each of 6 candidates, totalling 30 fits\n",
      "[CV 1/5; 1/6] START dropout_rate=0.0............................................\n",
      "[CV 1/5; 1/6] END ............dropout_rate=0.0;, score=-0.029 total time=  20.9s\n",
      "[CV 2/5; 1/6] START dropout_rate=0.0............................................\n",
      "[CV 2/5; 1/6] END ............dropout_rate=0.0;, score=-0.029 total time=  20.6s\n",
      "[CV 3/5; 1/6] START dropout_rate=0.0............................................\n",
      "[CV 3/5; 1/6] END ............dropout_rate=0.0;, score=-0.031 total time=  22.1s\n",
      "[CV 4/5; 1/6] START dropout_rate=0.0............................................\n",
      "[CV 4/5; 1/6] END ............dropout_rate=0.0;, score=-0.029 total time=  21.3s\n",
      "[CV 5/5; 1/6] START dropout_rate=0.0............................................\n",
      "[CV 5/5; 1/6] END ............dropout_rate=0.0;, score=-0.025 total time=  20.4s\n",
      "[CV 1/5; 2/6] START dropout_rate=0.1............................................\n",
      "[CV 1/5; 2/6] END ............dropout_rate=0.1;, score=-0.041 total time=  20.2s\n",
      "[CV 2/5; 2/6] START dropout_rate=0.1............................................\n",
      "[CV 2/5; 2/6] END ............dropout_rate=0.1;, score=-0.026 total time=  22.3s\n",
      "[CV 3/5; 2/6] START dropout_rate=0.1............................................\n",
      "[CV 3/5; 2/6] END ............dropout_rate=0.1;, score=-0.030 total time=  21.2s\n",
      "[CV 4/5; 2/6] START dropout_rate=0.1............................................\n",
      "[CV 4/5; 2/6] END ............dropout_rate=0.1;, score=-0.028 total time=  20.7s\n",
      "[CV 5/5; 2/6] START dropout_rate=0.1............................................\n",
      "[CV 5/5; 2/6] END ............dropout_rate=0.1;, score=-0.033 total time=  20.5s\n",
      "[CV 1/5; 3/6] START dropout_rate=0.2............................................\n",
      "[CV 1/5; 3/6] END ............dropout_rate=0.2;, score=-0.028 total time=  20.2s\n",
      "[CV 2/5; 3/6] START dropout_rate=0.2............................................\n",
      "[CV 2/5; 3/6] END ............dropout_rate=0.2;, score=-0.045 total time=  21.8s\n",
      "[CV 3/5; 3/6] START dropout_rate=0.2............................................\n",
      "[CV 3/5; 3/6] END ............dropout_rate=0.2;, score=-0.028 total time=  21.5s\n",
      "[CV 4/5; 3/6] START dropout_rate=0.2............................................\n",
      "[CV 4/5; 3/6] END ............dropout_rate=0.2;, score=-0.028 total time=  21.0s\n",
      "[CV 5/5; 3/6] START dropout_rate=0.2............................................\n",
      "[CV 5/5; 3/6] END ............dropout_rate=0.2;, score=-0.025 total time=  20.2s\n",
      "[CV 1/5; 4/6] START dropout_rate=0.3............................................\n",
      "[CV 1/5; 4/6] END ............dropout_rate=0.3;, score=-0.027 total time=  20.0s\n",
      "[CV 2/5; 4/6] START dropout_rate=0.3............................................\n",
      "[CV 2/5; 4/6] END ............dropout_rate=0.3;, score=-0.035 total time=  22.9s\n",
      "[CV 3/5; 4/6] START dropout_rate=0.3............................................\n",
      "[CV 3/5; 4/6] END ............dropout_rate=0.3;, score=-0.031 total time=  22.5s\n",
      "[CV 4/5; 4/6] START dropout_rate=0.3............................................\n",
      "[CV 4/5; 4/6] END ............dropout_rate=0.3;, score=-0.028 total time=  21.4s\n",
      "[CV 5/5; 4/6] START dropout_rate=0.3............................................\n",
      "[CV 5/5; 4/6] END ............dropout_rate=0.3;, score=-0.041 total time=  20.8s\n",
      "[CV 1/5; 5/6] START dropout_rate=0.4............................................\n",
      "[CV 1/5; 5/6] END ............dropout_rate=0.4;, score=-0.033 total time=  20.5s\n",
      "[CV 2/5; 5/6] START dropout_rate=0.4............................................\n",
      "[CV 2/5; 5/6] END ............dropout_rate=0.4;, score=-0.030 total time=  22.3s\n",
      "[CV 3/5; 5/6] START dropout_rate=0.4............................................\n",
      "[CV 3/5; 5/6] END ............dropout_rate=0.4;, score=-0.028 total time=  22.0s\n",
      "[CV 4/5; 5/6] START dropout_rate=0.4............................................\n",
      "[CV 4/5; 5/6] END ............dropout_rate=0.4;, score=-0.031 total time=  21.3s\n",
      "[CV 5/5; 5/6] START dropout_rate=0.4............................................\n",
      "[CV 5/5; 5/6] END ............dropout_rate=0.4;, score=-0.036 total time=  20.9s\n",
      "[CV 1/5; 6/6] START dropout_rate=0.5............................................\n",
      "[CV 1/5; 6/6] END ............dropout_rate=0.5;, score=-0.034 total time=  22.7s\n",
      "[CV 2/5; 6/6] START dropout_rate=0.5............................................\n",
      "[CV 2/5; 6/6] END ............dropout_rate=0.5;, score=-0.028 total time=  22.2s\n",
      "[CV 3/5; 6/6] START dropout_rate=0.5............................................\n",
      "[CV 3/5; 6/6] END ............dropout_rate=0.5;, score=-0.029 total time=  21.1s\n",
      "[CV 4/5; 6/6] START dropout_rate=0.5............................................\n",
      "[CV 4/5; 6/6] END ............dropout_rate=0.5;, score=-0.035 total time=  20.8s\n",
      "[CV 5/5; 6/6] START dropout_rate=0.5............................................\n",
      "[CV 5/5; 6/6] END ............dropout_rate=0.5;, score=-0.030 total time=  20.8s\n"
     ]
    }
   ],
   "source": [
    "grid_result2 = grid2.fit(x_test,y_test)"
   ]
  },
  {
   "cell_type": "code",
   "execution_count": 69,
   "id": "a305157d",
   "metadata": {},
   "outputs": [
    {
     "name": "stdout",
     "output_type": "stream",
     "text": [
      "Best -0.028773216530680656, using {'dropout_rate': 0.0}\n",
      "-0.028773216530680656,0.0019410401531494118 with {'dropout_rate': 0.0}\n",
      "-0.03144183531403542,0.0053453333774556785 with {'dropout_rate': 0.1}\n",
      "-0.030797438323497774,0.00700966695384807 with {'dropout_rate': 0.2}\n",
      "-0.03225676007568836,0.005006151088716248 with {'dropout_rate': 0.3}\n",
      "-0.03167895153164864,0.0026271180783469924 with {'dropout_rate': 0.4}\n",
      "-0.03130651861429214,0.0028076570604663727 with {'dropout_rate': 0.5}\n"
     ]
    }
   ],
   "source": [
    "print('Best {}, using {}'.format(grid_result2.best_score_,grid_result2.best_params_))\n",
    "means = grid_result2.cv_results_[\"mean_test_score\"]\n",
    "stds = grid_result2.cv_results_[\"std_test_score\"]\n",
    "params = grid_result2.cv_results_[\"params\"]\n",
    "for mean,stdev,param in zip(means,stds,params):\n",
    "    print(\"{},{} with {}\".format(mean,stdev,param))"
   ]
  },
  {
   "cell_type": "markdown",
   "id": "81ae835e",
   "metadata": {},
   "source": [
    "# Hyperparameter Tuning: \n",
    "Optimal Activation Function and Kernel Initializer"
   ]
  },
  {
   "cell_type": "code",
   "execution_count": 70,
   "id": "8ee1505f",
   "metadata": {},
   "outputs": [],
   "source": [
    "def create_model(activation_function,init):\n",
    "    model3 = Sequential()\n",
    "    model3.add(Dense(32,input_dim=7,activation='relu'))\n",
    "    model3.add(Dropout(0.3))\n",
    "    model3.add(Dense(64,activation='relu'))\n",
    "    model3.add(Dropout(0.3))\n",
    "    model3.add(Dense(96,activation=\"relu\"))\n",
    "    model3.add(Dropout(0.3))\n",
    "    model3.add(Dense(32,activation=\"relu\"))\n",
    "    model3.add(Dropout(0.3))\n",
    "    model3.add(Dense(64,activation=\"relu\"))\n",
    "    model3.add(Dropout(0.3))\n",
    "    model3.add(Dense(32,activation=\"relu\"))\n",
    "    model3.add(Dropout(0.3))\n",
    "    model3.add(Dense(96,activation=\"relu\"))\n",
    "    model3.add(Dropout(0.3))\n",
    "    model3.add(Dense(96,activation=\"relu\"))\n",
    "    model3.add(Dropout(0.3))\n",
    "    model3.add(Dense(32,activation=\"relu\"))\n",
    "    model3.add(Dropout(0.3))\n",
    "    model3.add(Dense(64,activation=\"relu\"))\n",
    "    model3.add(Dropout(0.3))\n",
    "    model3.add(Dense(64,activation=\"relu\"))\n",
    "    model3.add(Dropout(0.3))\n",
    "    model3.add(Dense(units=1,activation=\"linear\"))\n",
    "    \n",
    "    adam=Adam(lr=0.001)\n",
    "    model3.compile(loss='mean_absolute_error',optimizer = adam,metrics=[\"mean_absolute_error\"])\n",
    "    return model3"
   ]
  },
  {
   "cell_type": "code",
   "execution_count": 71,
   "id": "b5e40fea",
   "metadata": {},
   "outputs": [],
   "source": [
    "model3=KerasRegressor(build_fn=create_model,batch_size=40,epochs=200,verbose=0)\n",
    "activation_function=['softmax','tanh','relu']\n",
    "init=['normal','uniform','zero']\n",
    "param_grid=dict(activation_function=activation_function,init=init)\n",
    "grid3 = GridSearchCV(estimator=model3,param_grid=param_grid,cv=KFold(),verbose=10)"
   ]
  },
  {
   "cell_type": "code",
   "execution_count": 72,
   "id": "b6fa4d36",
   "metadata": {
    "scrolled": false
   },
   "outputs": [
    {
     "name": "stdout",
     "output_type": "stream",
     "text": [
      "Fitting 5 folds for each of 9 candidates, totalling 45 fits\n",
      "[CV 1/5; 1/9] START activation_function=softmax, init=normal....................\n",
      "[CV 1/5; 1/9] END activation_function=softmax, init=normal;, score=-0.783 total time=  38.4s\n",
      "[CV 2/5; 1/9] START activation_function=softmax, init=normal....................\n",
      "[CV 2/5; 1/9] END activation_function=softmax, init=normal;, score=-0.724 total time=  37.8s\n",
      "[CV 3/5; 1/9] START activation_function=softmax, init=normal....................\n",
      "[CV 3/5; 1/9] END activation_function=softmax, init=normal;, score=-0.718 total time=  39.0s\n",
      "[CV 4/5; 1/9] START activation_function=softmax, init=normal....................\n",
      "[CV 4/5; 1/9] END activation_function=softmax, init=normal;, score=-0.679 total time=  38.0s\n",
      "[CV 5/5; 1/9] START activation_function=softmax, init=normal....................\n",
      "[CV 5/5; 1/9] END activation_function=softmax, init=normal;, score=-0.780 total time=  40.0s\n",
      "[CV 1/5; 2/9] START activation_function=softmax, init=uniform...................\n",
      "[CV 1/5; 2/9] END activation_function=softmax, init=uniform;, score=-0.734 total time=  37.5s\n",
      "[CV 2/5; 2/9] START activation_function=softmax, init=uniform...................\n",
      "[CV 2/5; 2/9] END activation_function=softmax, init=uniform;, score=-0.718 total time=  39.0s\n",
      "[CV 3/5; 2/9] START activation_function=softmax, init=uniform...................\n",
      "[CV 3/5; 2/9] END activation_function=softmax, init=uniform;, score=-0.866 total time=  37.9s\n",
      "[CV 4/5; 2/9] START activation_function=softmax, init=uniform...................\n",
      "[CV 4/5; 2/9] END activation_function=softmax, init=uniform;, score=-0.735 total time=  37.1s\n",
      "[CV 5/5; 2/9] START activation_function=softmax, init=uniform...................\n",
      "[CV 5/5; 2/9] END activation_function=softmax, init=uniform;, score=-0.890 total time=  38.7s\n",
      "[CV 1/5; 3/9] START activation_function=softmax, init=zero......................\n",
      "[CV 1/5; 3/9] END activation_function=softmax, init=zero;, score=-0.701 total time=  39.5s\n",
      "[CV 2/5; 3/9] START activation_function=softmax, init=zero......................\n",
      "[CV 2/5; 3/9] END activation_function=softmax, init=zero;, score=-0.665 total time=  37.3s\n",
      "[CV 3/5; 3/9] START activation_function=softmax, init=zero......................\n",
      "[CV 3/5; 3/9] END activation_function=softmax, init=zero;, score=-0.858 total time=  38.5s\n",
      "[CV 4/5; 3/9] START activation_function=softmax, init=zero......................\n",
      "[CV 4/5; 3/9] END activation_function=softmax, init=zero;, score=-0.622 total time=  37.5s\n",
      "[CV 5/5; 3/9] START activation_function=softmax, init=zero......................\n",
      "[CV 5/5; 3/9] END activation_function=softmax, init=zero;, score=-0.623 total time=  37.3s\n",
      "[CV 1/5; 4/9] START activation_function=tanh, init=normal.......................\n",
      "[CV 1/5; 4/9] END activation_function=tanh, init=normal;, score=-0.764 total time=  37.1s\n",
      "[CV 2/5; 4/9] START activation_function=tanh, init=normal.......................\n",
      "[CV 2/5; 4/9] END activation_function=tanh, init=normal;, score=-0.767 total time=  38.1s\n",
      "[CV 3/5; 4/9] START activation_function=tanh, init=normal.......................\n",
      "[CV 3/5; 4/9] END activation_function=tanh, init=normal;, score=-0.732 total time=  37.3s\n",
      "[CV 4/5; 4/9] START activation_function=tanh, init=normal.......................\n",
      "[CV 4/5; 4/9] END activation_function=tanh, init=normal;, score=-0.790 total time=  36.9s\n",
      "[CV 5/5; 4/9] START activation_function=tanh, init=normal.......................\n",
      "[CV 5/5; 4/9] END activation_function=tanh, init=normal;, score=-0.740 total time=  38.5s\n",
      "[CV 1/5; 5/9] START activation_function=tanh, init=uniform......................\n",
      "[CV 1/5; 5/9] END activation_function=tanh, init=uniform;, score=-0.763 total time=  39.6s\n",
      "[CV 2/5; 5/9] START activation_function=tanh, init=uniform......................\n",
      "[CV 2/5; 5/9] END activation_function=tanh, init=uniform;, score=-0.658 total time=  37.3s\n",
      "[CV 3/5; 5/9] START activation_function=tanh, init=uniform......................\n",
      "[CV 3/5; 5/9] END activation_function=tanh, init=uniform;, score=-0.656 total time=  38.5s\n",
      "[CV 4/5; 5/9] START activation_function=tanh, init=uniform......................\n",
      "[CV 4/5; 5/9] END activation_function=tanh, init=uniform;, score=-0.849 total time=  37.8s\n",
      "[CV 5/5; 5/9] START activation_function=tanh, init=uniform......................\n",
      "[CV 5/5; 5/9] END activation_function=tanh, init=uniform;, score=-0.652 total time=  37.5s\n",
      "[CV 1/5; 6/9] START activation_function=tanh, init=zero.........................\n",
      "[CV 1/5; 6/9] END activation_function=tanh, init=zero;, score=-0.877 total time=  37.5s\n",
      "[CV 2/5; 6/9] START activation_function=tanh, init=zero.........................\n",
      "[CV 2/5; 6/9] END activation_function=tanh, init=zero;, score=-0.185 total time=  38.1s\n",
      "[CV 3/5; 6/9] START activation_function=tanh, init=zero.........................\n",
      "[CV 3/5; 6/9] END activation_function=tanh, init=zero;, score=-0.853 total time=  37.5s\n",
      "[CV 4/5; 6/9] START activation_function=tanh, init=zero.........................\n",
      "[CV 4/5; 6/9] END activation_function=tanh, init=zero;, score=-0.716 total time=  37.2s\n",
      "[CV 5/5; 6/9] START activation_function=tanh, init=zero.........................\n",
      "[CV 5/5; 6/9] END activation_function=tanh, init=zero;, score=-0.863 total time=  39.0s\n",
      "[CV 1/5; 7/9] START activation_function=relu, init=normal.......................\n",
      "[CV 1/5; 7/9] END activation_function=relu, init=normal;, score=-0.911 total time=  38.1s\n",
      "[CV 2/5; 7/9] START activation_function=relu, init=normal.......................\n",
      "[CV 2/5; 7/9] END activation_function=relu, init=normal;, score=-0.762 total time=  37.5s\n",
      "[CV 3/5; 7/9] START activation_function=relu, init=normal.......................\n",
      "[CV 3/5; 7/9] END activation_function=relu, init=normal;, score=-0.603 total time=  38.9s\n",
      "[CV 4/5; 7/9] START activation_function=relu, init=normal.......................\n",
      "[CV 4/5; 7/9] END activation_function=relu, init=normal;, score=-0.762 total time=  37.9s\n",
      "[CV 5/5; 7/9] START activation_function=relu, init=normal.......................\n",
      "[CV 5/5; 7/9] END activation_function=relu, init=normal;, score=-0.828 total time=  37.3s\n",
      "[CV 1/5; 8/9] START activation_function=relu, init=uniform......................\n",
      "[CV 1/5; 8/9] END activation_function=relu, init=uniform;, score=-0.698 total time=  37.1s\n",
      "[CV 2/5; 8/9] START activation_function=relu, init=uniform......................\n",
      "[CV 2/5; 8/9] END activation_function=relu, init=uniform;, score=-0.698 total time=  37.8s\n",
      "[CV 3/5; 8/9] START activation_function=relu, init=uniform......................\n",
      "[CV 3/5; 8/9] END activation_function=relu, init=uniform;, score=-0.239 total time=  37.4s\n",
      "[CV 4/5; 8/9] START activation_function=relu, init=uniform......................\n",
      "[CV 4/5; 8/9] END activation_function=relu, init=uniform;, score=-0.776 total time=  37.1s\n",
      "[CV 5/5; 8/9] START activation_function=relu, init=uniform......................\n",
      "[CV 5/5; 8/9] END activation_function=relu, init=uniform;, score=-0.866 total time=  39.0s\n",
      "[CV 1/5; 9/9] START activation_function=relu, init=zero.........................\n",
      "[CV 1/5; 9/9] END activation_function=relu, init=zero;, score=-0.752 total time=  38.2s\n",
      "[CV 2/5; 9/9] START activation_function=relu, init=zero.........................\n",
      "[CV 2/5; 9/9] END activation_function=relu, init=zero;, score=-0.595 total time=  37.8s\n",
      "[CV 3/5; 9/9] START activation_function=relu, init=zero.........................\n",
      "[CV 3/5; 9/9] END activation_function=relu, init=zero;, score=-0.770 total time=  39.1s\n",
      "[CV 4/5; 9/9] START activation_function=relu, init=zero.........................\n",
      "[CV 4/5; 9/9] END activation_function=relu, init=zero;, score=-0.250 total time=  38.1s\n",
      "[CV 5/5; 9/9] START activation_function=relu, init=zero.........................\n",
      "[CV 5/5; 9/9] END activation_function=relu, init=zero;, score=-0.210 total time=  38.2s\n"
     ]
    }
   ],
   "source": [
    "grid_result3 = grid3.fit(x_test,y_test)"
   ]
  },
  {
   "cell_type": "code",
   "execution_count": 79,
   "id": "8a8c84b8",
   "metadata": {},
   "outputs": [
    {
     "name": "stdout",
     "output_type": "stream",
     "text": [
      "Best -0.5156297415494919, using {'activation_function': 'relu', 'init': 'zero'}\n",
      "-0.736888325214386,0.03953167294154951 with {'activation_function': 'softmax', 'init': 'normal'}\n",
      "-0.7885318517684936,0.07341225525083392 with {'activation_function': 'softmax', 'init': 'uniform'}\n",
      "-0.6940292119979858,0.08708033183662701 with {'activation_function': 'softmax', 'init': 'zero'}\n",
      "-0.7585910558700562,0.020363426349101262 with {'activation_function': 'tanh', 'init': 'normal'}\n",
      "-0.715707790851593,0.07842000478347273 with {'activation_function': 'tanh', 'init': 'uniform'}\n",
      "-0.6990578800439835,0.2633086949327088 with {'activation_function': 'tanh', 'init': 'zero'}\n",
      "-0.7735232234001159,0.10112187897374643 with {'activation_function': 'relu', 'init': 'normal'}\n",
      "-0.6554908931255341,0.2171109844972484 with {'activation_function': 'relu', 'init': 'uniform'}\n",
      "-0.5156297415494919,0.24118542487830388 with {'activation_function': 'relu', 'init': 'zero'}\n"
     ]
    }
   ],
   "source": [
    "print('Best {}, using {}'.format(grid_result3.best_score_,grid_result3.best_params_))\n",
    "means = grid_result3.cv_results_[\"mean_test_score\"]\n",
    "stds = grid_result3.cv_results_[\"std_test_score\"]\n",
    "params = grid_result3.cv_results_[\"params\"]\n",
    "for mean,stdev,param in zip(means,stds,params):\n",
    "    print(\"{},{} with {}\".format(mean,stdev,param))"
   ]
  },
  {
   "cell_type": "markdown",
   "id": "4084a0ab",
   "metadata": {},
   "source": [
    "# Built the Model"
   ]
  },
  {
   "cell_type": "code",
   "execution_count": 80,
   "id": "3d8a47ab",
   "metadata": {},
   "outputs": [
    {
     "data": {
      "text/html": [
       "<div>\n",
       "<style scoped>\n",
       "    .dataframe tbody tr th:only-of-type {\n",
       "        vertical-align: middle;\n",
       "    }\n",
       "\n",
       "    .dataframe tbody tr th {\n",
       "        vertical-align: top;\n",
       "    }\n",
       "\n",
       "    .dataframe thead th {\n",
       "        text-align: right;\n",
       "    }\n",
       "</style>\n",
       "<table border=\"1\" class=\"dataframe\">\n",
       "  <thead>\n",
       "    <tr style=\"text-align: right;\">\n",
       "      <th></th>\n",
       "      <th>CDP</th>\n",
       "      <th>GTEP</th>\n",
       "      <th>TIT</th>\n",
       "      <th>TAT</th>\n",
       "      <th>AFDP</th>\n",
       "      <th>CO</th>\n",
       "      <th>AT</th>\n",
       "      <th>TEY</th>\n",
       "    </tr>\n",
       "  </thead>\n",
       "  <tbody>\n",
       "    <tr>\n",
       "      <th>0</th>\n",
       "      <td>10.605</td>\n",
       "      <td>19.663</td>\n",
       "      <td>1059.2</td>\n",
       "      <td>550.00</td>\n",
       "      <td>3.5000</td>\n",
       "      <td>3.1547</td>\n",
       "      <td>6.8594</td>\n",
       "      <td>114.70</td>\n",
       "    </tr>\n",
       "    <tr>\n",
       "      <th>1</th>\n",
       "      <td>10.598</td>\n",
       "      <td>19.728</td>\n",
       "      <td>1059.3</td>\n",
       "      <td>550.00</td>\n",
       "      <td>3.4998</td>\n",
       "      <td>3.2363</td>\n",
       "      <td>6.7850</td>\n",
       "      <td>114.72</td>\n",
       "    </tr>\n",
       "    <tr>\n",
       "      <th>2</th>\n",
       "      <td>10.601</td>\n",
       "      <td>19.779</td>\n",
       "      <td>1059.4</td>\n",
       "      <td>549.87</td>\n",
       "      <td>3.4824</td>\n",
       "      <td>3.2012</td>\n",
       "      <td>6.8977</td>\n",
       "      <td>114.71</td>\n",
       "    </tr>\n",
       "    <tr>\n",
       "      <th>3</th>\n",
       "      <td>10.606</td>\n",
       "      <td>19.792</td>\n",
       "      <td>1059.6</td>\n",
       "      <td>549.99</td>\n",
       "      <td>3.4805</td>\n",
       "      <td>3.1923</td>\n",
       "      <td>7.0569</td>\n",
       "      <td>114.72</td>\n",
       "    </tr>\n",
       "    <tr>\n",
       "      <th>4</th>\n",
       "      <td>10.612</td>\n",
       "      <td>19.765</td>\n",
       "      <td>1059.7</td>\n",
       "      <td>549.98</td>\n",
       "      <td>3.4976</td>\n",
       "      <td>3.2484</td>\n",
       "      <td>7.3978</td>\n",
       "      <td>114.72</td>\n",
       "    </tr>\n",
       "    <tr>\n",
       "      <th>...</th>\n",
       "      <td>...</td>\n",
       "      <td>...</td>\n",
       "      <td>...</td>\n",
       "      <td>...</td>\n",
       "      <td>...</td>\n",
       "      <td>...</td>\n",
       "      <td>...</td>\n",
       "      <td>...</td>\n",
       "    </tr>\n",
       "    <tr>\n",
       "      <th>15034</th>\n",
       "      <td>10.400</td>\n",
       "      <td>19.164</td>\n",
       "      <td>1049.7</td>\n",
       "      <td>546.21</td>\n",
       "      <td>3.5421</td>\n",
       "      <td>4.5186</td>\n",
       "      <td>9.0301</td>\n",
       "      <td>111.61</td>\n",
       "    </tr>\n",
       "    <tr>\n",
       "      <th>15035</th>\n",
       "      <td>10.433</td>\n",
       "      <td>19.414</td>\n",
       "      <td>1046.3</td>\n",
       "      <td>543.22</td>\n",
       "      <td>3.5059</td>\n",
       "      <td>4.8470</td>\n",
       "      <td>7.8879</td>\n",
       "      <td>111.78</td>\n",
       "    </tr>\n",
       "    <tr>\n",
       "      <th>15036</th>\n",
       "      <td>10.483</td>\n",
       "      <td>19.530</td>\n",
       "      <td>1037.7</td>\n",
       "      <td>537.32</td>\n",
       "      <td>3.4770</td>\n",
       "      <td>7.9632</td>\n",
       "      <td>7.2647</td>\n",
       "      <td>110.19</td>\n",
       "    </tr>\n",
       "    <tr>\n",
       "      <th>15037</th>\n",
       "      <td>10.533</td>\n",
       "      <td>19.377</td>\n",
       "      <td>1043.2</td>\n",
       "      <td>541.24</td>\n",
       "      <td>3.4486</td>\n",
       "      <td>6.2494</td>\n",
       "      <td>7.0060</td>\n",
       "      <td>110.74</td>\n",
       "    </tr>\n",
       "    <tr>\n",
       "      <th>15038</th>\n",
       "      <td>10.583</td>\n",
       "      <td>19.306</td>\n",
       "      <td>1049.9</td>\n",
       "      <td>545.85</td>\n",
       "      <td>3.4275</td>\n",
       "      <td>4.9816</td>\n",
       "      <td>6.9279</td>\n",
       "      <td>111.58</td>\n",
       "    </tr>\n",
       "  </tbody>\n",
       "</table>\n",
       "<p>15039 rows × 8 columns</p>\n",
       "</div>"
      ],
      "text/plain": [
       "          CDP    GTEP     TIT     TAT    AFDP      CO      AT     TEY\n",
       "0      10.605  19.663  1059.2  550.00  3.5000  3.1547  6.8594  114.70\n",
       "1      10.598  19.728  1059.3  550.00  3.4998  3.2363  6.7850  114.72\n",
       "2      10.601  19.779  1059.4  549.87  3.4824  3.2012  6.8977  114.71\n",
       "3      10.606  19.792  1059.6  549.99  3.4805  3.1923  7.0569  114.72\n",
       "4      10.612  19.765  1059.7  549.98  3.4976  3.2484  7.3978  114.72\n",
       "...       ...     ...     ...     ...     ...     ...     ...     ...\n",
       "15034  10.400  19.164  1049.7  546.21  3.5421  4.5186  9.0301  111.61\n",
       "15035  10.433  19.414  1046.3  543.22  3.5059  4.8470  7.8879  111.78\n",
       "15036  10.483  19.530  1037.7  537.32  3.4770  7.9632  7.2647  110.19\n",
       "15037  10.533  19.377  1043.2  541.24  3.4486  6.2494  7.0060  110.74\n",
       "15038  10.583  19.306  1049.9  545.85  3.4275  4.9816  6.9279  111.58\n",
       "\n",
       "[15039 rows x 8 columns]"
      ]
     },
     "execution_count": 80,
     "metadata": {},
     "output_type": "execute_result"
    }
   ],
   "source": [
    "#Standardizing only predictor variable - after train test split\n",
    "model_data"
   ]
  },
  {
   "cell_type": "code",
   "execution_count": 75,
   "id": "50ba2fe9",
   "metadata": {},
   "outputs": [
    {
     "name": "stdout",
     "output_type": "stream",
     "text": [
      "(12031, 7)\n",
      "(3008, 7)\n",
      "(12031, 1)\n",
      "(3008, 1)\n"
     ]
    }
   ],
   "source": [
    "#assigning predictor variables to x and response variable to y\n",
    "x = model_data.drop('TEY', axis=1)\n",
    "y = model_data[[\"TEY\"]]\n",
    "\n",
    "x_train, x_test, y_train, y_test = train_test_split(x,y, test_size = 0.20, random_state=42)\n",
    "\n",
    "scaler_train = StandardScaler()\n",
    "scaler_test = StandardScaler()\n",
    "\n",
    "x_train_scaled = scaler_train.fit_transform(x_train) # scaling train data -- predictor\n",
    "x_test_scaled  = scaler_test.fit_transform(x_test) # scaling test data -- predictor\n",
    "\n",
    "print(x_train_scaled.shape)\n",
    "print(x_test_scaled.shape)\n",
    "print(y_train.shape)\n",
    "print(y_test.shape)\n"
   ]
  },
  {
   "cell_type": "code",
   "execution_count": 88,
   "id": "878a6c62",
   "metadata": {
    "scrolled": false
   },
   "outputs": [
    {
     "name": "stdout",
     "output_type": "stream",
     "text": [
      "Epoch 1/100\n",
      "169/169 [==============================] - 1s 2ms/step - loss: 17609.3652 - mae: 131.7357 - mse: 17609.3652 - val_loss: 16748.4746 - val_mae: 128.4539 - val_mse: 16748.4746\n",
      "Epoch 2/100\n",
      "169/169 [==============================] - 0s 1ms/step - loss: 16251.6055 - mae: 126.4838 - mse: 16251.6055 - val_loss: 15695.3828 - val_mae: 124.2873 - val_mse: 15695.3828\n",
      "Epoch 3/100\n",
      "169/169 [==============================] - 0s 1ms/step - loss: 15277.2109 - mae: 122.5723 - mse: 15277.2109 - val_loss: 14778.0723 - val_mae: 120.5407 - val_mse: 14778.0723\n",
      "Epoch 4/100\n",
      "169/169 [==============================] - 0s 1ms/step - loss: 14393.7070 - mae: 118.9148 - mse: 14393.7070 - val_loss: 13926.6494 - val_mae: 116.9558 - val_mse: 13926.6494\n",
      "Epoch 5/100\n",
      "169/169 [==============================] - 0s 1ms/step - loss: 13565.9600 - mae: 115.3840 - mse: 13565.9600 - val_loss: 13123.5332 - val_mae: 113.4705 - val_mse: 13123.5332\n",
      "Epoch 6/100\n",
      "169/169 [==============================] - 0s 1ms/step - loss: 12782.4277 - mae: 111.9370 - mse: 12782.4277 - val_loss: 12361.3076 - val_mae: 110.0606 - val_mse: 12361.3076\n",
      "Epoch 7/100\n",
      "169/169 [==============================] - 0s 1ms/step - loss: 12037.1094 - mae: 108.5583 - mse: 12037.1094 - val_loss: 11634.8369 - val_mae: 106.7092 - val_mse: 11634.8369\n",
      "Epoch 8/100\n",
      "169/169 [==============================] - 0s 1ms/step - loss: 11326.5684 - mae: 105.2346 - mse: 11326.5684 - val_loss: 10942.3076 - val_mae: 103.4134 - val_mse: 10942.3076\n",
      "Epoch 9/100\n",
      "169/169 [==============================] - 0s 1ms/step - loss: 10648.1709 - mae: 101.9573 - mse: 10648.1709 - val_loss: 10280.3232 - val_mae: 100.1616 - val_mse: 10280.3232\n",
      "Epoch 10/100\n",
      "169/169 [==============================] - 0s 1ms/step - loss: 9999.9941 - mae: 98.7317 - mse: 9999.9941 - val_loss: 9647.9736 - val_mae: 96.9536 - val_mse: 9647.9736\n",
      "Epoch 11/100\n",
      "169/169 [==============================] - 0s 1ms/step - loss: 9380.6045 - mae: 95.5405 - mse: 9380.6045 - val_loss: 9043.6709 - val_mae: 93.7854 - val_mse: 9043.6709\n",
      "Epoch 12/100\n",
      "169/169 [==============================] - 0s 1ms/step - loss: 8788.7803 - mae: 92.3922 - mse: 8788.7803 - val_loss: 8466.0547 - val_mae: 90.6537 - val_mse: 8466.0547\n",
      "Epoch 13/100\n",
      "169/169 [==============================] - 0s 1ms/step - loss: 8223.3818 - mae: 89.2766 - mse: 8223.3828 - val_loss: 7914.5688 - val_mae: 87.5591 - val_mse: 7914.5688\n",
      "Epoch 14/100\n",
      "169/169 [==============================] - 0s 1ms/step - loss: 7683.4062 - mae: 86.2046 - mse: 7683.4053 - val_loss: 7388.3442 - val_mae: 84.5007 - val_mse: 7388.3442\n",
      "Epoch 15/100\n",
      "169/169 [==============================] - 0s 1ms/step - loss: 7167.9927 - mae: 83.1571 - mse: 7167.9927 - val_loss: 6886.0361 - val_mae: 81.4743 - val_mse: 6886.0361\n",
      "Epoch 16/100\n",
      "169/169 [==============================] - 0s 1ms/step - loss: 6676.5356 - mae: 80.1491 - mse: 6676.5356 - val_loss: 6407.1802 - val_mae: 78.4806 - val_mse: 6407.1802\n",
      "Epoch 17/100\n",
      "169/169 [==============================] - 0s 1ms/step - loss: 6208.0225 - mae: 77.1722 - mse: 6208.0225 - val_loss: 5951.1177 - val_mae: 75.5192 - val_mse: 5951.1177\n",
      "Epoch 18/100\n",
      "169/169 [==============================] - 0s 1ms/step - loss: 5762.0225 - mae: 74.2271 - mse: 5762.0225 - val_loss: 5517.0864 - val_mae: 72.5887 - val_mse: 5517.0864\n",
      "Epoch 19/100\n",
      "169/169 [==============================] - 0s 1ms/step - loss: 5337.7437 - mae: 71.3137 - mse: 5337.7437 - val_loss: 5104.6138 - val_mae: 69.6896 - val_mse: 5104.6138\n",
      "Epoch 20/100\n",
      "169/169 [==============================] - 0s 1ms/step - loss: 4934.9170 - mae: 68.4254 - mse: 4934.9170 - val_loss: 4713.2192 - val_mae: 66.8225 - val_mse: 4713.2192\n",
      "Epoch 21/100\n",
      "169/169 [==============================] - 0s 1ms/step - loss: 4552.8643 - mae: 65.5782 - mse: 4552.8643 - val_loss: 4342.5845 - val_mae: 63.9892 - val_mse: 4342.5845\n",
      "Epoch 22/100\n",
      "169/169 [==============================] - 0s 1ms/step - loss: 4191.0728 - mae: 62.7630 - mse: 4191.0728 - val_loss: 3991.7832 - val_mae: 61.1867 - val_mse: 3991.7832\n",
      "Epoch 23/100\n",
      "169/169 [==============================] - 0s 1ms/step - loss: 3849.0999 - mae: 59.9737 - mse: 3849.0999 - val_loss: 3660.5974 - val_mae: 58.4177 - val_mse: 3660.5974\n",
      "Epoch 24/100\n",
      "169/169 [==============================] - 0s 1ms/step - loss: 3526.5566 - mae: 57.2201 - mse: 3526.5566 - val_loss: 3348.4482 - val_mae: 55.6819 - val_mse: 3348.4482\n",
      "Epoch 25/100\n",
      "169/169 [==============================] - 0s 1ms/step - loss: 3222.8818 - mae: 54.5065 - mse: 3222.8818 - val_loss: 3054.8835 - val_mae: 52.9803 - val_mse: 3054.8835\n",
      "Epoch 26/100\n",
      "169/169 [==============================] - 0s 1ms/step - loss: 2937.5833 - mae: 51.8227 - mse: 2937.5833 - val_loss: 2779.9897 - val_mae: 50.3192 - val_mse: 2779.9897\n",
      "Epoch 27/100\n",
      "169/169 [==============================] - 0s 1ms/step - loss: 2670.3198 - mae: 49.1734 - mse: 2670.3198 - val_loss: 2522.3831 - val_mae: 47.6908 - val_mse: 2522.3833\n",
      "Epoch 28/100\n",
      "169/169 [==============================] - 0s 1ms/step - loss: 2420.6484 - mae: 46.5659 - mse: 2420.6482 - val_loss: 2281.9941 - val_mae: 45.1002 - val_mse: 2281.9941\n",
      "Epoch 29/100\n",
      "169/169 [==============================] - 0s 1ms/step - loss: 2188.0999 - mae: 43.9968 - mse: 2188.0999 - val_loss: 2058.8845 - val_mae: 42.5548 - val_mse: 2058.8845\n",
      "Epoch 30/100\n",
      "169/169 [==============================] - 0s 1ms/step - loss: 1972.0598 - mae: 41.4762 - mse: 1972.0598 - val_loss: 1852.0305 - val_mae: 40.0507 - val_mse: 1852.0305\n",
      "Epoch 31/100\n",
      "169/169 [==============================] - 0s 1ms/step - loss: 1772.1971 - mae: 38.9952 - mse: 1772.1971 - val_loss: 1660.9144 - val_mae: 37.5891 - val_mse: 1660.9144\n",
      "Epoch 32/100\n",
      "169/169 [==============================] - 0s 1ms/step - loss: 1588.0632 - mae: 36.5428 - mse: 1588.0632 - val_loss: 1485.2159 - val_mae: 35.1745 - val_mse: 1485.2159\n",
      "Epoch 33/100\n",
      "169/169 [==============================] - 0s 1ms/step - loss: 1419.1591 - mae: 34.1633 - mse: 1419.1591 - val_loss: 1324.6777 - val_mae: 32.8133 - val_mse: 1324.6777\n",
      "Epoch 34/100\n",
      "169/169 [==============================] - 0s 1ms/step - loss: 1264.9939 - mae: 31.8242 - mse: 1264.9939 - val_loss: 1178.4269 - val_mae: 30.5081 - val_mse: 1178.4269\n",
      "Epoch 35/100\n",
      "169/169 [==============================] - 0s 1ms/step - loss: 1124.8315 - mae: 29.5702 - mse: 1124.8315 - val_loss: 1045.8890 - val_mae: 28.3052 - val_mse: 1045.8890\n",
      "Epoch 36/100\n",
      "169/169 [==============================] - 0s 1ms/step - loss: 998.2316 - mae: 27.4027 - mse: 998.2316 - val_loss: 926.7704 - val_mae: 26.1888 - val_mse: 926.7704\n",
      "Epoch 37/100\n",
      "169/169 [==============================] - 0s 1ms/step - loss: 884.7402 - mae: 25.3283 - mse: 884.7402 - val_loss: 820.1811 - val_mae: 24.2091 - val_mse: 820.1811\n",
      "Epoch 38/100\n",
      "169/169 [==============================] - 0s 1ms/step - loss: 783.4754 - mae: 23.4894 - mse: 783.4754 - val_loss: 725.7098 - val_mae: 22.5938 - val_mse: 725.7098\n",
      "Epoch 39/100\n",
      "169/169 [==============================] - 0s 1ms/step - loss: 693.9440 - mae: 22.0704 - mse: 693.9440 - val_loss: 642.4510 - val_mae: 21.3237 - val_mse: 642.4510\n",
      "Epoch 40/100\n",
      "169/169 [==============================] - 0s 1ms/step - loss: 615.4985 - mae: 20.8426 - mse: 615.4985 - val_loss: 569.9084 - val_mae: 20.1612 - val_mse: 569.9084\n",
      "Epoch 41/100\n",
      "169/169 [==============================] - 0s 1ms/step - loss: 547.3459 - mae: 19.7044 - mse: 547.3459 - val_loss: 507.4102 - val_mae: 19.0790 - val_mse: 507.4102\n",
      "Epoch 42/100\n",
      "169/169 [==============================] - 0s 1ms/step - loss: 488.7789 - mae: 18.6356 - mse: 488.7789 - val_loss: 453.8384 - val_mae: 18.0596 - val_mse: 453.8384\n",
      "Epoch 43/100\n",
      "169/169 [==============================] - 0s 1ms/step - loss: 439.0566 - mae: 17.6561 - mse: 439.0566 - val_loss: 408.9830 - val_mae: 17.1157 - val_mse: 408.9830\n",
      "Epoch 44/100\n",
      "169/169 [==============================] - 0s 1ms/step - loss: 397.3555 - mae: 16.7448 - mse: 397.3555 - val_loss: 371.6305 - val_mae: 16.2446 - val_mse: 371.6305\n",
      "Epoch 45/100\n",
      "169/169 [==============================] - 0s 1ms/step - loss: 363.0028 - mae: 15.9149 - mse: 363.0028 - val_loss: 341.1478 - val_mae: 15.4497 - val_mse: 341.1478\n",
      "Epoch 46/100\n"
     ]
    },
    {
     "name": "stdout",
     "output_type": "stream",
     "text": [
      "169/169 [==============================] - 0s 1ms/step - loss: 335.1328 - mae: 15.1500 - mse: 335.1328 - val_loss: 316.5081 - val_mae: 14.7235 - val_mse: 316.5081\n",
      "Epoch 47/100\n",
      "169/169 [==============================] - 0s 1ms/step - loss: 312.9075 - mae: 14.4779 - mse: 312.9075 - val_loss: 297.4559 - val_mae: 14.0806 - val_mse: 297.4559\n",
      "Epoch 48/100\n",
      "169/169 [==============================] - 0s 1ms/step - loss: 295.5046 - mae: 13.8658 - mse: 295.5046 - val_loss: 282.5968 - val_mae: 13.4959 - val_mse: 282.5968\n",
      "Epoch 49/100\n",
      "169/169 [==============================] - 0s 1ms/step - loss: 282.2442 - mae: 13.3181 - mse: 282.2442 - val_loss: 271.3540 - val_mae: 12.9716 - val_mse: 271.3540\n",
      "Epoch 50/100\n",
      "169/169 [==============================] - 0s 1ms/step - loss: 272.4076 - mae: 12.8487 - mse: 272.4076 - val_loss: 263.4291 - val_mae: 12.5274 - val_mse: 263.4291\n",
      "Epoch 51/100\n",
      "169/169 [==============================] - 0s 1ms/step - loss: 265.3129 - mae: 12.4335 - mse: 265.3129 - val_loss: 257.7039 - val_mae: 12.1356 - val_mse: 257.7039\n",
      "Epoch 52/100\n",
      "169/169 [==============================] - 0s 1ms/step - loss: 260.3509 - mae: 12.0884 - mse: 260.3509 - val_loss: 253.8932 - val_mae: 11.8104 - val_mse: 253.8932\n",
      "Epoch 53/100\n",
      "169/169 [==============================] - 0s 1ms/step - loss: 257.0087 - mae: 11.7913 - mse: 257.0087 - val_loss: 251.3513 - val_mae: 11.5352 - val_mse: 251.3513\n",
      "Epoch 54/100\n",
      "169/169 [==============================] - 0s 1ms/step - loss: 254.8335 - mae: 11.5529 - mse: 254.8335 - val_loss: 249.8282 - val_mae: 11.3270 - val_mse: 249.8282\n",
      "Epoch 55/100\n",
      "169/169 [==============================] - 0s 1ms/step - loss: 253.4754 - mae: 11.3803 - mse: 253.4754 - val_loss: 248.9180 - val_mae: 11.1882 - val_mse: 248.9180\n",
      "Epoch 56/100\n",
      "169/169 [==============================] - 0s 1ms/step - loss: 252.6644 - mae: 11.2702 - mse: 252.6644 - val_loss: 248.3814 - val_mae: 11.0881 - val_mse: 248.3814\n",
      "Epoch 57/100\n",
      "169/169 [==============================] - 0s 1ms/step - loss: 252.1946 - mae: 11.1996 - mse: 252.1946 - val_loss: 248.1401 - val_mae: 11.0366 - val_mse: 248.1401\n",
      "Epoch 58/100\n",
      "169/169 [==============================] - 0s 1ms/step - loss: 251.9511 - mae: 11.1810 - mse: 251.9511 - val_loss: 248.0203 - val_mae: 11.0400 - val_mse: 248.0203\n",
      "Epoch 59/100\n",
      "169/169 [==============================] - 0s 1ms/step - loss: 251.8214 - mae: 11.1923 - mse: 251.8214 - val_loss: 247.9802 - val_mae: 11.0538 - val_mse: 247.9802\n",
      "Epoch 60/100\n",
      "169/169 [==============================] - 0s 1ms/step - loss: 251.7653 - mae: 11.2107 - mse: 251.7653 - val_loss: 247.9694 - val_mae: 11.0663 - val_mse: 247.9694\n",
      "Epoch 61/100\n",
      "169/169 [==============================] - 0s 1ms/step - loss: 251.7345 - mae: 11.2207 - mse: 251.7345 - val_loss: 247.9710 - val_mae: 11.0769 - val_mse: 247.9710\n",
      "Epoch 62/100\n",
      "169/169 [==============================] - 0s 1ms/step - loss: 251.7225 - mae: 11.2301 - mse: 251.7225 - val_loss: 247.9841 - val_mae: 11.0917 - val_mse: 247.9841\n",
      "Epoch 63/100\n",
      "169/169 [==============================] - 0s 1ms/step - loss: 251.7154 - mae: 11.2416 - mse: 251.7154 - val_loss: 247.9829 - val_mae: 11.0908 - val_mse: 247.9829\n",
      "Epoch 64/100\n",
      "169/169 [==============================] - 0s 1ms/step - loss: 251.7239 - mae: 11.2366 - mse: 251.7239 - val_loss: 247.9901 - val_mae: 11.0971 - val_mse: 247.9901\n",
      "Epoch 65/100\n",
      "169/169 [==============================] - 0s 1ms/step - loss: 227.0214 - mae: 10.3386 - mse: 227.0214 - val_loss: 125.1590 - val_mae: 6.4327 - val_mse: 125.1590\n",
      "Epoch 66/100\n",
      "169/169 [==============================] - 0s 1ms/step - loss: 113.7366 - mae: 5.9111 - mse: 113.7366 - val_loss: 91.8870 - val_mae: 5.0566 - val_mse: 91.8870\n",
      "Epoch 67/100\n",
      "169/169 [==============================] - 0s 1ms/step - loss: 83.8328 - mae: 4.7997 - mse: 83.8328 - val_loss: 68.4727 - val_mae: 4.2155 - val_mse: 68.4727\n",
      "Epoch 68/100\n",
      "169/169 [==============================] - 0s 1ms/step - loss: 62.9503 - mae: 4.0640 - mse: 62.9503 - val_loss: 51.6493 - val_mae: 3.6087 - val_mse: 51.6493\n",
      "Epoch 69/100\n",
      "169/169 [==============================] - 0s 1ms/step - loss: 47.7983 - mae: 3.4802 - mse: 47.7983 - val_loss: 39.2995 - val_mae: 3.1023 - val_mse: 39.2995\n",
      "Epoch 70/100\n",
      "169/169 [==============================] - 0s 1ms/step - loss: 36.5973 - mae: 2.9822 - mse: 36.5973 - val_loss: 30.1192 - val_mae: 2.6562 - val_mse: 30.1192\n",
      "Epoch 71/100\n",
      "169/169 [==============================] - 0s 1ms/step - loss: 28.2355 - mae: 2.5900 - mse: 28.2355 - val_loss: 23.2879 - val_mae: 2.2967 - val_mse: 23.2879\n",
      "Epoch 72/100\n",
      "169/169 [==============================] - 0s 1ms/step - loss: 21.9069 - mae: 2.2534 - mse: 21.9069 - val_loss: 18.1576 - val_mae: 2.0294 - val_mse: 18.1576\n",
      "Epoch 73/100\n",
      "169/169 [==============================] - 0s 1ms/step - loss: 17.1449 - mae: 1.9943 - mse: 17.1449 - val_loss: 14.2484 - val_mae: 1.8142 - val_mse: 14.2484\n",
      "Epoch 74/100\n",
      "169/169 [==============================] - 0s 1ms/step - loss: 13.5392 - mae: 1.7742 - mse: 13.5392 - val_loss: 11.2443 - val_mae: 1.6187 - val_mse: 11.2443\n",
      "Epoch 75/100\n",
      "169/169 [==============================] - 0s 1ms/step - loss: 10.7676 - mae: 1.5909 - mse: 10.7676 - val_loss: 8.9947 - val_mae: 1.4749 - val_mse: 8.9947\n",
      "Epoch 76/100\n",
      "169/169 [==============================] - 0s 1ms/step - loss: 8.6101 - mae: 1.4431 - mse: 8.6101 - val_loss: 7.2049 - val_mae: 1.3176 - val_mse: 7.2049\n",
      "Epoch 77/100\n",
      "169/169 [==============================] - 0s 1ms/step - loss: 6.9292 - mae: 1.2946 - mse: 6.9292 - val_loss: 5.7728 - val_mae: 1.1778 - val_mse: 5.7728\n",
      "Epoch 78/100\n",
      "169/169 [==============================] - 0s 1ms/step - loss: 5.6416 - mae: 1.1895 - mse: 5.6416 - val_loss: 4.7049 - val_mae: 1.0811 - val_mse: 4.7049\n",
      "Epoch 79/100\n",
      "169/169 [==============================] - 0s 1ms/step - loss: 4.6188 - mae: 1.0915 - mse: 4.6188 - val_loss: 3.8808 - val_mae: 1.0004 - val_mse: 3.8808\n",
      "Epoch 80/100\n",
      "169/169 [==============================] - 0s 1ms/step - loss: 3.8242 - mae: 1.0099 - mse: 3.8242 - val_loss: 3.2656 - val_mae: 0.9335 - val_mse: 3.2656\n",
      "Epoch 81/100\n",
      "169/169 [==============================] - 0s 1ms/step - loss: 3.1993 - mae: 0.9346 - mse: 3.1993 - val_loss: 2.7740 - val_mae: 0.8752 - val_mse: 2.7740\n",
      "Epoch 82/100\n",
      "169/169 [==============================] - 0s 1ms/step - loss: 2.7070 - mae: 0.8761 - mse: 2.7070 - val_loss: 2.3256 - val_mae: 0.8068 - val_mse: 2.3256\n",
      "Epoch 83/100\n",
      "169/169 [==============================] - 0s 1ms/step - loss: 2.3193 - mae: 0.8260 - mse: 2.3193 - val_loss: 2.0167 - val_mae: 0.7639 - val_mse: 2.0167\n",
      "Epoch 84/100\n",
      "169/169 [==============================] - 0s 1ms/step - loss: 2.0112 - mae: 0.7868 - mse: 2.0112 - val_loss: 1.7760 - val_mae: 0.7397 - val_mse: 1.7760\n",
      "Epoch 85/100\n",
      "169/169 [==============================] - 0s 1ms/step - loss: 1.7670 - mae: 0.7506 - mse: 1.7670 - val_loss: 1.6073 - val_mae: 0.7434 - val_mse: 1.6073\n",
      "Epoch 86/100\n",
      "169/169 [==============================] - 0s 1ms/step - loss: 1.5619 - mae: 0.7210 - mse: 1.5619 - val_loss: 1.3800 - val_mae: 0.6743 - val_mse: 1.3800\n",
      "Epoch 87/100\n",
      "169/169 [==============================] - 0s 1ms/step - loss: 1.4140 - mae: 0.7025 - mse: 1.4140 - val_loss: 1.2682 - val_mae: 0.6705 - val_mse: 1.2682\n",
      "Epoch 88/100\n",
      "169/169 [==============================] - 0s 1ms/step - loss: 1.2655 - mae: 0.6741 - mse: 1.2655 - val_loss: 1.1147 - val_mae: 0.6240 - val_mse: 1.1147\n",
      "Epoch 89/100\n",
      "169/169 [==============================] - 0s 1ms/step - loss: 1.1336 - mae: 0.6456 - mse: 1.1336 - val_loss: 1.0296 - val_mae: 0.6238 - val_mse: 1.0296\n",
      "Epoch 90/100\n",
      "169/169 [==============================] - 0s 1ms/step - loss: 1.0402 - mae: 0.6273 - mse: 1.0402 - val_loss: 0.9658 - val_mae: 0.6056 - val_mse: 0.9658\n",
      "Epoch 91/100\n",
      "169/169 [==============================] - 0s 1ms/step - loss: 0.9745 - mae: 0.6239 - mse: 0.9745 - val_loss: 0.8882 - val_mae: 0.5850 - val_mse: 0.8882\n",
      "Epoch 92/100\n",
      "169/169 [==============================] - 0s 1ms/step - loss: 0.8930 - mae: 0.5986 - mse: 0.8930 - val_loss: 0.8482 - val_mae: 0.5990 - val_mse: 0.8482\n",
      "Epoch 93/100\n",
      "169/169 [==============================] - 0s 1ms/step - loss: 0.8405 - mae: 0.5880 - mse: 0.8405 - val_loss: 0.7740 - val_mae: 0.5739 - val_mse: 0.7740\n"
     ]
    },
    {
     "name": "stdout",
     "output_type": "stream",
     "text": [
      "Epoch 94/100\n",
      "169/169 [==============================] - 0s 1ms/step - loss: 0.8102 - mae: 0.5908 - mse: 0.8102 - val_loss: 0.7340 - val_mae: 0.5595 - val_mse: 0.7340\n",
      "Epoch 95/100\n",
      "169/169 [==============================] - 0s 1ms/step - loss: 0.7461 - mae: 0.5654 - mse: 0.7461 - val_loss: 0.7535 - val_mae: 0.5853 - val_mse: 0.7535\n",
      "Epoch 96/100\n",
      "169/169 [==============================] - 0s 1ms/step - loss: 0.7238 - mae: 0.5686 - mse: 0.7238 - val_loss: 0.6496 - val_mae: 0.5291 - val_mse: 0.6496\n",
      "Epoch 97/100\n",
      "169/169 [==============================] - 0s 1ms/step - loss: 0.6931 - mae: 0.5585 - mse: 0.6931 - val_loss: 0.6391 - val_mae: 0.5310 - val_mse: 0.6391\n",
      "Epoch 98/100\n",
      "169/169 [==============================] - 0s 1ms/step - loss: 0.6499 - mae: 0.5405 - mse: 0.6499 - val_loss: 0.6393 - val_mae: 0.5536 - val_mse: 0.6393\n",
      "Epoch 99/100\n",
      "169/169 [==============================] - 0s 1ms/step - loss: 0.6346 - mae: 0.5437 - mse: 0.6346 - val_loss: 0.6195 - val_mae: 0.5300 - val_mse: 0.6195\n",
      "Epoch 100/100\n",
      "169/169 [==============================] - 0s 1ms/step - loss: 0.6057 - mae: 0.5299 - mse: 0.6057 - val_loss: 0.6442 - val_mae: 0.5636 - val_mse: 0.6442\n"
     ]
    },
    {
     "data": {
      "text/plain": [
       "<keras.callbacks.History at 0x13e7fd9dc70>"
      ]
     },
     "execution_count": 88,
     "metadata": {},
     "output_type": "execute_result"
    }
   ],
   "source": [
    "# since we have continuous ouput, AF is not required in the o/p layer\n",
    "model = Sequential()\n",
    "model.add( Dense( units = 50 , activation = 'relu' , kernel_initializer = 'normal', input_dim = 7)) # input layer\n",
    "model.add( Dense( units = 20 , activation = 'tanh' , kernel_initializer = 'normal' )) # hidden layer\n",
    "model.add( Dense( units = 1  , kernel_initializer = 'normal' )) # o/p layer\n",
    "\n",
    "model.compile(optimizer= \"adam\", loss=\"mse\", metrics= [\"mae\", \"mse\"])\n",
    "model.fit(x_train_scaled, y_train , batch_size=50, validation_split=0.3, epochs=100,  verbose=1)"
   ]
  },
  {
   "cell_type": "code",
   "execution_count": 83,
   "id": "6a98f628",
   "metadata": {
    "scrolled": false
   },
   "outputs": [
    {
     "name": "stdout",
     "output_type": "stream",
     "text": [
      "94/94 [==============================] - 0s 559us/step\n",
      "94/94 [==============================] - 0s 603us/step\n",
      "94/94 [==============================] - 0s 605us/step\n",
      "94/94 [==============================] - 0s 573us/step\n",
      "94/94 [==============================] - 0s 663us/step\n",
      "94/94 [==============================] - 0s 595us/step\n",
      "94/94 [==============================] - 0s 618us/step\n",
      "94/94 [==============================] - 0s 560us/step\n",
      "94/94 [==============================] - 0s 691us/step\n",
      "94/94 [==============================] - 0s 598us/step\n",
      "94/94 [==============================] - 0s 632us/step\n",
      "94/94 [==============================] - 0s 523us/step\n",
      "94/94 [==============================] - 0s 519us/step\n",
      "94/94 [==============================] - 0s 527us/step\n",
      "94/94 [==============================] - 0s 527us/step\n",
      "94/94 [==============================] - 0s 677us/step\n"
     ]
    },
    {
     "data": {
      "text/html": [
       "<div>\n",
       "<style scoped>\n",
       "    .dataframe tbody tr th:only-of-type {\n",
       "        vertical-align: middle;\n",
       "    }\n",
       "\n",
       "    .dataframe tbody tr th {\n",
       "        vertical-align: top;\n",
       "    }\n",
       "\n",
       "    .dataframe thead th {\n",
       "        text-align: right;\n",
       "    }\n",
       "</style>\n",
       "<table border=\"1\" class=\"dataframe\">\n",
       "  <thead>\n",
       "    <tr style=\"text-align: right;\">\n",
       "      <th></th>\n",
       "      <th>batchsize</th>\n",
       "      <th>epochs</th>\n",
       "      <th>Accuracy</th>\n",
       "    </tr>\n",
       "  </thead>\n",
       "  <tbody>\n",
       "    <tr>\n",
       "      <th>0</th>\n",
       "      <td>5</td>\n",
       "      <td>5</td>\n",
       "      <td>TEY    97.654432\n",
       "dtype: float64</td>\n",
       "    </tr>\n",
       "    <tr>\n",
       "      <th>0</th>\n",
       "      <td>5</td>\n",
       "      <td>10</td>\n",
       "      <td>TEY    99.606322\n",
       "dtype: float64</td>\n",
       "    </tr>\n",
       "    <tr>\n",
       "      <th>0</th>\n",
       "      <td>5</td>\n",
       "      <td>50</td>\n",
       "      <td>TEY    99.586229\n",
       "dtype: float64</td>\n",
       "    </tr>\n",
       "    <tr>\n",
       "      <th>0</th>\n",
       "      <td>5</td>\n",
       "      <td>100</td>\n",
       "      <td>TEY    99.685385\n",
       "dtype: float64</td>\n",
       "    </tr>\n",
       "    <tr>\n",
       "      <th>0</th>\n",
       "      <td>10</td>\n",
       "      <td>5</td>\n",
       "      <td>TEY    81.006313\n",
       "dtype: float64</td>\n",
       "    </tr>\n",
       "    <tr>\n",
       "      <th>0</th>\n",
       "      <td>10</td>\n",
       "      <td>10</td>\n",
       "      <td>TEY    98.80329\n",
       "dtype: float64</td>\n",
       "    </tr>\n",
       "    <tr>\n",
       "      <th>0</th>\n",
       "      <td>10</td>\n",
       "      <td>50</td>\n",
       "      <td>TEY    99.638671\n",
       "dtype: float64</td>\n",
       "    </tr>\n",
       "    <tr>\n",
       "      <th>0</th>\n",
       "      <td>10</td>\n",
       "      <td>100</td>\n",
       "      <td>TEY    99.595025\n",
       "dtype: float64</td>\n",
       "    </tr>\n",
       "    <tr>\n",
       "      <th>0</th>\n",
       "      <td>15</td>\n",
       "      <td>5</td>\n",
       "      <td>TEY    58.805364\n",
       "dtype: float64</td>\n",
       "    </tr>\n",
       "    <tr>\n",
       "      <th>0</th>\n",
       "      <td>15</td>\n",
       "      <td>10</td>\n",
       "      <td>TEY    89.829069\n",
       "dtype: float64</td>\n",
       "    </tr>\n",
       "    <tr>\n",
       "      <th>0</th>\n",
       "      <td>15</td>\n",
       "      <td>50</td>\n",
       "      <td>TEY    99.589974\n",
       "dtype: float64</td>\n",
       "    </tr>\n",
       "    <tr>\n",
       "      <th>0</th>\n",
       "      <td>15</td>\n",
       "      <td>100</td>\n",
       "      <td>TEY    99.622561\n",
       "dtype: float64</td>\n",
       "    </tr>\n",
       "    <tr>\n",
       "      <th>0</th>\n",
       "      <td>20</td>\n",
       "      <td>5</td>\n",
       "      <td>TEY    46.193677\n",
       "dtype: float64</td>\n",
       "    </tr>\n",
       "    <tr>\n",
       "      <th>0</th>\n",
       "      <td>20</td>\n",
       "      <td>10</td>\n",
       "      <td>TEY    81.000534\n",
       "dtype: float64</td>\n",
       "    </tr>\n",
       "    <tr>\n",
       "      <th>0</th>\n",
       "      <td>20</td>\n",
       "      <td>50</td>\n",
       "      <td>TEY    99.584694\n",
       "dtype: float64</td>\n",
       "    </tr>\n",
       "    <tr>\n",
       "      <th>0</th>\n",
       "      <td>20</td>\n",
       "      <td>100</td>\n",
       "      <td>TEY    99.638243\n",
       "dtype: float64</td>\n",
       "    </tr>\n",
       "  </tbody>\n",
       "</table>\n",
       "</div>"
      ],
      "text/plain": [
       "   batchsize  epochs                         Accuracy\n",
       "0          5       5  TEY    97.654432\n",
       "dtype: float64\n",
       "0          5      10  TEY    99.606322\n",
       "dtype: float64\n",
       "0          5      50  TEY    99.586229\n",
       "dtype: float64\n",
       "0          5     100  TEY    99.685385\n",
       "dtype: float64\n",
       "0         10       5  TEY    81.006313\n",
       "dtype: float64\n",
       "0         10      10   TEY    98.80329\n",
       "dtype: float64\n",
       "0         10      50  TEY    99.638671\n",
       "dtype: float64\n",
       "0         10     100  TEY    99.595025\n",
       "dtype: float64\n",
       "0         15       5  TEY    58.805364\n",
       "dtype: float64\n",
       "0         15      10  TEY    89.829069\n",
       "dtype: float64\n",
       "0         15      50  TEY    99.589974\n",
       "dtype: float64\n",
       "0         15     100  TEY    99.622561\n",
       "dtype: float64\n",
       "0         20       5  TEY    46.193677\n",
       "dtype: float64\n",
       "0         20      10  TEY    81.000534\n",
       "dtype: float64\n",
       "0         20      50  TEY    99.584694\n",
       "dtype: float64\n",
       "0         20     100  TEY    99.638243\n",
       "dtype: float64"
      ]
     },
     "execution_count": 83,
     "metadata": {},
     "output_type": "execute_result"
    }
   ],
   "source": [
    "def toFindBestParams(x_train_scaled, y_train, x_test_scaled, y_test):\n",
    "        \n",
    "    #defining list of hyperparameters\n",
    "    batch_size_list = [5 , 10 , 15 , 20]\n",
    "    epoch_list      = [5 , 10 , 50 , 100]\n",
    "     \n",
    "    bestParamTable = pd.DataFrame()\n",
    "    \n",
    "    for batch_trial in batch_size_list:\n",
    "        for epochs_trial in epoch_list:\n",
    "            \n",
    "            # Making ANN model\n",
    "            model = Sequential()\n",
    "            # Defining the first layer of the model\n",
    "            model.add(Dense(units=50, input_dim=x_train_scaled.shape[1], kernel_initializer='normal', activation='relu'))\n",
    "            \n",
    "            # Defining the Second layer of the model\n",
    "            model.add(Dense(units=20, kernel_initializer='normal', activation='tanh'))\n",
    " \n",
    "            # The output neuron is a single fully connected node \n",
    "            # Since we will be predicting a single number\n",
    "            model.add(Dense(1, kernel_initializer='normal'))\n",
    " \n",
    "            # Compiling the model\n",
    "            model.compile(optimizer ='adam', loss = 'mean_squared_error')\n",
    "            \n",
    "            # Fit the ANN to the Training set\n",
    "            model.fit(x_train_scaled, y_train , batch_size=batch_trial, epochs=epochs_trial,  verbose=0)\n",
    "                        \n",
    "            MAPE = np.mean(100 * (np.abs(y_test-model.predict(x_test_scaled))/y_test))  \n",
    "                        \n",
    "            bestParamTable=bestParamTable.append(pd.DataFrame(data=[[batch_trial, epochs_trial, 100-MAPE]],\n",
    "                                                        columns=['batchsize','epochs','Accuracy'] ))\n",
    "            \n",
    "           \n",
    "    return bestParamTable\n",
    "\n",
    "# Calling the function\n",
    "finalParamTable = toFindBestParams(x_train_scaled, y_train, x_test_scaled, y_test)\n",
    "finalParamTable"
   ]
  },
  {
   "cell_type": "markdown",
   "id": "26b2faca",
   "metadata": {},
   "source": [
    "# Training Model - using best params"
   ]
  },
  {
   "cell_type": "code",
   "execution_count": 86,
   "id": "1e38ab53",
   "metadata": {},
   "outputs": [
    {
     "data": {
      "text/plain": [
       "<keras.callbacks.History at 0x13e9636f6d0>"
      ]
     },
     "execution_count": 86,
     "metadata": {},
     "output_type": "execute_result"
    }
   ],
   "source": [
    "model.compile(optimizer ='adam', loss = 'mean_squared_error')\n",
    "# fitting the model to best params\n",
    "model.fit(x_train_scaled,y_train, batch_size=20 , epochs = 100, verbose=0)"
   ]
  },
  {
   "cell_type": "markdown",
   "id": "85201a0d",
   "metadata": {},
   "source": [
    "# Model Evaluation Train and Test Error"
   ]
  },
  {
   "cell_type": "code",
   "execution_count": 89,
   "id": "ea1fdb04",
   "metadata": {},
   "outputs": [
    {
     "data": {
      "image/png": "[encoded data removed]",
      "text/plain": [
       "<Figure size 1152x648 with 1 Axes>"
      ]
     },
     "metadata": {},
     "output_type": "display_data"
    },
    {
     "data": {
      "image/png": "[encoded data removed]",
      "text/plain": [
       "<Figure size 1152x648 with 1 Axes>"
      ]
     },
     "metadata": {},
     "output_type": "display_data"
    }
   ],
   "source": [
    "plt.figure(figsize=(16,9))\n",
    "plt.plot(model.history.history['mae'])\n",
    "plt.plot(model.history.history['mse'])\n",
    "plt.title(\"Model's Mean Absolute and Squared Errors\")\n",
    "plt.xlabel('Epoch')\n",
    "plt.ylabel('Error')\n",
    "plt.legend(['Mean Absulote Erroe', 'Mean Squared Error'],loc = 'upper left')\n",
    "plt.show()\n",
    "#summarize history for loss\n",
    "plt.figure(figsize=(16,9))\n",
    "plt.plot(model.history.history['loss'])\n",
    "plt.plot(model.history.history['val_loss'])\n",
    "plt.title('Model-loss')\n",
    "plt.xlabel('Epoch')\n",
    "plt.ylabel('Mean-Absolute-Error')\n",
    "plt.legend(['Training Error', 'Testing Error'],loc='upper left')\n",
    "plt.show()"
   ]
  },
  {
   "cell_type": "markdown",
   "id": "19acae14",
   "metadata": {},
   "source": [
    "# Predictions of model"
   ]
  },
  {
   "cell_type": "code",
   "execution_count": 90,
   "id": "0c24e08a",
   "metadata": {},
   "outputs": [
    {
     "name": "stdout",
     "output_type": "stream",
     "text": [
      "94/94 [==============================] - 0s 668us/step\n",
      "(3008, 9)\n"
     ]
    },
    {
     "data": {
      "text/html": [
       "<div>\n",
       "<style scoped>\n",
       "    .dataframe tbody tr th:only-of-type {\n",
       "        vertical-align: middle;\n",
       "    }\n",
       "\n",
       "    .dataframe tbody tr th {\n",
       "        vertical-align: top;\n",
       "    }\n",
       "\n",
       "    .dataframe thead th {\n",
       "        text-align: right;\n",
       "    }\n",
       "</style>\n",
       "<table border=\"1\" class=\"dataframe\">\n",
       "  <thead>\n",
       "    <tr style=\"text-align: right;\">\n",
       "      <th></th>\n",
       "      <th>CDP</th>\n",
       "      <th>GTEP</th>\n",
       "      <th>TIT</th>\n",
       "      <th>TAT</th>\n",
       "      <th>AFDP</th>\n",
       "      <th>CO</th>\n",
       "      <th>AT</th>\n",
       "      <th>Actual</th>\n",
       "      <th>Predicted</th>\n",
       "    </tr>\n",
       "  </thead>\n",
       "  <tbody>\n",
       "    <tr>\n",
       "      <th>13312</th>\n",
       "      <td>12.219</td>\n",
       "      <td>25.762</td>\n",
       "      <td>1092.5</td>\n",
       "      <td>550.25</td>\n",
       "      <td>4.0023</td>\n",
       "      <td>1.26430</td>\n",
       "      <td>24.0930</td>\n",
       "      <td>134.46</td>\n",
       "      <td>134.676834</td>\n",
       "    </tr>\n",
       "    <tr>\n",
       "      <th>12627</th>\n",
       "      <td>10.791</td>\n",
       "      <td>20.085</td>\n",
       "      <td>1059.6</td>\n",
       "      <td>549.94</td>\n",
       "      <td>3.2106</td>\n",
       "      <td>2.69370</td>\n",
       "      <td>20.4500</td>\n",
       "      <td>111.88</td>\n",
       "      <td>112.490242</td>\n",
       "    </tr>\n",
       "    <tr>\n",
       "      <th>6393</th>\n",
       "      <td>12.126</td>\n",
       "      <td>25.221</td>\n",
       "      <td>1089.9</td>\n",
       "      <td>549.62</td>\n",
       "      <td>4.5325</td>\n",
       "      <td>1.96250</td>\n",
       "      <td>20.2620</td>\n",
       "      <td>133.72</td>\n",
       "      <td>134.167267</td>\n",
       "    </tr>\n",
       "    <tr>\n",
       "      <th>4990</th>\n",
       "      <td>12.218</td>\n",
       "      <td>25.965</td>\n",
       "      <td>1092.9</td>\n",
       "      <td>549.96</td>\n",
       "      <td>4.4266</td>\n",
       "      <td>1.57120</td>\n",
       "      <td>26.8620</td>\n",
       "      <td>133.79</td>\n",
       "      <td>134.153137</td>\n",
       "    </tr>\n",
       "    <tr>\n",
       "      <th>12462</th>\n",
       "      <td>10.466</td>\n",
       "      <td>19.688</td>\n",
       "      <td>1056.9</td>\n",
       "      <td>550.01</td>\n",
       "      <td>3.1241</td>\n",
       "      <td>2.29960</td>\n",
       "      <td>19.4090</td>\n",
       "      <td>110.77</td>\n",
       "      <td>110.756012</td>\n",
       "    </tr>\n",
       "    <tr>\n",
       "      <th>7405</th>\n",
       "      <td>10.624</td>\n",
       "      <td>19.387</td>\n",
       "      <td>1058.9</td>\n",
       "      <td>550.17</td>\n",
       "      <td>3.3709</td>\n",
       "      <td>4.27640</td>\n",
       "      <td>2.2158</td>\n",
       "      <td>113.32</td>\n",
       "      <td>114.087036</td>\n",
       "    </tr>\n",
       "    <tr>\n",
       "      <th>10993</th>\n",
       "      <td>12.088</td>\n",
       "      <td>25.392</td>\n",
       "      <td>1089.7</td>\n",
       "      <td>550.11</td>\n",
       "      <td>3.7871</td>\n",
       "      <td>0.83578</td>\n",
       "      <td>23.8520</td>\n",
       "      <td>133.77</td>\n",
       "      <td>133.540573</td>\n",
       "    </tr>\n",
       "    <tr>\n",
       "      <th>9488</th>\n",
       "      <td>11.498</td>\n",
       "      <td>23.225</td>\n",
       "      <td>1079.4</td>\n",
       "      <td>549.60</td>\n",
       "      <td>4.2837</td>\n",
       "      <td>2.01980</td>\n",
       "      <td>12.3950</td>\n",
       "      <td>128.98</td>\n",
       "      <td>128.886734</td>\n",
       "    </tr>\n",
       "    <tr>\n",
       "      <th>14201</th>\n",
       "      <td>13.971</td>\n",
       "      <td>32.518</td>\n",
       "      <td>1100.1</td>\n",
       "      <td>528.98</td>\n",
       "      <td>5.1559</td>\n",
       "      <td>0.87760</td>\n",
       "      <td>12.3590</td>\n",
       "      <td>159.42</td>\n",
       "      <td>161.301453</td>\n",
       "    </tr>\n",
       "    <tr>\n",
       "      <th>9757</th>\n",
       "      <td>13.862</td>\n",
       "      <td>32.105</td>\n",
       "      <td>1100.0</td>\n",
       "      <td>530.69</td>\n",
       "      <td>5.9309</td>\n",
       "      <td>10.75000</td>\n",
       "      <td>8.6376</td>\n",
       "      <td>161.86</td>\n",
       "      <td>161.417206</td>\n",
       "    </tr>\n",
       "  </tbody>\n",
       "</table>\n",
       "</div>"
      ],
      "text/plain": [
       "          CDP    GTEP     TIT     TAT    AFDP        CO       AT  Actual  \\\n",
       "13312  12.219  25.762  1092.5  550.25  4.0023   1.26430  24.0930  134.46   \n",
       "12627  10.791  20.085  1059.6  549.94  3.2106   2.69370  20.4500  111.88   \n",
       "6393   12.126  25.221  1089.9  549.62  4.5325   1.96250  20.2620  133.72   \n",
       "4990   12.218  25.965  1092.9  549.96  4.4266   1.57120  26.8620  133.79   \n",
       "12462  10.466  19.688  1056.9  550.01  3.1241   2.29960  19.4090  110.77   \n",
       "7405   10.624  19.387  1058.9  550.17  3.3709   4.27640   2.2158  113.32   \n",
       "10993  12.088  25.392  1089.7  550.11  3.7871   0.83578  23.8520  133.77   \n",
       "9488   11.498  23.225  1079.4  549.60  4.2837   2.01980  12.3950  128.98   \n",
       "14201  13.971  32.518  1100.1  528.98  5.1559   0.87760  12.3590  159.42   \n",
       "9757   13.862  32.105  1100.0  530.69  5.9309  10.75000   8.6376  161.86   \n",
       "\n",
       "        Predicted  \n",
       "13312  134.676834  \n",
       "12627  112.490242  \n",
       "6393   134.167267  \n",
       "4990   134.153137  \n",
       "12462  110.756012  \n",
       "7405   114.087036  \n",
       "10993  133.540573  \n",
       "9488   128.886734  \n",
       "14201  161.301453  \n",
       "9757   161.417206  "
      ]
     },
     "execution_count": 90,
     "metadata": {},
     "output_type": "execute_result"
    }
   ],
   "source": [
    "#  predictions for test data\n",
    "y_predict_test = model.predict(x_test_scaled) \n",
    "\n",
    "# creating table with test price & predicted price for test\n",
    "predictions_df = pd.DataFrame(x_test)\n",
    "predictions_df['Actual'] = y_test\n",
    "predictions_df['Predicted'] = y_predict_test\n",
    "print(predictions_df.shape)\n",
    "predictions_df.head(10)"
   ]
  },
  {
   "cell_type": "code",
   "execution_count": 91,
   "id": "fad8cd88",
   "metadata": {},
   "outputs": [],
   "source": [
    "predictions_df.drop(['CDP','GTEP','TIT','TAT','AFDP','CO','AT'], axis =1 , inplace = True)"
   ]
  },
  {
   "cell_type": "markdown",
   "id": "57740697",
   "metadata": {},
   "source": [
    "# APE(absolute percent error) and Error"
   ]
  },
  {
   "cell_type": "code",
   "execution_count": 92,
   "id": "2c488650",
   "metadata": {},
   "outputs": [
    {
     "name": "stdout",
     "output_type": "stream",
     "text": [
      "The Accuracy for Test Data -- ANN model =  99.60378692201178\n"
     ]
    },
    {
     "data": {
      "text/html": [
       "<div>\n",
       "<style scoped>\n",
       "    .dataframe tbody tr th:only-of-type {\n",
       "        vertical-align: middle;\n",
       "    }\n",
       "\n",
       "    .dataframe tbody tr th {\n",
       "        vertical-align: top;\n",
       "    }\n",
       "\n",
       "    .dataframe thead th {\n",
       "        text-align: right;\n",
       "    }\n",
       "</style>\n",
       "<table border=\"1\" class=\"dataframe\">\n",
       "  <thead>\n",
       "    <tr style=\"text-align: right;\">\n",
       "      <th></th>\n",
       "      <th>Actual</th>\n",
       "      <th>Predicted</th>\n",
       "      <th>APE %</th>\n",
       "    </tr>\n",
       "  </thead>\n",
       "  <tbody>\n",
       "    <tr>\n",
       "      <th>13312</th>\n",
       "      <td>134.46</td>\n",
       "      <td>134.676834</td>\n",
       "      <td>0.161263</td>\n",
       "    </tr>\n",
       "    <tr>\n",
       "      <th>12627</th>\n",
       "      <td>111.88</td>\n",
       "      <td>112.490242</td>\n",
       "      <td>0.545443</td>\n",
       "    </tr>\n",
       "    <tr>\n",
       "      <th>6393</th>\n",
       "      <td>133.72</td>\n",
       "      <td>134.167267</td>\n",
       "      <td>0.334480</td>\n",
       "    </tr>\n",
       "    <tr>\n",
       "      <th>4990</th>\n",
       "      <td>133.79</td>\n",
       "      <td>134.153137</td>\n",
       "      <td>0.271423</td>\n",
       "    </tr>\n",
       "    <tr>\n",
       "      <th>12462</th>\n",
       "      <td>110.77</td>\n",
       "      <td>110.756012</td>\n",
       "      <td>0.012628</td>\n",
       "    </tr>\n",
       "  </tbody>\n",
       "</table>\n",
       "</div>"
      ],
      "text/plain": [
       "       Actual   Predicted     APE %\n",
       "13312  134.46  134.676834  0.161263\n",
       "12627  111.88  112.490242  0.545443\n",
       "6393   133.72  134.167267  0.334480\n",
       "4990   133.79  134.153137  0.271423\n",
       "12462  110.77  110.756012  0.012628"
      ]
     },
     "execution_count": 92,
     "metadata": {},
     "output_type": "execute_result"
    }
   ],
   "source": [
    "# Compile the absolute percent error\n",
    "APE=100*(abs(predictions_df['Actual']-predictions_df['Predicted'])/predictions_df['Actual'])\n",
    "print('The Accuracy for Test Data -- ANN model = ', 100-np.mean(APE))\n",
    "\n",
    "# adding absolute percent error to table\n",
    "predictions_df['APE %']=APE\n",
    "predictions_df.head()"
   ]
  },
  {
   "cell_type": "code",
   "execution_count": 93,
   "id": "accb13c1",
   "metadata": {},
   "outputs": [
    {
     "data": {
      "text/html": [
       "<div>\n",
       "<style scoped>\n",
       "    .dataframe tbody tr th:only-of-type {\n",
       "        vertical-align: middle;\n",
       "    }\n",
       "\n",
       "    .dataframe tbody tr th {\n",
       "        vertical-align: top;\n",
       "    }\n",
       "\n",
       "    .dataframe thead th {\n",
       "        text-align: right;\n",
       "    }\n",
       "</style>\n",
       "<table border=\"1\" class=\"dataframe\">\n",
       "  <thead>\n",
       "    <tr style=\"text-align: right;\">\n",
       "      <th></th>\n",
       "      <th>Actual</th>\n",
       "      <th>Predicted</th>\n",
       "      <th>APE %</th>\n",
       "      <th>Error</th>\n",
       "    </tr>\n",
       "  </thead>\n",
       "  <tbody>\n",
       "    <tr>\n",
       "      <th>0</th>\n",
       "      <td>134.46</td>\n",
       "      <td>134.676834</td>\n",
       "      <td>0.161263</td>\n",
       "      <td>-0.001613</td>\n",
       "    </tr>\n",
       "    <tr>\n",
       "      <th>1</th>\n",
       "      <td>111.88</td>\n",
       "      <td>112.490242</td>\n",
       "      <td>0.545443</td>\n",
       "      <td>-0.005454</td>\n",
       "    </tr>\n",
       "    <tr>\n",
       "      <th>2</th>\n",
       "      <td>133.72</td>\n",
       "      <td>134.167267</td>\n",
       "      <td>0.334480</td>\n",
       "      <td>-0.003345</td>\n",
       "    </tr>\n",
       "    <tr>\n",
       "      <th>3</th>\n",
       "      <td>133.79</td>\n",
       "      <td>134.153137</td>\n",
       "      <td>0.271423</td>\n",
       "      <td>-0.002714</td>\n",
       "    </tr>\n",
       "    <tr>\n",
       "      <th>4</th>\n",
       "      <td>110.77</td>\n",
       "      <td>110.756012</td>\n",
       "      <td>0.012628</td>\n",
       "      <td>0.000126</td>\n",
       "    </tr>\n",
       "    <tr>\n",
       "      <th>...</th>\n",
       "      <td>...</td>\n",
       "      <td>...</td>\n",
       "      <td>...</td>\n",
       "      <td>...</td>\n",
       "    </tr>\n",
       "    <tr>\n",
       "      <th>3003</th>\n",
       "      <td>119.25</td>\n",
       "      <td>119.511726</td>\n",
       "      <td>0.219477</td>\n",
       "      <td>-0.002195</td>\n",
       "    </tr>\n",
       "    <tr>\n",
       "      <th>3004</th>\n",
       "      <td>133.74</td>\n",
       "      <td>134.185440</td>\n",
       "      <td>0.333064</td>\n",
       "      <td>-0.003331</td>\n",
       "    </tr>\n",
       "    <tr>\n",
       "      <th>3005</th>\n",
       "      <td>146.31</td>\n",
       "      <td>147.061081</td>\n",
       "      <td>0.513349</td>\n",
       "      <td>-0.005133</td>\n",
       "    </tr>\n",
       "    <tr>\n",
       "      <th>3006</th>\n",
       "      <td>150.07</td>\n",
       "      <td>150.497391</td>\n",
       "      <td>0.284794</td>\n",
       "      <td>-0.002848</td>\n",
       "    </tr>\n",
       "    <tr>\n",
       "      <th>3007</th>\n",
       "      <td>111.77</td>\n",
       "      <td>111.087135</td>\n",
       "      <td>0.610955</td>\n",
       "      <td>0.006110</td>\n",
       "    </tr>\n",
       "  </tbody>\n",
       "</table>\n",
       "<p>3008 rows × 4 columns</p>\n",
       "</div>"
      ],
      "text/plain": [
       "      Actual   Predicted     APE %     Error\n",
       "0     134.46  134.676834  0.161263 -0.001613\n",
       "1     111.88  112.490242  0.545443 -0.005454\n",
       "2     133.72  134.167267  0.334480 -0.003345\n",
       "3     133.79  134.153137  0.271423 -0.002714\n",
       "4     110.77  110.756012  0.012628  0.000126\n",
       "...      ...         ...       ...       ...\n",
       "3003  119.25  119.511726  0.219477 -0.002195\n",
       "3004  133.74  134.185440  0.333064 -0.003331\n",
       "3005  146.31  147.061081  0.513349 -0.005133\n",
       "3006  150.07  150.497391  0.284794 -0.002848\n",
       "3007  111.77  111.087135  0.610955  0.006110\n",
       "\n",
       "[3008 rows x 4 columns]"
      ]
     },
     "execution_count": 93,
     "metadata": {},
     "output_type": "execute_result"
    }
   ],
   "source": [
    "predictions_df['Error'] = (predictions_df['Actual'] - predictions_df['Predicted'])/(predictions_df['Actual'])\n",
    "predictions_df.reset_index(drop = True)"
   ]
  },
  {
   "cell_type": "markdown",
   "id": "03a45957",
   "metadata": {},
   "source": [
    "# Visualizing- Actual vs Predicted Values (Model Validation)"
   ]
  },
  {
   "cell_type": "code",
   "execution_count": 94,
   "id": "ace325fe",
   "metadata": {},
   "outputs": [
    {
     "data": {
      "text/plain": [
       "<matplotlib.collections.PathCollection at 0x13e45ae3190>"
      ]
     },
     "execution_count": 94,
     "metadata": {},
     "output_type": "execute_result"
    },
    {
     "data": {
      "image/png": "[encoded data removed]",
      "text/plain": [
       "<Figure size 864x576 with 1 Axes>"
      ]
     },
     "metadata": {},
     "output_type": "display_data"
    }
   ],
   "source": [
    "plt.figure(figsize=(12,8))\n",
    "plt.xlabel(\"Actual Values\")\n",
    "plt.ylabel(\"Predicted values\")\n",
    "plt.title(\"The Scatterplot of Relationship between Actual Values and Predictions\")\n",
    "plt.scatter(predictions_df['Actual'], predictions_df['Predicted'])"
   ]
  },
  {
   "cell_type": "code",
   "execution_count": 95,
   "id": "ded8cc55",
   "metadata": {},
   "outputs": [
    {
     "name": "stdout",
     "output_type": "stream",
     "text": [
      "MAE: 0.5477888720086282\n",
      "MSE: 0.658083195997474\n",
      "RMSE: 0.811223271360896\n"
     ]
    }
   ],
   "source": [
    "# calculating the residual sum of squares and the explained variance score\n",
    "from sklearn import metrics\n",
    "print(\"MAE:\",metrics.mean_absolute_error(y_test,y_predict_test))\n",
    "print (\"MSE:\",metrics.mean_squared_error(y_test,y_predict_test))\n",
    "print(\"RMSE:\",np.sqrt(metrics.mean_squared_error(y_test,y_predict_test)))"
   ]
  },
  {
   "cell_type": "code",
   "execution_count": 96,
   "id": "3bba8523",
   "metadata": {},
   "outputs": [
    {
     "name": "stdout",
     "output_type": "stream",
     "text": [
      "94/94 [==============================] - 0s 561us/step\n",
      "376/376 [==============================] - 0s 541us/step\n",
      "R2_score (train):  0.9974151638017278\n",
      "R2_score (test):  0.997371763246476\n"
     ]
    }
   ],
   "source": [
    "from sklearn.metrics import mean_squared_error, mean_absolute_error, r2_score\n",
    "y_predict_test = model.predict(x_test_scaled)\n",
    "y_predict_train = model.predict(x_train_scaled) \n",
    "print('R2_score (train): ',r2_score(y_train, y_predict_train))\n",
    "print('R2_score (test): ',r2_score(y_test, y_predict_test))"
   ]
  },
  {
   "cell_type": "code",
   "execution_count": 97,
   "id": "3bbb58f2",
   "metadata": {},
   "outputs": [
    {
     "name": "stdout",
     "output_type": "stream",
     "text": [
      " Our model predict % 99.75 of the target\n"
     ]
    }
   ],
   "source": [
    "#Evaluation of  the explained variance score (R^2)\n",
    "print(' Our model predict % {} of the target'.format(np.round(metrics.explained_variance_score(y_test,y_predict_test)*100,2))) "
   ]
  },
  {
   "cell_type": "markdown",
   "id": "e45c86fb",
   "metadata": {},
   "source": [
    "# Residual Analysis"
   ]
  },
  {
   "cell_type": "code",
   "execution_count": 98,
   "id": "c434db8c",
   "metadata": {},
   "outputs": [
    {
     "data": {
      "text/plain": [
       "<AxesSubplot:ylabel='Density'>"
      ]
     },
     "execution_count": 98,
     "metadata": {},
     "output_type": "execute_result"
    },
    {
     "data": {
      "image/png": "[encoded data removed]",
      "text/plain": [
       "<Figure size 864x720 with 1 Axes>"
      ]
     },
     "metadata": {},
     "output_type": "display_data"
    }
   ],
   "source": [
    "# visualize the differences - predictions  actual y test data\n",
    "plt.figure(figsize=(12,10))\n",
    "sns.distplot(y_test-y_predict_test,bins=50) #this figure also proves that our model fits very good\n",
    "#There is no huge differences between our predictions and actual y data"
   ]
  },
  {
   "cell_type": "code",
   "execution_count": 99,
   "id": "22352efe",
   "metadata": {},
   "outputs": [
    {
     "data": {
      "image/png": "[encoded data removed]",
      "text/plain": [
       "<Figure size 432x288 with 1 Axes>"
      ]
     },
     "metadata": {},
     "output_type": "display_data"
    }
   ],
   "source": [
    "#Residuals values  = y - yhat\n",
    "import statsmodels.api as smf\n",
    "smf.qqplot(predictions_df['Error'], line = 'q')\n",
    "plt.title('Normal Q-Q plot of residuals')\n",
    "plt.show()"
   ]
  },
  {
   "cell_type": "markdown",
   "id": "c7bd7e7f",
   "metadata": {},
   "source": [
    "# Conclusion: \n",
    "Here we've got the highest accuracy for TEY  99.63% with 20 batch size  for 100 Epoch. We did Model evaluation using error check on test & train data & you may have seen that the abosulate percentage error is minimal on both predictior and actual dataset.\n",
    "\n",
    "In the evaluation, we had check the residual score of imbalanced data that is,\n",
    "1. MAE(Mean Absoulate Error) - 0.547\n",
    "2. MSE(Mean Squared Error)- 0.658\n",
    "3.RMSE(Root Mean Squared Error) - 0.811.\n",
    "Which is not bad for the model for prediction.\n",
    "\n",
    "The model is given the  good R2 score of 99.75% which shows that the model is better use for predictions.\n",
    "\n",
    "In the end obserervation is that, the model have the normal error & it distributed independently & identically.  \n",
    "\n",
    "\n",
    "\n",
    "\n"
   ]
  },
  {
   "cell_type": "code",
   "execution_count": null,
   "id": "c0e5609e",
   "metadata": {},
   "outputs": [],
   "source": []
  }
 ],
 "metadata": {
  "kernelspec": {
   "display_name": "Python 3 (ipykernel)",
   "language": "python",
   "name": "python3"
  },
  "language_info": {
   "codemirror_mode": {
    "name": "ipython",
    "version": 3
   },
   "file_extension": ".py",
   "mimetype": "text/x-python",
   "name": "python",
   "nbconvert_exporter": "python",
   "pygments_lexer": "ipython3",
   "version": "3.9.12"
  }
 },
 "nbformat": 4,
 "nbformat_minor": 5
}
