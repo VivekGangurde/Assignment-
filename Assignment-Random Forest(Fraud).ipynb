{
 "cells": [
  {
   "cell_type": "markdown",
   "id": "19c00b0d",
   "metadata": {},
   "source": [
    "# About data:\n",
    "This dataset is having a details of individiuals in terms of their Taxable income, education, Martial status etc. The data is having 600 rows & 6 colums."
   ]
  },
  {
   "cell_type": "markdown",
   "id": "7c9333d2",
   "metadata": {},
   "source": [
    "# Problem Statement:\n",
    "Use Random Forest to prepare a model on fraud data \n",
    "treating those who have taxable_income <= 30000 as \"Risky\" and others are \"Good\"\n"
   ]
  },
  {
   "cell_type": "code",
   "execution_count": 1,
   "id": "2fe331ab",
   "metadata": {},
   "outputs": [],
   "source": [
    "# Import the liabraries:\n",
    "\n",
    "import pandas as pd\n",
    "import numpy as np\n",
    "import seaborn as sns\n",
    "import matplotlib.pyplot as plt\n",
    "%matplotlib inline\n",
    "\n",
    "from sklearn import tree\n",
    "from sklearn.model_selection import KFold\n",
    "from sklearn.ensemble import BaggingClassifier\n",
    "from sklearn.model_selection import cross_val_score\n",
    "from sklearn.ensemble import RandomForestClassifier\n",
    "from sklearn.model_selection import train_test_split\n",
    "from sklearn.metrics import accuracy_score,classification_report\n",
    "from sklearn.preprocessing import LabelEncoder\n",
    "from sklearn.metrics import f1_score\n",
    "\n",
    "import warnings\n",
    "warnings.filterwarnings('ignore')"
   ]
  },
  {
   "cell_type": "code",
   "execution_count": 2,
   "id": "5c637121",
   "metadata": {},
   "outputs": [],
   "source": [
    "fc=pd.read_csv('C:/Users/VivekG/Desktop/My Files- Vivek/ExcelrThane/DS/Assignments/Random Forest/Fraud_check.csv')"
   ]
  },
  {
   "cell_type": "code",
   "execution_count": 3,
   "id": "ef0646bb",
   "metadata": {},
   "outputs": [
    {
     "data": {
      "text/html": [
       "<div>\n",
       "<style scoped>\n",
       "    .dataframe tbody tr th:only-of-type {\n",
       "        vertical-align: middle;\n",
       "    }\n",
       "\n",
       "    .dataframe tbody tr th {\n",
       "        vertical-align: top;\n",
       "    }\n",
       "\n",
       "    .dataframe thead th {\n",
       "        text-align: right;\n",
       "    }\n",
       "</style>\n",
       "<table border=\"1\" class=\"dataframe\">\n",
       "  <thead>\n",
       "    <tr style=\"text-align: right;\">\n",
       "      <th></th>\n",
       "      <th>Undergrad</th>\n",
       "      <th>Marital.Status</th>\n",
       "      <th>Taxable.Income</th>\n",
       "      <th>City.Population</th>\n",
       "      <th>Work.Experience</th>\n",
       "      <th>Urban</th>\n",
       "    </tr>\n",
       "  </thead>\n",
       "  <tbody>\n",
       "    <tr>\n",
       "      <th>0</th>\n",
       "      <td>NO</td>\n",
       "      <td>Single</td>\n",
       "      <td>68833</td>\n",
       "      <td>50047</td>\n",
       "      <td>10</td>\n",
       "      <td>YES</td>\n",
       "    </tr>\n",
       "    <tr>\n",
       "      <th>1</th>\n",
       "      <td>YES</td>\n",
       "      <td>Divorced</td>\n",
       "      <td>33700</td>\n",
       "      <td>134075</td>\n",
       "      <td>18</td>\n",
       "      <td>YES</td>\n",
       "    </tr>\n",
       "    <tr>\n",
       "      <th>2</th>\n",
       "      <td>NO</td>\n",
       "      <td>Married</td>\n",
       "      <td>36925</td>\n",
       "      <td>160205</td>\n",
       "      <td>30</td>\n",
       "      <td>YES</td>\n",
       "    </tr>\n",
       "    <tr>\n",
       "      <th>3</th>\n",
       "      <td>YES</td>\n",
       "      <td>Single</td>\n",
       "      <td>50190</td>\n",
       "      <td>193264</td>\n",
       "      <td>15</td>\n",
       "      <td>YES</td>\n",
       "    </tr>\n",
       "    <tr>\n",
       "      <th>4</th>\n",
       "      <td>NO</td>\n",
       "      <td>Married</td>\n",
       "      <td>81002</td>\n",
       "      <td>27533</td>\n",
       "      <td>28</td>\n",
       "      <td>NO</td>\n",
       "    </tr>\n",
       "  </tbody>\n",
       "</table>\n",
       "</div>"
      ],
      "text/plain": [
       "  Undergrad Marital.Status  Taxable.Income  City.Population  Work.Experience  \\\n",
       "0        NO         Single           68833            50047               10   \n",
       "1       YES       Divorced           33700           134075               18   \n",
       "2        NO        Married           36925           160205               30   \n",
       "3       YES         Single           50190           193264               15   \n",
       "4        NO        Married           81002            27533               28   \n",
       "\n",
       "  Urban  \n",
       "0   YES  \n",
       "1   YES  \n",
       "2   YES  \n",
       "3   YES  \n",
       "4    NO  "
      ]
     },
     "execution_count": 3,
     "metadata": {},
     "output_type": "execute_result"
    }
   ],
   "source": [
    "fc.head()"
   ]
  },
  {
   "cell_type": "code",
   "execution_count": 4,
   "id": "71849717",
   "metadata": {},
   "outputs": [],
   "source": [
    "# EDA"
   ]
  },
  {
   "cell_type": "code",
   "execution_count": 5,
   "id": "6b41b8b6",
   "metadata": {},
   "outputs": [
    {
     "name": "stdout",
     "output_type": "stream",
     "text": [
      "<class 'pandas.core.frame.DataFrame'>\n",
      "RangeIndex: 600 entries, 0 to 599\n",
      "Data columns (total 6 columns):\n",
      " #   Column           Non-Null Count  Dtype \n",
      "---  ------           --------------  ----- \n",
      " 0   Undergrad        600 non-null    object\n",
      " 1   Marital.Status   600 non-null    object\n",
      " 2   Taxable.Income   600 non-null    int64 \n",
      " 3   City.Population  600 non-null    int64 \n",
      " 4   Work.Experience  600 non-null    int64 \n",
      " 5   Urban            600 non-null    object\n",
      "dtypes: int64(3), object(3)\n",
      "memory usage: 28.2+ KB\n"
     ]
    }
   ],
   "source": [
    "fc.info()"
   ]
  },
  {
   "cell_type": "code",
   "execution_count": 6,
   "id": "04cbe68a",
   "metadata": {},
   "outputs": [
    {
     "data": {
      "text/plain": [
       "(600, 6)"
      ]
     },
     "execution_count": 6,
     "metadata": {},
     "output_type": "execute_result"
    }
   ],
   "source": [
    "fc.shape"
   ]
  },
  {
   "cell_type": "code",
   "execution_count": 7,
   "id": "479b61d8",
   "metadata": {},
   "outputs": [
    {
     "data": {
      "text/html": [
       "<div>\n",
       "<style scoped>\n",
       "    .dataframe tbody tr th:only-of-type {\n",
       "        vertical-align: middle;\n",
       "    }\n",
       "\n",
       "    .dataframe tbody tr th {\n",
       "        vertical-align: top;\n",
       "    }\n",
       "\n",
       "    .dataframe thead th {\n",
       "        text-align: right;\n",
       "    }\n",
       "</style>\n",
       "<table border=\"1\" class=\"dataframe\">\n",
       "  <thead>\n",
       "    <tr style=\"text-align: right;\">\n",
       "      <th></th>\n",
       "      <th>Taxable.Income</th>\n",
       "      <th>City.Population</th>\n",
       "      <th>Work.Experience</th>\n",
       "    </tr>\n",
       "  </thead>\n",
       "  <tbody>\n",
       "    <tr>\n",
       "      <th>count</th>\n",
       "      <td>600.000000</td>\n",
       "      <td>600.000000</td>\n",
       "      <td>600.000000</td>\n",
       "    </tr>\n",
       "    <tr>\n",
       "      <th>mean</th>\n",
       "      <td>55208.375000</td>\n",
       "      <td>108747.368333</td>\n",
       "      <td>15.558333</td>\n",
       "    </tr>\n",
       "    <tr>\n",
       "      <th>std</th>\n",
       "      <td>26204.827597</td>\n",
       "      <td>49850.075134</td>\n",
       "      <td>8.842147</td>\n",
       "    </tr>\n",
       "    <tr>\n",
       "      <th>min</th>\n",
       "      <td>10003.000000</td>\n",
       "      <td>25779.000000</td>\n",
       "      <td>0.000000</td>\n",
       "    </tr>\n",
       "    <tr>\n",
       "      <th>25%</th>\n",
       "      <td>32871.500000</td>\n",
       "      <td>66966.750000</td>\n",
       "      <td>8.000000</td>\n",
       "    </tr>\n",
       "    <tr>\n",
       "      <th>50%</th>\n",
       "      <td>55074.500000</td>\n",
       "      <td>106493.500000</td>\n",
       "      <td>15.000000</td>\n",
       "    </tr>\n",
       "    <tr>\n",
       "      <th>75%</th>\n",
       "      <td>78611.750000</td>\n",
       "      <td>150114.250000</td>\n",
       "      <td>24.000000</td>\n",
       "    </tr>\n",
       "    <tr>\n",
       "      <th>max</th>\n",
       "      <td>99619.000000</td>\n",
       "      <td>199778.000000</td>\n",
       "      <td>30.000000</td>\n",
       "    </tr>\n",
       "  </tbody>\n",
       "</table>\n",
       "</div>"
      ],
      "text/plain": [
       "       Taxable.Income  City.Population  Work.Experience\n",
       "count      600.000000       600.000000       600.000000\n",
       "mean     55208.375000    108747.368333        15.558333\n",
       "std      26204.827597     49850.075134         8.842147\n",
       "min      10003.000000     25779.000000         0.000000\n",
       "25%      32871.500000     66966.750000         8.000000\n",
       "50%      55074.500000    106493.500000        15.000000\n",
       "75%      78611.750000    150114.250000        24.000000\n",
       "max      99619.000000    199778.000000        30.000000"
      ]
     },
     "execution_count": 7,
     "metadata": {},
     "output_type": "execute_result"
    }
   ],
   "source": [
    "fc.describe()"
   ]
  },
  {
   "cell_type": "code",
   "execution_count": 8,
   "id": "d6eb7445",
   "metadata": {},
   "outputs": [
    {
     "data": {
      "text/plain": [
       "Index(['Undergrad', 'Marital.Status', 'Taxable.Income', 'City.Population',\n",
       "       'Work.Experience', 'Urban'],\n",
       "      dtype='object')"
      ]
     },
     "execution_count": 8,
     "metadata": {},
     "output_type": "execute_result"
    }
   ],
   "source": [
    "fc.columns"
   ]
  },
  {
   "cell_type": "code",
   "execution_count": 9,
   "id": "ed6eb7c0",
   "metadata": {},
   "outputs": [
    {
     "data": {
      "text/plain": [
       "Undergrad          0\n",
       "Marital.Status     0\n",
       "Taxable.Income     0\n",
       "City.Population    0\n",
       "Work.Experience    0\n",
       "Urban              0\n",
       "dtype: int64"
      ]
     },
     "execution_count": 9,
     "metadata": {},
     "output_type": "execute_result"
    }
   ],
   "source": [
    "fc.isnull().sum()"
   ]
  },
  {
   "cell_type": "code",
   "execution_count": 10,
   "id": "5610f1d2",
   "metadata": {},
   "outputs": [
    {
     "data": {
      "text/plain": [
       "Undergrad          object\n",
       "Marital.Status     object\n",
       "Taxable.Income      int64\n",
       "City.Population     int64\n",
       "Work.Experience     int64\n",
       "Urban              object\n",
       "dtype: object"
      ]
     },
     "execution_count": 10,
     "metadata": {},
     "output_type": "execute_result"
    }
   ],
   "source": [
    "fc.dtypes"
   ]
  },
  {
   "cell_type": "markdown",
   "id": "63e828ea",
   "metadata": {},
   "source": [
    "# Data exploration"
   ]
  },
  {
   "cell_type": "code",
   "execution_count": 11,
   "id": "06b11bfb",
   "metadata": {},
   "outputs": [
    {
     "data": {
      "text/plain": [
       "59689    2\n",
       "68833    1\n",
       "60822    1\n",
       "93090    1\n",
       "79373    1\n",
       "        ..\n",
       "61906    1\n",
       "31088    1\n",
       "70365    1\n",
       "56536    1\n",
       "96519    1\n",
       "Name: Taxable.Income, Length: 599, dtype: int64"
      ]
     },
     "execution_count": 11,
     "metadata": {},
     "output_type": "execute_result"
    }
   ],
   "source": [
    "fc['Taxable.Income'].value_counts()"
   ]
  },
  {
   "cell_type": "code",
   "execution_count": 14,
   "id": "c5c75d7f",
   "metadata": {},
   "outputs": [
    {
     "data": {
      "text/plain": [
       "599"
      ]
     },
     "execution_count": 14,
     "metadata": {},
     "output_type": "execute_result"
    }
   ],
   "source": [
    "len(fc['Taxable.Income'].unique())"
   ]
  },
  {
   "cell_type": "code",
   "execution_count": 15,
   "id": "af8056c4",
   "metadata": {},
   "outputs": [
    {
     "data": {
      "text/plain": [
       "array([68833, 33700, 36925, 50190, 81002, 33329, 83357, 62774, 83519,\n",
       "       98152, 29732, 61063, 11794, 61830, 64070, 69869, 24987, 39476,\n",
       "       97957, 10987, 88636, 14310, 78969, 92040, 38239, 31417, 55299,\n",
       "       87778, 10379, 94033, 73854, 64007, 97200, 82071, 12514, 31336,\n",
       "       10163, 68513, 14912, 74010, 50777, 49436, 96485, 70339, 33614,\n",
       "       81079, 31532, 44034, 16264, 45706, 79616, 40137, 97703, 21917,\n",
       "       81939, 19925, 34703, 78573, 10870, 65065, 94418, 26972, 91684,\n",
       "       51685, 62158, 58312, 42507, 61486, 10150, 99619, 89302, 94287,\n",
       "       41344, 41382, 32434, 61105, 67628, 31458, 73411, 10329, 44947,\n",
       "       35610, 66564, 87348, 69098, 28449, 39277, 13747, 86652, 26741,\n",
       "       77634, 99325, 85651, 15296, 10348, 41395, 22258, 79583, 22187,\n",
       "       52495, 93078, 35072, 32662, 89250, 41641, 55873, 19169, 46629,\n",
       "       51927, 69224, 24557, 77762, 96355, 90910, 21945, 79357, 42784,\n",
       "       54638, 29944, 97318, 52022, 20391, 21016, 26679, 70682, 87326,\n",
       "       15853, 75501, 97984, 53378, 93458, 56501, 46955, 33492, 35832,\n",
       "       12470, 53981, 22773, 84691, 50087, 27877, 56647, 59419, 26783,\n",
       "       79453, 33962, 84429, 63057, 43128, 40220, 79700, 67083, 22054,\n",
       "       18192, 25222, 58635, 39114, 48738, 28496, 62209, 87677, 93659,\n",
       "       56503, 27081, 48779, 91304, 49520, 41117, 18199, 76992, 98588,\n",
       "       20719, 13068, 84835, 44795, 39052, 38704, 98416, 86958, 29222,\n",
       "       71357, 29543, 23855, 84836, 93307, 64614, 72949, 79211, 28707,\n",
       "       83229, 73620, 70819, 48313, 37481, 20851, 86079, 10933, 66905,\n",
       "       36890, 19060, 61906, 31088, 70365, 56536, 16992, 14300, 51914,\n",
       "       12083, 71376, 99307, 35200, 70812, 62067, 62365, 80618, 52891,\n",
       "       31409, 81790, 57794, 20604, 83459, 43051, 68911, 38374, 86784,\n",
       "       42488, 35922, 46610, 28764, 75170, 24370, 84083, 11784, 10003,\n",
       "       98970, 77735, 46070, 27143, 56974, 99109, 32603, 24215, 33092,\n",
       "       71297, 68268, 33810, 49995, 11865, 28904, 39144, 31591, 30167,\n",
       "       72382, 79869, 70526, 38143, 70298, 54747, 92997, 24347, 57445,\n",
       "       70645, 69540, 70712, 32900, 14326, 43865, 29046, 95088, 38586,\n",
       "       30468, 42254, 32467, 68404, 58451, 86208, 62426, 63710, 25062,\n",
       "       56438, 17783, 92426, 64667, 32483, 15673, 77511, 76182, 89831,\n",
       "       12072, 81231, 48169, 31699, 15710, 31645, 98933, 52912, 68756,\n",
       "       41087, 46798, 34475, 98334, 10900, 61445, 78796, 62141, 90945,\n",
       "       88918, 62873, 70949, 31521, 59615, 52111, 34598, 61124, 59689,\n",
       "       23075, 48192, 77367, 82625, 51802, 78922, 38670, 48392, 47425,\n",
       "       73906, 94013, 27698, 26793, 67033, 20109, 95185, 27684, 98240,\n",
       "       18032, 46470, 33301, 62800, 27520, 26094, 13571, 36239, 77082,\n",
       "       71572, 30495, 49771, 32905, 21337, 16082, 43883, 15491, 48081,\n",
       "       36317, 15627, 51028, 14422, 45525, 23480, 19184, 80239, 33215,\n",
       "       65203, 65190, 16320, 21696, 56129, 74971, 33356, 29607, 95319,\n",
       "       94413, 78963, 66865, 40427, 93733, 63543, 41184, 96652, 56555,\n",
       "       36457, 26101, 36156, 49958, 68696, 97453, 68533, 96438, 50348,\n",
       "       85016, 73188, 64225, 64437, 66330, 26372, 30714, 84263, 86531,\n",
       "       93090, 79373, 17440, 81536, 62494, 37580, 60822, 96032, 91545,\n",
       "       73313, 54345, 33138, 33579, 83094, 90065, 51913, 81378, 32236,\n",
       "       97980, 38626, 64230, 38183, 89277, 68269, 58751, 88720, 99311,\n",
       "       94528, 72268, 79593, 94247, 76700, 12011, 87935, 98720, 38638,\n",
       "       37857, 15532, 22159, 91547, 98738, 21966, 14398, 18572, 77312,\n",
       "       42074, 82799, 12659, 19649, 50119, 18888, 83061, 39343, 92007,\n",
       "       78728, 48640, 92070, 97341, 97493, 78400, 52862, 11804, 10455,\n",
       "       25766, 58199, 88613, 16690, 71164, 48825, 29236, 59689, 48940,\n",
       "       64320, 84845, 52663, 17957, 69018, 58496, 99128, 35868, 79478,\n",
       "       57402, 73795, 58403, 85972, 62998, 32786, 17962, 59440, 94772,\n",
       "       80083, 81026, 86883, 39444, 35886, 24541, 54502, 17183, 39562,\n",
       "       70157, 72151, 65170, 67936, 93339, 57365, 56628, 83814, 75324,\n",
       "       46939, 71428, 23884, 95145, 46002, 20309, 72115, 42769, 91870,\n",
       "       55308, 60789, 51363, 99239, 19272, 44411, 60915, 98433, 81867,\n",
       "       43980, 50286, 29385, 47565, 26494, 59243, 91488, 33116, 93364,\n",
       "       70743, 34007, 26128, 33748, 38896, 40674, 97111, 54850, 32948,\n",
       "       12682, 12453, 34655, 59351, 29916, 36532, 94583, 92819, 76535,\n",
       "       91220, 71238, 32356, 89094, 91462, 75585, 31629, 42063, 12810,\n",
       "       85570, 72026, 90444, 50403, 78867, 95920, 41545, 63912, 92498,\n",
       "       16316, 68617, 59860, 55981, 34833, 39818, 59227, 44809, 10735,\n",
       "       50242, 56166, 42483, 70572, 31721, 31085, 84931, 69036, 42679,\n",
       "       84557, 54126, 87685, 85076, 31633, 43018, 27394, 68152, 84775,\n",
       "       47364, 76340, 69967, 47334, 98592, 96519], dtype=int64)"
      ]
     },
     "execution_count": 15,
     "metadata": {},
     "output_type": "execute_result"
    }
   ],
   "source": [
    "fc['Taxable.Income'].values"
   ]
  },
  {
   "cell_type": "markdown",
   "id": "c3504ced",
   "metadata": {},
   "source": [
    "converting the taxable income features into array dataframe to slice it in two categories."
   ]
  },
  {
   "cell_type": "code",
   "execution_count": 73,
   "id": "c6645a42",
   "metadata": {},
   "outputs": [],
   "source": [
    "rf=pd.Series([68833, 33700, 36925, 50190, 81002, 33329, 83357, 62774, 83519,\n",
    "       98152, 29732, 61063, 11794, 61830, 64070, 69869, 24987, 39476,\n",
    "       97957, 10987, 88636, 14310, 78969, 92040, 38239, 31417, 55299,\n",
    "       87778, 10379, 94033, 73854, 64007, 97200, 82071, 12514, 31336,\n",
    "       10163, 68513, 14912, 74010, 50777, 49436, 96485, 70339, 33614,\n",
    "       81079, 31532, 44034, 16264, 45706, 79616, 40137, 97703, 21917,\n",
    "       81939, 19925, 34703, 78573, 10870, 65065, 94418, 26972, 91684,\n",
    "       51685, 62158, 58312, 42507, 61486, 10150, 99619, 89302, 94287,\n",
    "       41344, 41382, 32434, 61105, 67628, 31458, 73411, 10329, 44947,\n",
    "       35610, 66564, 87348, 69098, 28449, 39277, 13747, 86652, 26741,\n",
    "       77634, 99325, 85651, 15296, 10348, 41395, 22258, 79583, 22187,\n",
    "       52495, 93078, 35072, 32662, 89250, 41641, 55873, 19169, 46629,\n",
    "       51927, 69224, 24557, 77762, 96355, 90910, 21945, 79357, 42784,\n",
    "       54638, 29944, 97318, 52022, 20391, 21016, 26679, 70682, 87326,\n",
    "       15853, 75501, 97984, 53378, 93458, 56501, 46955, 33492, 35832,\n",
    "       12470, 53981, 22773, 84691, 50087, 27877, 56647, 59419, 26783,\n",
    "       79453, 33962, 84429, 63057, 43128, 40220, 79700, 67083, 22054,\n",
    "       18192, 25222, 58635, 39114, 48738, 28496, 62209, 87677, 93659,\n",
    "       56503, 27081, 48779, 91304, 49520, 41117, 18199, 76992, 98588,\n",
    "       20719, 13068, 84835, 44795, 39052, 38704, 98416, 86958, 29222,\n",
    "       71357, 29543, 23855, 84836, 93307, 64614, 72949, 79211, 28707,\n",
    "       83229, 73620, 70819, 48313, 37481, 20851, 86079, 10933, 66905,\n",
    "       36890, 19060, 61906, 31088, 70365, 56536, 16992, 14300, 51914,\n",
    "       12083, 71376, 99307, 35200, 70812, 62067, 62365, 80618, 52891,\n",
    "       31409, 81790, 57794, 20604, 83459, 43051, 68911, 38374, 86784,\n",
    "       42488, 35922, 46610, 28764, 75170, 24370, 84083, 11784, 10003,\n",
    "       98970, 77735, 46070, 27143, 56974, 99109, 32603, 24215, 33092,\n",
    "       71297, 68268, 33810, 49995, 11865, 28904, 39144, 31591, 30167,\n",
    "       72382, 79869, 70526, 38143, 70298, 54747, 92997, 24347, 57445,\n",
    "       70645, 69540, 70712, 32900, 14326, 43865, 29046, 95088, 38586,\n",
    "       30468, 42254, 32467, 68404, 58451, 86208, 62426, 63710, 25062,\n",
    "       56438, 17783, 92426, 64667, 32483, 15673, 77511, 76182, 89831,\n",
    "       12072, 81231, 48169, 31699, 15710, 31645, 98933, 52912, 68756,\n",
    "       41087, 46798, 34475, 98334, 10900, 61445, 78796, 62141, 90945,\n",
    "       88918, 62873, 70949, 31521, 59615, 52111, 34598, 61124, 59689,\n",
    "       23075, 48192, 77367, 82625, 51802, 78922, 38670, 48392, 47425,\n",
    "       73906, 94013, 27698, 26793, 67033, 20109, 95185, 27684, 98240,\n",
    "       18032, 46470, 33301, 62800, 27520, 26094, 13571, 36239, 77082,\n",
    "       71572, 30495, 49771, 32905, 21337, 16082, 43883, 15491, 48081,\n",
    "       36317, 15627, 51028, 14422, 45525, 23480, 19184, 80239, 33215,\n",
    "       65203, 65190, 16320, 21696, 56129, 74971, 33356, 29607, 95319,\n",
    "       94413, 78963, 66865, 40427, 93733, 63543, 41184, 96652, 56555,\n",
    "       36457, 26101, 36156, 49958, 68696, 97453, 68533, 96438, 50348,\n",
    "       85016, 73188, 64225, 64437, 66330, 26372, 30714, 84263, 86531,\n",
    "       93090, 79373, 17440, 81536, 62494, 37580, 60822, 96032, 91545,\n",
    "       73313, 54345, 33138, 33579, 83094, 90065, 51913, 81378, 32236,\n",
    "       97980, 38626, 64230, 38183, 89277, 68269, 58751, 88720, 99311,\n",
    "       94528, 72268, 79593, 94247, 76700, 12011, 87935, 98720, 38638,\n",
    "       37857, 15532, 22159, 91547, 98738, 21966, 14398, 18572, 77312,\n",
    "       42074, 82799, 12659, 19649, 50119, 18888, 83061, 39343, 92007,\n",
    "       78728, 48640, 92070, 97341, 97493, 78400, 52862, 11804, 10455,\n",
    "       25766, 58199, 88613, 16690, 71164, 48825, 29236, 59689, 48940,\n",
    "       64320, 84845, 52663, 17957, 69018, 58496, 99128, 35868, 79478,\n",
    "       57402, 73795, 58403, 85972, 62998, 32786, 17962, 59440, 94772,\n",
    "       80083, 81026, 86883, 39444, 35886, 24541, 54502, 17183, 39562,\n",
    "       70157, 72151, 65170, 67936, 93339, 57365, 56628, 83814, 75324,\n",
    "       46939, 71428, 23884, 95145, 46002, 20309, 72115, 42769, 91870,\n",
    "       55308, 60789, 51363, 99239, 19272, 44411, 60915, 98433, 81867,\n",
    "       43980, 50286, 29385, 47565, 26494, 59243, 91488, 33116, 93364,\n",
    "       70743, 34007, 26128, 33748, 38896, 40674, 97111, 54850, 32948,\n",
    "       12682, 12453, 34655, 59351, 29916, 36532, 94583, 92819, 76535,\n",
    "       91220, 71238, 32356, 89094, 91462, 75585, 31629, 42063, 12810,\n",
    "       85570, 72026, 90444, 50403, 78867, 95920, 41545, 63912, 92498,\n",
    "       16316, 68617, 59860, 55981, 34833, 39818, 59227, 44809, 10735,\n",
    "       50242, 56166, 42483, 70572, 31721, 31085, 84931, 69036, 42679,\n",
    "       84557, 54126, 87685, 85076, 31633, 43018, 27394, 68152, 84775,\n",
    "       47364, 76340, 69967, 47334, 98592, 96519])\n",
    "\n",
    "rf[rf <= 30000] =30    \n",
    "rf[rf > 30000 ] =70     \n",
    "\n",
    "# The values 30 &  70 are > 30 as 'Risky(comes under or equal to 30000 bracket)' & \n",
    "#                         > 70 as 'Good(comes under above 30000 bracket)' "
   ]
  },
  {
   "cell_type": "code",
   "execution_count": 17,
   "id": "903b7c90",
   "metadata": {},
   "outputs": [],
   "source": [
    "fc['Taxable.Income'] =rf"
   ]
  },
  {
   "cell_type": "code",
   "execution_count": 18,
   "id": "6f2d9d3f",
   "metadata": {},
   "outputs": [
    {
     "data": {
      "text/html": [
       "<div>\n",
       "<style scoped>\n",
       "    .dataframe tbody tr th:only-of-type {\n",
       "        vertical-align: middle;\n",
       "    }\n",
       "\n",
       "    .dataframe tbody tr th {\n",
       "        vertical-align: top;\n",
       "    }\n",
       "\n",
       "    .dataframe thead th {\n",
       "        text-align: right;\n",
       "    }\n",
       "</style>\n",
       "<table border=\"1\" class=\"dataframe\">\n",
       "  <thead>\n",
       "    <tr style=\"text-align: right;\">\n",
       "      <th></th>\n",
       "      <th>Undergrad</th>\n",
       "      <th>Marital.Status</th>\n",
       "      <th>Taxable.Income</th>\n",
       "      <th>City.Population</th>\n",
       "      <th>Work.Experience</th>\n",
       "      <th>Urban</th>\n",
       "    </tr>\n",
       "  </thead>\n",
       "  <tbody>\n",
       "    <tr>\n",
       "      <th>0</th>\n",
       "      <td>NO</td>\n",
       "      <td>Single</td>\n",
       "      <td>70</td>\n",
       "      <td>50047</td>\n",
       "      <td>10</td>\n",
       "      <td>YES</td>\n",
       "    </tr>\n",
       "    <tr>\n",
       "      <th>1</th>\n",
       "      <td>YES</td>\n",
       "      <td>Divorced</td>\n",
       "      <td>70</td>\n",
       "      <td>134075</td>\n",
       "      <td>18</td>\n",
       "      <td>YES</td>\n",
       "    </tr>\n",
       "    <tr>\n",
       "      <th>2</th>\n",
       "      <td>NO</td>\n",
       "      <td>Married</td>\n",
       "      <td>70</td>\n",
       "      <td>160205</td>\n",
       "      <td>30</td>\n",
       "      <td>YES</td>\n",
       "    </tr>\n",
       "    <tr>\n",
       "      <th>3</th>\n",
       "      <td>YES</td>\n",
       "      <td>Single</td>\n",
       "      <td>70</td>\n",
       "      <td>193264</td>\n",
       "      <td>15</td>\n",
       "      <td>YES</td>\n",
       "    </tr>\n",
       "    <tr>\n",
       "      <th>4</th>\n",
       "      <td>NO</td>\n",
       "      <td>Married</td>\n",
       "      <td>70</td>\n",
       "      <td>27533</td>\n",
       "      <td>28</td>\n",
       "      <td>NO</td>\n",
       "    </tr>\n",
       "    <tr>\n",
       "      <th>...</th>\n",
       "      <td>...</td>\n",
       "      <td>...</td>\n",
       "      <td>...</td>\n",
       "      <td>...</td>\n",
       "      <td>...</td>\n",
       "      <td>...</td>\n",
       "    </tr>\n",
       "    <tr>\n",
       "      <th>595</th>\n",
       "      <td>YES</td>\n",
       "      <td>Divorced</td>\n",
       "      <td>70</td>\n",
       "      <td>39492</td>\n",
       "      <td>7</td>\n",
       "      <td>YES</td>\n",
       "    </tr>\n",
       "    <tr>\n",
       "      <th>596</th>\n",
       "      <td>YES</td>\n",
       "      <td>Divorced</td>\n",
       "      <td>70</td>\n",
       "      <td>55369</td>\n",
       "      <td>2</td>\n",
       "      <td>YES</td>\n",
       "    </tr>\n",
       "    <tr>\n",
       "      <th>597</th>\n",
       "      <td>NO</td>\n",
       "      <td>Divorced</td>\n",
       "      <td>70</td>\n",
       "      <td>154058</td>\n",
       "      <td>0</td>\n",
       "      <td>YES</td>\n",
       "    </tr>\n",
       "    <tr>\n",
       "      <th>598</th>\n",
       "      <td>YES</td>\n",
       "      <td>Married</td>\n",
       "      <td>70</td>\n",
       "      <td>180083</td>\n",
       "      <td>17</td>\n",
       "      <td>NO</td>\n",
       "    </tr>\n",
       "    <tr>\n",
       "      <th>599</th>\n",
       "      <td>NO</td>\n",
       "      <td>Divorced</td>\n",
       "      <td>70</td>\n",
       "      <td>158137</td>\n",
       "      <td>16</td>\n",
       "      <td>NO</td>\n",
       "    </tr>\n",
       "  </tbody>\n",
       "</table>\n",
       "<p>600 rows × 6 columns</p>\n",
       "</div>"
      ],
      "text/plain": [
       "    Undergrad Marital.Status  Taxable.Income  City.Population  \\\n",
       "0          NO         Single              70            50047   \n",
       "1         YES       Divorced              70           134075   \n",
       "2          NO        Married              70           160205   \n",
       "3         YES         Single              70           193264   \n",
       "4          NO        Married              70            27533   \n",
       "..        ...            ...             ...              ...   \n",
       "595       YES       Divorced              70            39492   \n",
       "596       YES       Divorced              70            55369   \n",
       "597        NO       Divorced              70           154058   \n",
       "598       YES        Married              70           180083   \n",
       "599        NO       Divorced              70           158137   \n",
       "\n",
       "     Work.Experience Urban  \n",
       "0                 10   YES  \n",
       "1                 18   YES  \n",
       "2                 30   YES  \n",
       "3                 15   YES  \n",
       "4                 28    NO  \n",
       "..               ...   ...  \n",
       "595                7   YES  \n",
       "596                2   YES  \n",
       "597                0   YES  \n",
       "598               17    NO  \n",
       "599               16    NO  \n",
       "\n",
       "[600 rows x 6 columns]"
      ]
     },
     "execution_count": 18,
     "metadata": {},
     "output_type": "execute_result"
    }
   ],
   "source": [
    "fc"
   ]
  },
  {
   "cell_type": "code",
   "execution_count": 19,
   "id": "542495cf",
   "metadata": {},
   "outputs": [],
   "source": [
    "from sklearn.preprocessing import LabelEncoder\n",
    "encoder =LabelEncoder()\n",
    "fc['Undergrad']=encoder.fit_transform(fc['Undergrad'])\n",
    "fc['Marital.Status']=encoder.fit_transform(fc['Marital.Status'])\n",
    "fc['Urban']=encoder.fit_transform(fc['Urban'])"
   ]
  },
  {
   "cell_type": "code",
   "execution_count": 20,
   "id": "6b489e65",
   "metadata": {},
   "outputs": [
    {
     "data": {
      "text/html": [
       "<div>\n",
       "<style scoped>\n",
       "    .dataframe tbody tr th:only-of-type {\n",
       "        vertical-align: middle;\n",
       "    }\n",
       "\n",
       "    .dataframe tbody tr th {\n",
       "        vertical-align: top;\n",
       "    }\n",
       "\n",
       "    .dataframe thead th {\n",
       "        text-align: right;\n",
       "    }\n",
       "</style>\n",
       "<table border=\"1\" class=\"dataframe\">\n",
       "  <thead>\n",
       "    <tr style=\"text-align: right;\">\n",
       "      <th></th>\n",
       "      <th>Undergrad</th>\n",
       "      <th>Marital.Status</th>\n",
       "      <th>Taxable.Income</th>\n",
       "      <th>City.Population</th>\n",
       "      <th>Work.Experience</th>\n",
       "      <th>Urban</th>\n",
       "    </tr>\n",
       "  </thead>\n",
       "  <tbody>\n",
       "    <tr>\n",
       "      <th>0</th>\n",
       "      <td>0</td>\n",
       "      <td>2</td>\n",
       "      <td>70</td>\n",
       "      <td>50047</td>\n",
       "      <td>10</td>\n",
       "      <td>1</td>\n",
       "    </tr>\n",
       "    <tr>\n",
       "      <th>1</th>\n",
       "      <td>1</td>\n",
       "      <td>0</td>\n",
       "      <td>70</td>\n",
       "      <td>134075</td>\n",
       "      <td>18</td>\n",
       "      <td>1</td>\n",
       "    </tr>\n",
       "    <tr>\n",
       "      <th>2</th>\n",
       "      <td>0</td>\n",
       "      <td>1</td>\n",
       "      <td>70</td>\n",
       "      <td>160205</td>\n",
       "      <td>30</td>\n",
       "      <td>1</td>\n",
       "    </tr>\n",
       "    <tr>\n",
       "      <th>3</th>\n",
       "      <td>1</td>\n",
       "      <td>2</td>\n",
       "      <td>70</td>\n",
       "      <td>193264</td>\n",
       "      <td>15</td>\n",
       "      <td>1</td>\n",
       "    </tr>\n",
       "    <tr>\n",
       "      <th>4</th>\n",
       "      <td>0</td>\n",
       "      <td>1</td>\n",
       "      <td>70</td>\n",
       "      <td>27533</td>\n",
       "      <td>28</td>\n",
       "      <td>0</td>\n",
       "    </tr>\n",
       "    <tr>\n",
       "      <th>...</th>\n",
       "      <td>...</td>\n",
       "      <td>...</td>\n",
       "      <td>...</td>\n",
       "      <td>...</td>\n",
       "      <td>...</td>\n",
       "      <td>...</td>\n",
       "    </tr>\n",
       "    <tr>\n",
       "      <th>595</th>\n",
       "      <td>1</td>\n",
       "      <td>0</td>\n",
       "      <td>70</td>\n",
       "      <td>39492</td>\n",
       "      <td>7</td>\n",
       "      <td>1</td>\n",
       "    </tr>\n",
       "    <tr>\n",
       "      <th>596</th>\n",
       "      <td>1</td>\n",
       "      <td>0</td>\n",
       "      <td>70</td>\n",
       "      <td>55369</td>\n",
       "      <td>2</td>\n",
       "      <td>1</td>\n",
       "    </tr>\n",
       "    <tr>\n",
       "      <th>597</th>\n",
       "      <td>0</td>\n",
       "      <td>0</td>\n",
       "      <td>70</td>\n",
       "      <td>154058</td>\n",
       "      <td>0</td>\n",
       "      <td>1</td>\n",
       "    </tr>\n",
       "    <tr>\n",
       "      <th>598</th>\n",
       "      <td>1</td>\n",
       "      <td>1</td>\n",
       "      <td>70</td>\n",
       "      <td>180083</td>\n",
       "      <td>17</td>\n",
       "      <td>0</td>\n",
       "    </tr>\n",
       "    <tr>\n",
       "      <th>599</th>\n",
       "      <td>0</td>\n",
       "      <td>0</td>\n",
       "      <td>70</td>\n",
       "      <td>158137</td>\n",
       "      <td>16</td>\n",
       "      <td>0</td>\n",
       "    </tr>\n",
       "  </tbody>\n",
       "</table>\n",
       "<p>600 rows × 6 columns</p>\n",
       "</div>"
      ],
      "text/plain": [
       "     Undergrad  Marital.Status  Taxable.Income  City.Population  \\\n",
       "0            0               2              70            50047   \n",
       "1            1               0              70           134075   \n",
       "2            0               1              70           160205   \n",
       "3            1               2              70           193264   \n",
       "4            0               1              70            27533   \n",
       "..         ...             ...             ...              ...   \n",
       "595          1               0              70            39492   \n",
       "596          1               0              70            55369   \n",
       "597          0               0              70           154058   \n",
       "598          1               1              70           180083   \n",
       "599          0               0              70           158137   \n",
       "\n",
       "     Work.Experience  Urban  \n",
       "0                 10      1  \n",
       "1                 18      1  \n",
       "2                 30      1  \n",
       "3                 15      1  \n",
       "4                 28      0  \n",
       "..               ...    ...  \n",
       "595                7      1  \n",
       "596                2      1  \n",
       "597                0      1  \n",
       "598               17      0  \n",
       "599               16      0  \n",
       "\n",
       "[600 rows x 6 columns]"
      ]
     },
     "execution_count": 20,
     "metadata": {},
     "output_type": "execute_result"
    }
   ],
   "source": [
    "fc"
   ]
  },
  {
   "cell_type": "markdown",
   "id": "de22b6d5",
   "metadata": {},
   "source": [
    "# Visualization"
   ]
  },
  {
   "cell_type": "code",
   "execution_count": 21,
   "id": "3cbc5ff2",
   "metadata": {},
   "outputs": [
    {
     "data": {
      "text/plain": [
       "(array([[600.,   0.,   0.,   0.,   0.,   0.,   0.,   0.,   0.,   0.],\n",
       "        [600.,   0.,   0.,   0.,   0.,   0.,   0.,   0.,   0.,   0.],\n",
       "        [600.,   0.,   0.,   0.,   0.,   0.,   0.,   0.,   0.,   0.],\n",
       "        [  0.,  58.,  73.,  72.,  72.,  74.,  69.,  63.,  54.,  65.],\n",
       "        [600.,   0.,   0.,   0.,   0.,   0.,   0.,   0.,   0.,   0.],\n",
       "        [600.,   0.,   0.,   0.,   0.,   0.,   0.,   0.,   0.,   0.]]),\n",
       " array([     0. ,  19977.8,  39955.6,  59933.4,  79911.2,  99889. ,\n",
       "        119866.8, 139844.6, 159822.4, 179800.2, 199778. ]),\n",
       " <a list of 6 BarContainer objects>)"
      ]
     },
     "execution_count": 21,
     "metadata": {},
     "output_type": "execute_result"
    },
    {
     "data": {
      "image/png": "[encoded data removed]",
      "text/plain": [
       "<Figure size 432x288 with 1 Axes>"
      ]
     },
     "metadata": {
      "needs_background": "light"
     },
     "output_type": "display_data"
    }
   ],
   "source": [
    "plt.hist(fc)"
   ]
  },
  {
   "cell_type": "code",
   "execution_count": 74,
   "id": "3c34f319",
   "metadata": {},
   "outputs": [
    {
     "data": {
      "text/plain": [
       "<AxesSubplot:xlabel='Taxable.Income', ylabel='count'>"
      ]
     },
     "execution_count": 74,
     "metadata": {},
     "output_type": "execute_result"
    },
    {
     "data": {
      "image/png": "[encoded data removed]",
      "text/plain": [
       "<Figure size 432x288 with 1 Axes>"
      ]
     },
     "metadata": {
      "needs_background": "light"
     },
     "output_type": "display_data"
    }
   ],
   "source": [
    "sns.countplot(fc['Taxable.Income'])\n",
    "\n",
    "# count plot suggest the no of Good(70) catergoriers are higher than Risky(30)."
   ]
  },
  {
   "cell_type": "code",
   "execution_count": 75,
   "id": "a4303e81",
   "metadata": {},
   "outputs": [
    {
     "data": {
      "text/plain": [
       "<AxesSubplot:xlabel='Work.Experience', ylabel='count'>"
      ]
     },
     "execution_count": 75,
     "metadata": {},
     "output_type": "execute_result"
    },
    {
     "data": {
      "image/png": "[encoded data removed]",
      "text/plain": [
       "<Figure size 432x288 with 1 Axes>"
      ]
     },
     "metadata": {
      "needs_background": "light"
     },
     "output_type": "display_data"
    }
   ],
   "source": [
    "sns.countplot(fc['Work.Experience'])\n",
    "# Work experience features looks centralized beetween 9 to 13 yrs range."
   ]
  },
  {
   "cell_type": "code",
   "execution_count": 24,
   "id": "67420dfd",
   "metadata": {},
   "outputs": [
    {
     "data": {
      "text/plain": [
       "<AxesSubplot:xlabel='Marital.Status', ylabel='count'>"
      ]
     },
     "execution_count": 24,
     "metadata": {},
     "output_type": "execute_result"
    },
    {
     "data": {
      "image/png": "[encoded data removed]",
      "text/plain": [
       "<Figure size 432x288 with 1 Axes>"
      ]
     },
     "metadata": {
      "needs_background": "light"
     },
     "output_type": "display_data"
    }
   ],
   "source": [
    "sns.countplot(fc['Marital.Status'])"
   ]
  },
  {
   "cell_type": "code",
   "execution_count": 25,
   "id": "c37d6bfe",
   "metadata": {},
   "outputs": [
    {
     "data": {
      "text/plain": [
       "<AxesSubplot:xlabel='Undergrad', ylabel='count'>"
      ]
     },
     "execution_count": 25,
     "metadata": {},
     "output_type": "execute_result"
    },
    {
     "data": {
      "image/png": "[encoded data removed]",
      "text/plain": [
       "<Figure size 432x288 with 1 Axes>"
      ]
     },
     "metadata": {
      "needs_background": "light"
     },
     "output_type": "display_data"
    }
   ],
   "source": [
    "sns.countplot(fc['Undergrad'])"
   ]
  },
  {
   "cell_type": "code",
   "execution_count": 26,
   "id": "eccce849",
   "metadata": {},
   "outputs": [
    {
     "data": {
      "text/plain": [
       "<AxesSubplot:xlabel='Urban', ylabel='count'>"
      ]
     },
     "execution_count": 26,
     "metadata": {},
     "output_type": "execute_result"
    },
    {
     "data": {
      "image/png": "[encoded data removed]",
      "text/plain": [
       "<Figure size 432x288 with 1 Axes>"
      ]
     },
     "metadata": {
      "needs_background": "light"
     },
     "output_type": "display_data"
    }
   ],
   "source": [
    "sns.countplot(fc['Urban'])"
   ]
  },
  {
   "cell_type": "code",
   "execution_count": 27,
   "id": "3c5ebbe5",
   "metadata": {},
   "outputs": [
    {
     "data": {
      "text/plain": [
       "(array([124.,   0.,   0.,   0.,   0.,   0.,   0.,   0.,   0., 476.]),\n",
       " array([30., 34., 38., 42., 46., 50., 54., 58., 62., 66., 70.]),\n",
       " <BarContainer object of 10 artists>)"
      ]
     },
     "execution_count": 27,
     "metadata": {},
     "output_type": "execute_result"
    },
    {
     "data": {
      "image/png": "[encoded data removed]",
      "text/plain": [
       "<Figure size 432x288 with 1 Axes>"
      ]
     },
     "metadata": {
      "needs_background": "light"
     },
     "output_type": "display_data"
    }
   ],
   "source": [
    "plt.hist(fc['Taxable.Income'])"
   ]
  },
  {
   "cell_type": "code",
   "execution_count": 28,
   "id": "78100605",
   "metadata": {},
   "outputs": [
    {
     "data": {
      "text/plain": [
       "<Figure size 1440x1440 with 0 Axes>"
      ]
     },
     "execution_count": 28,
     "metadata": {},
     "output_type": "execute_result"
    },
    {
     "data": {
      "image/png": "[encoded data removed]",
      "text/plain": [
       "<Figure size 432x288 with 6 Axes>"
      ]
     },
     "metadata": {
      "needs_background": "light"
     },
     "output_type": "display_data"
    },
    {
     "data": {
      "text/plain": [
       "<Figure size 1440x1440 with 0 Axes>"
      ]
     },
     "metadata": {},
     "output_type": "display_data"
    }
   ],
   "source": [
    "fc.hist()\n",
    "plt.figure(figsize=(20,20))    "
   ]
  },
  {
   "cell_type": "code",
   "execution_count": 29,
   "id": "560f4f52",
   "metadata": {},
   "outputs": [
    {
     "data": {
      "text/plain": [
       "<Figure size 1440x1440 with 0 Axes>"
      ]
     },
     "execution_count": 29,
     "metadata": {},
     "output_type": "execute_result"
    },
    {
     "data": {
      "image/png": "[encoded data removed]",
      "text/plain": [
       "<Figure size 432x288 with 1 Axes>"
      ]
     },
     "metadata": {
      "needs_background": "light"
     },
     "output_type": "display_data"
    },
    {
     "data": {
      "text/plain": [
       "<Figure size 1440x1440 with 0 Axes>"
      ]
     },
     "metadata": {},
     "output_type": "display_data"
    }
   ],
   "source": [
    "fc.boxplot()\n",
    "plt.figure(figsize=(20,20))    "
   ]
  },
  {
   "cell_type": "code",
   "execution_count": 31,
   "id": "c9c0e169",
   "metadata": {},
   "outputs": [
    {
     "data": {
      "text/plain": [
       "array([70, 30], dtype=int64)"
      ]
     },
     "execution_count": 31,
     "metadata": {},
     "output_type": "execute_result"
    }
   ],
   "source": [
    "(fc['Taxable.Income'].unique())"
   ]
  },
  {
   "cell_type": "code",
   "execution_count": 32,
   "id": "c80a82c3",
   "metadata": {},
   "outputs": [
    {
     "data": {
      "text/plain": [
       "70    476\n",
       "30    124\n",
       "Name: Taxable.Income, dtype: int64"
      ]
     },
     "execution_count": 32,
     "metadata": {},
     "output_type": "execute_result"
    }
   ],
   "source": [
    "fc['Taxable.Income'].value_counts()"
   ]
  },
  {
   "cell_type": "code",
   "execution_count": 33,
   "id": "4612dddb",
   "metadata": {},
   "outputs": [
    {
     "data": {
      "text/plain": [
       "array([70, 70, 70, 70, 70, 70, 70, 70, 70, 70, 30, 70, 30, 70, 70, 70, 30,\n",
       "       70, 70, 30, 70, 30, 70, 70, 70, 70, 70, 70, 30, 70, 70, 70, 70, 70,\n",
       "       30, 70, 30, 70, 30, 70, 70, 70, 70, 70, 70, 70, 70, 70, 30, 70, 70,\n",
       "       70, 70, 30, 70, 30, 70, 70, 30, 70, 70, 30, 70, 70, 70, 70, 70, 70,\n",
       "       30, 70, 70, 70, 70, 70, 70, 70, 70, 70, 70, 30, 70, 70, 70, 70, 70,\n",
       "       30, 70, 30, 70, 30, 70, 70, 70, 30, 30, 70, 30, 70, 30, 70, 70, 70,\n",
       "       70, 70, 70, 70, 30, 70, 70, 70, 30, 70, 70, 70, 30, 70, 70, 70, 30,\n",
       "       70, 70, 30, 30, 30, 70, 70, 30, 70, 70, 70, 70, 70, 70, 70, 70, 30,\n",
       "       70, 30, 70, 70, 30, 70, 70, 30, 70, 70, 70, 70, 70, 70, 70, 70, 30,\n",
       "       30, 30, 70, 70, 70, 30, 70, 70, 70, 70, 30, 70, 70, 70, 70, 30, 70,\n",
       "       70, 30, 30, 70, 70, 70, 70, 70, 70, 30, 70, 30, 30, 70, 70, 70, 70,\n",
       "       70, 30, 70, 70, 70, 70, 70, 30, 70, 30, 70, 70, 30, 70, 70, 70, 70,\n",
       "       30, 30, 70, 30, 70, 70, 70, 70, 70, 70, 70, 70, 70, 70, 70, 30, 70,\n",
       "       70, 70, 70, 70, 70, 70, 70, 30, 70, 30, 70, 30, 30, 70, 70, 70, 30,\n",
       "       70, 70, 70, 30, 70, 70, 70, 70, 70, 30, 30, 70, 70, 70, 70, 70, 70,\n",
       "       70, 70, 70, 70, 30, 70, 70, 70, 70, 70, 30, 70, 30, 70, 70, 70, 70,\n",
       "       70, 70, 70, 70, 70, 70, 30, 70, 30, 70, 70, 70, 30, 70, 70, 70, 30,\n",
       "       70, 70, 70, 30, 70, 70, 70, 70, 70, 70, 70, 70, 30, 70, 70, 70, 70,\n",
       "       70, 70, 70, 70, 70, 70, 70, 70, 70, 30, 70, 70, 70, 70, 70, 70, 70,\n",
       "       70, 70, 70, 30, 30, 70, 30, 70, 30, 70, 30, 70, 70, 70, 30, 30, 30,\n",
       "       70, 70, 70, 70, 70, 70, 30, 30, 70, 30, 70, 70, 30, 70, 30, 70, 30,\n",
       "       30, 70, 70, 70, 70, 30, 30, 70, 70, 70, 30, 70, 70, 70, 70, 70, 70,\n",
       "       70, 70, 70, 70, 70, 30, 70, 70, 70, 70, 70, 70, 70, 70, 70, 70, 70,\n",
       "       70, 30, 70, 70, 70, 70, 70, 30, 70, 70, 70, 70, 70, 70, 70, 70, 70,\n",
       "       70, 70, 70, 70, 70, 70, 70, 70, 70, 70, 70, 70, 70, 70, 70, 70, 70,\n",
       "       70, 70, 70, 30, 70, 70, 70, 70, 30, 30, 70, 70, 30, 30, 30, 70, 70,\n",
       "       70, 30, 30, 70, 30, 70, 70, 70, 70, 70, 70, 70, 70, 70, 70, 30, 30,\n",
       "       30, 70, 70, 30, 70, 70, 30, 70, 70, 70, 70, 70, 30, 70, 70, 70, 70,\n",
       "       70, 70, 70, 70, 70, 70, 70, 30, 70, 70, 70, 70, 70, 70, 70, 30, 70,\n",
       "       30, 70, 70, 70, 70, 70, 70, 70, 70, 70, 70, 70, 70, 30, 70, 70, 30,\n",
       "       70, 70, 70, 70, 70, 70, 70, 30, 70, 70, 70, 70, 70, 70, 30, 70, 30,\n",
       "       70, 70, 70, 70, 70, 70, 30, 70, 70, 70, 70, 70, 70, 30, 30, 70, 70,\n",
       "       30, 70, 70, 70, 70, 70, 70, 70, 70, 70, 70, 70, 70, 30, 70, 70, 70,\n",
       "       70, 70, 70, 70, 70, 70, 30, 70, 70, 70, 70, 70, 70, 70, 30, 70, 70,\n",
       "       70, 70, 70, 70, 70, 70, 70, 70, 70, 70, 70, 70, 70, 30, 70, 70, 70,\n",
       "       70, 70, 70, 70, 70], dtype=int64)"
      ]
     },
     "execution_count": 33,
     "metadata": {},
     "output_type": "execute_result"
    }
   ],
   "source": [
    "fc['Taxable.Income'].values"
   ]
  },
  {
   "cell_type": "code",
   "execution_count": 70,
   "id": "a9272399",
   "metadata": {},
   "outputs": [],
   "source": [
    "from sklearn.ensemble import RandomForestClassifier\n",
    "from sklearn.model_selection import train_test_split\n",
    "from sklearn.metrics  import accuracy_score,classification_report"
   ]
  },
  {
   "cell_type": "code",
   "execution_count": 72,
   "id": "feeb875d",
   "metadata": {},
   "outputs": [],
   "source": [
    "df =fc[['Undergrad','Marital.Status','City.Population','Work.Experience','Urban']]\n",
    "# creating dataframe for feature variable."
   ]
  },
  {
   "cell_type": "code",
   "execution_count": 71,
   "id": "d3ff4035",
   "metadata": {},
   "outputs": [],
   "source": [
    "x=df                          # All Features(x)\n",
    "y=fc['Taxable.Income']        # Target(y)"
   ]
  },
  {
   "cell_type": "code",
   "execution_count": 37,
   "id": "966b79d6",
   "metadata": {},
   "outputs": [
    {
     "data": {
      "text/html": [
       "<div>\n",
       "<style scoped>\n",
       "    .dataframe tbody tr th:only-of-type {\n",
       "        vertical-align: middle;\n",
       "    }\n",
       "\n",
       "    .dataframe tbody tr th {\n",
       "        vertical-align: top;\n",
       "    }\n",
       "\n",
       "    .dataframe thead th {\n",
       "        text-align: right;\n",
       "    }\n",
       "</style>\n",
       "<table border=\"1\" class=\"dataframe\">\n",
       "  <thead>\n",
       "    <tr style=\"text-align: right;\">\n",
       "      <th></th>\n",
       "      <th>Undergrad</th>\n",
       "      <th>Marital.Status</th>\n",
       "      <th>City.Population</th>\n",
       "      <th>Work.Experience</th>\n",
       "      <th>Urban</th>\n",
       "    </tr>\n",
       "  </thead>\n",
       "  <tbody>\n",
       "    <tr>\n",
       "      <th>0</th>\n",
       "      <td>0</td>\n",
       "      <td>2</td>\n",
       "      <td>50047</td>\n",
       "      <td>10</td>\n",
       "      <td>1</td>\n",
       "    </tr>\n",
       "    <tr>\n",
       "      <th>1</th>\n",
       "      <td>1</td>\n",
       "      <td>0</td>\n",
       "      <td>134075</td>\n",
       "      <td>18</td>\n",
       "      <td>1</td>\n",
       "    </tr>\n",
       "    <tr>\n",
       "      <th>2</th>\n",
       "      <td>0</td>\n",
       "      <td>1</td>\n",
       "      <td>160205</td>\n",
       "      <td>30</td>\n",
       "      <td>1</td>\n",
       "    </tr>\n",
       "    <tr>\n",
       "      <th>3</th>\n",
       "      <td>1</td>\n",
       "      <td>2</td>\n",
       "      <td>193264</td>\n",
       "      <td>15</td>\n",
       "      <td>1</td>\n",
       "    </tr>\n",
       "    <tr>\n",
       "      <th>4</th>\n",
       "      <td>0</td>\n",
       "      <td>1</td>\n",
       "      <td>27533</td>\n",
       "      <td>28</td>\n",
       "      <td>0</td>\n",
       "    </tr>\n",
       "    <tr>\n",
       "      <th>...</th>\n",
       "      <td>...</td>\n",
       "      <td>...</td>\n",
       "      <td>...</td>\n",
       "      <td>...</td>\n",
       "      <td>...</td>\n",
       "    </tr>\n",
       "    <tr>\n",
       "      <th>595</th>\n",
       "      <td>1</td>\n",
       "      <td>0</td>\n",
       "      <td>39492</td>\n",
       "      <td>7</td>\n",
       "      <td>1</td>\n",
       "    </tr>\n",
       "    <tr>\n",
       "      <th>596</th>\n",
       "      <td>1</td>\n",
       "      <td>0</td>\n",
       "      <td>55369</td>\n",
       "      <td>2</td>\n",
       "      <td>1</td>\n",
       "    </tr>\n",
       "    <tr>\n",
       "      <th>597</th>\n",
       "      <td>0</td>\n",
       "      <td>0</td>\n",
       "      <td>154058</td>\n",
       "      <td>0</td>\n",
       "      <td>1</td>\n",
       "    </tr>\n",
       "    <tr>\n",
       "      <th>598</th>\n",
       "      <td>1</td>\n",
       "      <td>1</td>\n",
       "      <td>180083</td>\n",
       "      <td>17</td>\n",
       "      <td>0</td>\n",
       "    </tr>\n",
       "    <tr>\n",
       "      <th>599</th>\n",
       "      <td>0</td>\n",
       "      <td>0</td>\n",
       "      <td>158137</td>\n",
       "      <td>16</td>\n",
       "      <td>0</td>\n",
       "    </tr>\n",
       "  </tbody>\n",
       "</table>\n",
       "<p>600 rows × 5 columns</p>\n",
       "</div>"
      ],
      "text/plain": [
       "     Undergrad  Marital.Status  City.Population  Work.Experience  Urban\n",
       "0            0               2            50047               10      1\n",
       "1            1               0           134075               18      1\n",
       "2            0               1           160205               30      1\n",
       "3            1               2           193264               15      1\n",
       "4            0               1            27533               28      0\n",
       "..         ...             ...              ...              ...    ...\n",
       "595          1               0            39492                7      1\n",
       "596          1               0            55369                2      1\n",
       "597          0               0           154058                0      1\n",
       "598          1               1           180083               17      0\n",
       "599          0               0           158137               16      0\n",
       "\n",
       "[600 rows x 5 columns]"
      ]
     },
     "execution_count": 37,
     "metadata": {},
     "output_type": "execute_result"
    }
   ],
   "source": [
    "x"
   ]
  },
  {
   "cell_type": "code",
   "execution_count": 38,
   "id": "dcaee7f2",
   "metadata": {},
   "outputs": [
    {
     "data": {
      "text/plain": [
       "0      70\n",
       "1      70\n",
       "2      70\n",
       "3      70\n",
       "4      70\n",
       "       ..\n",
       "595    70\n",
       "596    70\n",
       "597    70\n",
       "598    70\n",
       "599    70\n",
       "Name: Taxable.Income, Length: 600, dtype: int64"
      ]
     },
     "execution_count": 38,
     "metadata": {},
     "output_type": "execute_result"
    }
   ],
   "source": [
    "y"
   ]
  },
  {
   "cell_type": "markdown",
   "id": "12cd64b5",
   "metadata": {},
   "source": [
    "# Split the data into Training & Test"
   ]
  },
  {
   "cell_type": "code",
   "execution_count": 53,
   "id": "50b45c5d",
   "metadata": {},
   "outputs": [],
   "source": [
    "x_train,x_test,y_train,y_test =train_test_split(x,y,test_size =0.3,random_state =10)"
   ]
  },
  {
   "cell_type": "code",
   "execution_count": 54,
   "id": "8cb85aa3",
   "metadata": {},
   "outputs": [],
   "source": [
    "model =RandomForestClassifier(n_estimators=100,max_depth =3, criterion='gini',random_state=10)\n",
    "model.fit(x_train,y_train)\n",
    "y_pred =model.predict(x_test)"
   ]
  },
  {
   "cell_type": "code",
   "execution_count": 55,
   "id": "8c062992",
   "metadata": {},
   "outputs": [
    {
     "name": "stdout",
     "output_type": "stream",
     "text": [
      "[70 70 70 70 70 70 70 70 70 70 70 70 70 70 70 70 70 70 70 70 70 70 70 70\n",
      " 70 70 70 70 70 70 70 70 70 70 70 70 70 70 70 70 70 70 70 70 70 70 70 70\n",
      " 70 70 70 70 70 70 70 70 70 70 70 70 70 70 70 70 70 70 70 70 70 70 70 70\n",
      " 70 70 70 70 70 70 70 70 70 70 70 70 70 70 70 70 70 70 70 70 70 70 70 70\n",
      " 70 70 70 70 70 70 70 70 70 70 70 70 70 70 70 70 70 70 70 70 70 70 70 70\n",
      " 70 70 70 70 70 70 70 70 70 70 70 70 70 70 70 70 70 70 70 70 70 70 70 70\n",
      " 70 70 70 70 70 70 70 70 70 70 70 70 70 70 70 70 70 70 70 70 70 70 70 70\n",
      " 70 70 70 70 70 70 70 70 70 70 70 70]\n"
     ]
    }
   ],
   "source": [
    "print(y_pred)"
   ]
  },
  {
   "cell_type": "markdown",
   "id": "f8ab97ce",
   "metadata": {},
   "source": [
    "# Accuracy Check"
   ]
  },
  {
   "cell_type": "code",
   "execution_count": 56,
   "id": "b42e869b",
   "metadata": {},
   "outputs": [
    {
     "name": "stdout",
     "output_type": "stream",
     "text": [
      "0.7666666666666667\n"
     ]
    }
   ],
   "source": [
    "accuracy =accuracy_score(y_test,y_pred)\n",
    "print(accuracy)"
   ]
  },
  {
   "cell_type": "code",
   "execution_count": 57,
   "id": "d498adca",
   "metadata": {},
   "outputs": [
    {
     "data": {
      "text/html": [
       "<div>\n",
       "<style scoped>\n",
       "    .dataframe tbody tr th:only-of-type {\n",
       "        vertical-align: middle;\n",
       "    }\n",
       "\n",
       "    .dataframe tbody tr th {\n",
       "        vertical-align: top;\n",
       "    }\n",
       "\n",
       "    .dataframe thead th {\n",
       "        text-align: right;\n",
       "    }\n",
       "</style>\n",
       "<table border=\"1\" class=\"dataframe\">\n",
       "  <thead>\n",
       "    <tr style=\"text-align: right;\">\n",
       "      <th>Taxable.Income</th>\n",
       "      <th>30</th>\n",
       "      <th>70</th>\n",
       "    </tr>\n",
       "    <tr>\n",
       "      <th>row_0</th>\n",
       "      <th></th>\n",
       "      <th></th>\n",
       "    </tr>\n",
       "  </thead>\n",
       "  <tbody>\n",
       "    <tr>\n",
       "      <th>70</th>\n",
       "      <td>42</td>\n",
       "      <td>138</td>\n",
       "    </tr>\n",
       "  </tbody>\n",
       "</table>\n",
       "</div>"
      ],
      "text/plain": [
       "Taxable.Income  30   70\n",
       "row_0                  \n",
       "70              42  138"
      ]
     },
     "execution_count": 57,
     "metadata": {},
     "output_type": "execute_result"
    }
   ],
   "source": [
    "pd.crosstab(y_pred,y_test)"
   ]
  },
  {
   "cell_type": "code",
   "execution_count": 58,
   "id": "68fdb25f",
   "metadata": {},
   "outputs": [
    {
     "data": {
      "text/plain": [
       "42"
      ]
     },
     "execution_count": 58,
     "metadata": {},
     "output_type": "execute_result"
    }
   ],
   "source": [
    "count_misclassified =(y_test != y_pred).sum()\n",
    "count_misclassified"
   ]
  },
  {
   "cell_type": "code",
   "execution_count": 59,
   "id": "9fa4759b",
   "metadata": {},
   "outputs": [
    {
     "name": "stdout",
     "output_type": "stream",
     "text": [
      "              precision    recall  f1-score   support\n",
      "\n",
      "          30       0.00      0.00      0.00        42\n",
      "          70       0.77      1.00      0.87       138\n",
      "\n",
      "    accuracy                           0.77       180\n",
      "   macro avg       0.38      0.50      0.43       180\n",
      "weighted avg       0.59      0.77      0.67       180\n",
      "\n"
     ]
    }
   ],
   "source": [
    "print(classification_report(y_test,y_pred))"
   ]
  },
  {
   "cell_type": "markdown",
   "id": "cf41035c",
   "metadata": {},
   "source": [
    "# Apply KFold "
   ]
  },
  {
   "cell_type": "code",
   "execution_count": 63,
   "id": "c5d3f4eb",
   "metadata": {},
   "outputs": [],
   "source": [
    "kfold=KFold(n_splits=10,shuffle=True,random_state=None)\n",
    "model1=RandomForestClassifier(n_estimators=100,max_features=3)\n",
    "result=cross_val_score(model1,x,y,cv=kfold)"
   ]
  },
  {
   "cell_type": "code",
   "execution_count": 64,
   "id": "7626e8a4",
   "metadata": {},
   "outputs": [
    {
     "name": "stdout",
     "output_type": "stream",
     "text": [
      "Cross Validation Score: [0.71666667 0.76666667 0.76666667 0.75       0.73333333 0.73333333\n",
      " 0.76666667 0.75       0.71666667 0.78333333]\n"
     ]
    }
   ],
   "source": [
    "print('Cross Validation Score:',result)"
   ]
  },
  {
   "cell_type": "code",
   "execution_count": 65,
   "id": "f637e59a",
   "metadata": {},
   "outputs": [
    {
     "name": "stdout",
     "output_type": "stream",
     "text": [
      "Accuracy is: 0.75\n"
     ]
    }
   ],
   "source": [
    "print('Accuracy is:',round(np.mean(result),2))"
   ]
  },
  {
   "cell_type": "code",
   "execution_count": 67,
   "id": "71a6c71a",
   "metadata": {},
   "outputs": [],
   "source": [
    "kfold1 =KFold(n_splits =10,shuffle =True,random_state=10)\n",
    "model2=RandomForestClassifier(n_estimators =100,criterion ='entropy',max_features =3)\n",
    "model3 =BaggingClassifier(base_estimator =model2,n_estimators =100,random_state =10)\n",
    "result1 =cross_val_score(model3,x,y,cv=kfold1)"
   ]
  },
  {
   "cell_type": "code",
   "execution_count": 68,
   "id": "6dbe2361",
   "metadata": {},
   "outputs": [
    {
     "name": "stdout",
     "output_type": "stream",
     "text": [
      "Cross Validation Score: [0.78333333 0.71666667 0.71666667 0.81666667 0.81666667 0.75\n",
      " 0.75       0.73333333 0.8        0.85      ]\n"
     ]
    }
   ],
   "source": [
    "print('Cross Validation Score:',result1)"
   ]
  },
  {
   "cell_type": "code",
   "execution_count": 69,
   "id": "45da89e1",
   "metadata": {},
   "outputs": [
    {
     "name": "stdout",
     "output_type": "stream",
     "text": [
      "0.7733333333333332\n"
     ]
    }
   ],
   "source": [
    "print(np.mean(result1))"
   ]
  },
  {
   "cell_type": "markdown",
   "id": "d9179c41",
   "metadata": {},
   "source": [
    "# Conclusion:\n",
    "\n",
    "As mentioned in the problem Statement, we slice Taxable income (feature) in two category equal to or lesser than 30000 & above 30000(denoted with 30 & 70 respectively).\n",
    "\n",
    "Used Random foreset classifier using gini criterion for train the model & check the predictions. The accuracy the model is given 76% which not look bad and didn't see any overfitting signs although. \n",
    "\n",
    "Also check K-fold cross validation to verify the accuracy & getting closed to Random foreset classifier accuracy(75 & 77 %)\n",
    "\n",
    "In the end the model can be useful to give the prediction.\n",
    "\n"
   ]
  }
 ],
 "metadata": {
  "kernelspec": {
   "display_name": "Python 3 (ipykernel)",
   "language": "python",
   "name": "python3"
  },
  "language_info": {
   "codemirror_mode": {
    "name": "ipython",
    "version": 3
   },
   "file_extension": ".py",
   "mimetype": "text/x-python",
   "name": "python",
   "nbconvert_exporter": "python",
   "pygments_lexer": "ipython3",
   "version": "3.9.12"
  }
 },
 "nbformat": 4,
 "nbformat_minor": 5
}
