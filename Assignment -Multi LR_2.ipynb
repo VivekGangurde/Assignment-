{
 "cells": [
  {
   "cell_type": "code",
   "execution_count": 14,
   "id": "28cf5f30",
   "metadata": {},
   "outputs": [],
   "source": [
    "import pandas as pd\n",
    "import matplotlib.pyplot as plt\n",
    "import numpy as np\n",
    "import seaborn as sns\n",
    "from statsmodels.graphics.regressionplots import influence_plot\n",
    "import statsmodels.formula.api as smf\n",
    "import numpy as np"
   ]
  },
  {
   "cell_type": "code",
   "execution_count": 15,
   "id": "f46f529e",
   "metadata": {},
   "outputs": [],
   "source": [
    "# Consider only the below columns and prepare a prediction model for predicting Price.\n",
    "\n",
    "# Corolla<-Corolla[c(\"Price\",\"Age_08_04\",\"KM\",\"HP\",\"cc\",\"Doors\",\"Gears\",\"Quarterly_Tax\",\"Weight\")]\n"
   ]
  },
  {
   "cell_type": "markdown",
   "id": "6987b815",
   "metadata": {},
   "source": [
    "# Import the Data"
   ]
  },
  {
   "cell_type": "code",
   "execution_count": 18,
   "id": "3ac78676",
   "metadata": {},
   "outputs": [
    {
     "ename": "SyntaxError",
     "evalue": "EOL while scanning string literal (4020391059.py, line 1)",
     "output_type": "error",
     "traceback": [
      "\u001b[1;36m  Input \u001b[1;32mIn [18]\u001b[1;36m\u001b[0m\n\u001b[1;33m    Corolla= pd.read_csv('C:\\\\Users\\\\VivekG\\\\Desktop\\\\My Files- Vivek\\\\ExcelrThane\\\\DS\\\\Assignments\\\\Multi-LR\\\\Toyota_Corolla.csv',encoding='latin1'')\u001b[0m\n\u001b[1;37m                                                                                                                                                      ^\u001b[0m\n\u001b[1;31mSyntaxError\u001b[0m\u001b[1;31m:\u001b[0m EOL while scanning string literal\n"
     ]
    }
   ],
   "source": [
    "Corolla= pd.read_csv('C:\\\\Users\\\\VivekG\\\\Desktop\\\\My Files- Vivek\\\\ExcelrThane\\\\DS\\\\Assignments\\\\Multi-LR\\\\Toyota_Corolla.csv',encoding='latin1'')"
   ]
  },
  {
   "cell_type": "code",
   "execution_count": null,
   "id": "a8f6cae0",
   "metadata": {},
   "outputs": [],
   "source": []
  }
 ],
 "metadata": {
  "kernelspec": {
   "display_name": "Python 3 (ipykernel)",
   "language": "python",
   "name": "python3"
  },
  "language_info": {
   "codemirror_mode": {
    "name": "ipython",
    "version": 3
   },
   "file_extension": ".py",
   "mimetype": "text/x-python",
   "name": "python",
   "nbconvert_exporter": "python",
   "pygments_lexer": "ipython3",
   "version": "3.9.12"
  }
 },
 "nbformat": 4,
 "nbformat_minor": 5
}
