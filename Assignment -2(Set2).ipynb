{
 "cells": [
  {
   "cell_type": "code",
   "execution_count": 24,
   "id": "b4420cad",
   "metadata": {},
   "outputs": [],
   "source": [
    "import random\n",
    "from scipy.stats import norm\n",
    "from scipy import stats\n",
    "import numpy as np\n",
    "import numpy as np\n",
    "import pandas as pd\n",
    "import matplotlib.pyplot as plt\n",
    "import seaborn as sns\n",
    "import statsmodels.api as sm\n",
    "import pylab as py"
   ]
  },
  {
   "cell_type": "code",
   "execution_count": 25,
   "id": "cdcf5292",
   "metadata": {},
   "outputs": [
    {
     "data": {
      "text/plain": [
       "0.625"
      ]
     },
     "execution_count": 25,
     "metadata": {},
     "output_type": "execute_result"
    }
   ],
   "source": [
    "#Q1-What is the probability that the service manager cannot meet his commitment? \n",
    "#μ (Mu)=45+10=55,X=60,Std=8\n",
    "\n",
    "# # Find Z-Scores at X=50; Z = (X - µ) / σ \n",
    "\n",
    "Z=(60-55)/8\n",
    "Z"
   ]
  },
  {
   "cell_type": "code",
   "execution_count": 26,
   "id": "a131c24e",
   "metadata": {},
   "outputs": [
    {
     "data": {
      "text/plain": [
       "0.26598552904870054"
      ]
     },
     "execution_count": 26,
     "metadata": {},
     "output_type": "execute_result"
    }
   ],
   "source": [
    "# Find probability P(X>60) = 1-stats.norm.cdf(abs(z_score))\n",
    "1-stats.norm.cdf(abs(0.625))\n"
   ]
  },
  {
   "cell_type": "code",
   "execution_count": 27,
   "id": "6ad0c665",
   "metadata": {},
   "outputs": [
    {
     "data": {
      "text/plain": [
       "0.7340144709512995"
      ]
     },
     "execution_count": 27,
     "metadata": {},
     "output_type": "execute_result"
    }
   ],
   "source": [
    "# OR Find probability P(X<=60); p_value=stats.norm.cdf(abs(z_score))  \n",
    "p_value=stats.norm.cdf(abs(0.625)) \n",
    "p_value"
   ]
  },
  {
   "cell_type": "code",
   "execution_count": 28,
   "id": "610fb677",
   "metadata": {},
   "outputs": [
    {
     "data": {
      "text/plain": [
       "0.266"
      ]
     },
     "execution_count": 28,
     "metadata": {},
     "output_type": "execute_result"
    }
   ],
   "source": [
    "# P(X>60) = 1 - P(X<=60)\n",
    "1-0.734"
   ]
  },
  {
   "cell_type": "code",
   "execution_count": 29,
   "id": "aa76016a",
   "metadata": {},
   "outputs": [
    {
     "data": {
      "text/plain": [
       "0.15865525393145707"
      ]
     },
     "execution_count": 29,
     "metadata": {},
     "output_type": "execute_result"
    }
   ],
   "source": [
    "#Q2A-A.\tMore employees at the processing center are older than 44 than between 38 and 44. \n",
    "# x=400, mu= 38, std= 6\n",
    "\n",
    "#p(X>44); Employees older than 44 yrs of age\n",
    "1-stats.norm.cdf(44,loc=38,scale=6)"
   ]
  },
  {
   "cell_type": "code",
   "execution_count": 30,
   "id": "f062547b",
   "metadata": {},
   "outputs": [
    {
     "data": {
      "text/plain": [
       "0.3413447460685429"
      ]
     },
     "execution_count": 30,
     "metadata": {},
     "output_type": "execute_result"
    }
   ],
   "source": [
    "# p(38<X<44); Employees between 38 to 44 yrs of age\n",
    "stats.norm.cdf(44,38,6)-stats.norm.cdf(38,38,6)"
   ]
  },
  {
   "cell_type": "code",
   "execution_count": 31,
   "id": "745221f1",
   "metadata": {},
   "outputs": [
    {
     "data": {
      "text/plain": [
       "0.09121121972586788"
      ]
     },
     "execution_count": 31,
     "metadata": {},
     "output_type": "execute_result"
    }
   ],
   "source": [
    "#Q2B A training program for employees under the age of 30 at the center would be expected to attract about 36 employees.\n",
    "# x=30, mu=38,std=6\n",
    "\n",
    "# P(X<30); Employees under 30 yrs of age\n",
    "stats.norm.cdf(30,38,6)"
   ]
  },
  {
   "cell_type": "code",
   "execution_count": 32,
   "id": "6ee9f025",
   "metadata": {},
   "outputs": [
    {
     "data": {
      "text/plain": [
       "36.484487890347154"
      ]
     },
     "execution_count": 32,
     "metadata": {},
     "output_type": "execute_result"
    }
   ],
   "source": [
    "# No. of employees attending training program from 400 nos. is N*P(X<30)\n",
    "400*stats.norm.cdf(30,38,6)"
   ]
  },
  {
   "cell_type": "code",
   "execution_count": 33,
   "id": "206d8f74",
   "metadata": {},
   "outputs": [
    {
     "data": {
      "text/plain": [
       "(48.48341392902199, 151.516586070978)"
      ]
     },
     "execution_count": 33,
     "metadata": {},
     "output_type": "execute_result"
    }
   ],
   "source": [
    "#Q4 Let X ~ N(100, 202). Find two values, a and b, symmetric about the mean, such that the probability of the random variable taking a value between them is 0.99.\n",
    "\n",
    "stats.norm.interval(0.99,100,20)"
   ]
  },
  {
   "cell_type": "code",
   "execution_count": 34,
   "id": "72c0475d",
   "metadata": {},
   "outputs": [
    {
     "name": "stdout",
     "output_type": "stream",
     "text": [
      "Mean Profit  Rs 540 Million\n"
     ]
    }
   ],
   "source": [
    "#5A Specify a Rupee range (centered on the mean) such that it contains 95% probability for the annual profit of the company.\n",
    "\n",
    "# Mean profits from two different divisions of a company = Mean1 + Mean2\n",
    "\n",
    "Mean = 5+7\n",
    "print('Mean Profit  Rs', Mean*45,'Million')\n"
   ]
  },
  {
   "cell_type": "code",
   "execution_count": 35,
   "id": "40950d0c",
   "metadata": {},
   "outputs": [
    {
     "name": "stdout",
     "output_type": "stream",
     "text": [
      "Standard Deviation  Rs 225.0 Million\n"
     ]
    }
   ],
   "source": [
    "# Variance of profits from two different divisions of a company = SD = SD1^(3)2 + SD2^(4)2\n",
    "SD = np.sqrt((9)+(16))\n",
    "print('Standard Deviation  Rs', SD*45, 'Million')"
   ]
  },
  {
   "cell_type": "code",
   "execution_count": 36,
   "id": "8ca9c78d",
   "metadata": {},
   "outputs": [
    {
     "name": "stdout",
     "output_type": "stream",
     "text": [
      "Range is Rs (99.00810347848784, 980.9918965215122) in Millions\n"
     ]
    }
   ],
   "source": [
    "print('Range is Rs',(stats.norm.interval(0.95,540,225)),'in Millions')"
   ]
  },
  {
   "cell_type": "code",
   "execution_count": 37,
   "id": "daa294e1",
   "metadata": {},
   "outputs": [
    {
     "name": "stdout",
     "output_type": "stream",
     "text": [
      "5th percentile of Profit (in Million Rs)is 170.0\n"
     ]
    }
   ],
   "source": [
    "#5AA Specify the 5th percentile of profit (in Rupees) for the company\n",
    "# 5th Percentile Z value is -1.645, Thus, X=mu+Z*s \n",
    "P= 540+(-1.645)*(225)\n",
    "print('5th percentile of Profit (in Million Rs)is',np.round(P,))"
   ]
  },
  {
   "cell_type": "code",
   "execution_count": 38,
   "id": "a4558222",
   "metadata": {},
   "outputs": [
    {
     "data": {
      "text/plain": [
       "0.0477903522728147"
      ]
     },
     "execution_count": 38,
     "metadata": {},
     "output_type": "execute_result"
    }
   ],
   "source": [
    "#5B Which of the two divisions has a larger probability of making a loss in a given year?\n",
    "# Probability of Division 1 making a loss P(X<0)\n",
    "stats.norm.cdf(0,5,3)"
   ]
  },
  {
   "cell_type": "code",
   "execution_count": 39,
   "id": "8c16f561",
   "metadata": {},
   "outputs": [
    {
     "data": {
      "text/plain": [
       "0.040059156863817086"
      ]
     },
     "execution_count": 39,
     "metadata": {},
     "output_type": "execute_result"
    }
   ],
   "source": [
    "# Probability of Division 2 making a loss P(X<0)\n",
    "stats.norm.cdf(0,7,4)"
   ]
  }
 ],
 "metadata": {
  "kernelspec": {
   "display_name": "Python 3 (ipykernel)",
   "language": "python",
   "name": "python3"
  },
  "language_info": {
   "codemirror_mode": {
    "name": "ipython",
    "version": 3
   },
   "file_extension": ".py",
   "mimetype": "text/x-python",
   "name": "python",
   "nbconvert_exporter": "python",
   "pygments_lexer": "ipython3",
   "version": "3.9.12"
  }
 },
 "nbformat": 4,
 "nbformat_minor": 5
}
