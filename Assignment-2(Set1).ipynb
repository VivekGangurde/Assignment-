{
 "cells": [
  {
   "cell_type": "code",
   "execution_count": 77,
   "id": "43b7f272",
   "metadata": {},
   "outputs": [],
   "source": [
    "import numpy as np\n",
    "import pandas as pd\n",
    "import matplotlib.pyplot as plt\n",
    "import seaborn as sns\n",
    "%matplotlib inline\n",
    "import warnings\n",
    "warnings.filterwarnings('ignore')"
   ]
  },
  {
   "cell_type": "code",
   "execution_count": 78,
   "id": "c4a3540e",
   "metadata": {},
   "outputs": [],
   "source": [
    "# \tLook at the data given below. Plot the data, find the outliers and find out  μ,σ,σ^2\n",
    "\n",
    "X=pd.Series([24.23,25.53,25.41,24.14,29.62,28.25,25.81,24.39,40.26,32.95,91.36,25.99,39.42,26.71,35.00])"
   ]
  },
  {
   "cell_type": "code",
   "execution_count": 79,
   "id": "19d8fa1b",
   "metadata": {},
   "outputs": [],
   "source": [
    "Y=['Allied Signal',\n",
    "'Bankers Trust',\n",
    "'General Mills',\n",
    "'ITT Industries',\n",
    "'J.P.Morgan  Co.',\n",
    "'Lehman Brothers',\n",
    "'Marriott',\n",
    "'MCI',\n",
    "'Merrill Lynch',\n",
    "'Microsoft',\n",
    "'Morgan Stanley',\n",
    "'Sun Microsystems',\n",
    "'Travelers',\n",
    "'US Airways',\n",
    "'Warner-Lambert'\n",
    "]"
   ]
  },
  {
   "cell_type": "code",
   "execution_count": 80,
   "id": "497c2665",
   "metadata": {},
   "outputs": [
    {
     "data": {
      "text/plain": [
       "33.27133333333333"
      ]
     },
     "execution_count": 80,
     "metadata": {},
     "output_type": "execute_result"
    }
   ],
   "source": [
    "X.mean()"
   ]
  },
  {
   "cell_type": "code",
   "execution_count": 81,
   "id": "34b842c4",
   "metadata": {},
   "outputs": [
    {
     "data": {
      "text/plain": [
       "287.1466123809524"
      ]
     },
     "execution_count": 81,
     "metadata": {},
     "output_type": "execute_result"
    }
   ],
   "source": [
    "X.var()"
   ]
  },
  {
   "cell_type": "code",
   "execution_count": 82,
   "id": "9ac3a60e",
   "metadata": {},
   "outputs": [
    {
     "data": {
      "text/plain": [
       "16.945400921222028"
      ]
     },
     "execution_count": 82,
     "metadata": {},
     "output_type": "execute_result"
    }
   ],
   "source": [
    "X.std()"
   ]
  },
  {
   "cell_type": "code",
   "execution_count": 83,
   "id": "52d846c4",
   "metadata": {},
   "outputs": [
    {
     "data": {
      "text/plain": [
       "{'whiskers': [<matplotlib.lines.Line2D at 0x10eee7ed370>,\n",
       "  <matplotlib.lines.Line2D at 0x10eee7ed640>],\n",
       " 'caps': [<matplotlib.lines.Line2D at 0x10eee7ed850>,\n",
       "  <matplotlib.lines.Line2D at 0x10eee7edb20>],\n",
       " 'boxes': [<matplotlib.lines.Line2D at 0x10eee7ed0a0>],\n",
       " 'medians': [<matplotlib.lines.Line2D at 0x10eee7eddf0>],\n",
       " 'fliers': [<matplotlib.lines.Line2D at 0x10eee7f7100>],\n",
       " 'means': []}"
      ]
     },
     "execution_count": 83,
     "metadata": {},
     "output_type": "execute_result"
    },
    {
     "data": {
      "image/png": "[encoded data removed]",
      "text/plain": [
       "<Figure size 432x288 with 1 Axes>"
      ]
     },
     "metadata": {
      "needs_background": "light"
     },
     "output_type": "display_data"
    }
   ],
   "source": [
    "plt.boxplot(X)"
   ]
  },
  {
   "cell_type": "code",
   "execution_count": 84,
   "id": "7073dd5b",
   "metadata": {},
   "outputs": [
    {
     "data": {
      "image/png": "[encoded data removed]",
      "text/plain": [
       "<Figure size 432x288 with 1 Axes>"
      ]
     },
     "metadata": {
      "needs_background": "light"
     },
     "output_type": "display_data"
    },
    {
     "data": {
      "text/plain": [
       "pandas.core.series.Series"
      ]
     },
     "execution_count": 84,
     "metadata": {},
     "output_type": "execute_result"
    }
   ],
   "source": [
    "X=np.array([24.23,25.53,25.41,24.14,29.62,28.25,25.81,24.39,40.26,32.95,91.36,25.99,39.42,26.71,35.00])\n",
    "Y = np.array(['Allied Signal',\n",
    "'Bankers Trust',\n",
    "'General Mills',\n",
    "'ITT Industries',\n",
    "'J.P.Morgan  Co.',\n",
    "'Lehman Brothers',\n",
    "'Marriott',\n",
    "'MCI',\n",
    "'Merrill Lynch',\n",
    "'Microsoft',\n",
    "'Morgan Stanley',\n",
    "'Sun Microsystems',\n",
    "'Travelers',\n",
    "'US Airways',\n",
    "'Warner-Lambert'\n",
    "])\n",
    "\n",
    "plt.bar(X,Y)\n",
    "plt.show()\n",
    "pd.Series"
   ]
  },
  {
   "cell_type": "code",
   "execution_count": 87,
   "id": "e5328ab1",
   "metadata": {},
   "outputs": [
    {
     "data": {
      "text/plain": [
       "0.024875"
      ]
     },
     "execution_count": 87,
     "metadata": {},
     "output_type": "execute_result"
    }
   ],
   "source": [
    "# Q4 What is the probability that at least one in five attempted telephone calls reaches the wrong number? (Assume independence of attempts.)\n",
    "\n",
    " # probability of call misdirecting  p = 1/200\n",
    "\n",
    "# Probability of call not Misdirecting  q = 1 - 1/200 = 199/200\n",
    "\n",
    "# Number of Calls = 5\n",
    "\n",
    "#n=5, p=1/200,q=1-1/200=199/200\n",
    "\n",
    "#probability that at least one in five attempted telephone calls reaches the wrong number = (n)*(p)*(q)\n",
    "\n",
    "(5)*(1/200)*(199/200)\n"
   ]
  },
  {
   "cell_type": "code",
   "execution_count": 99,
   "id": "0e4379f1",
   "metadata": {},
   "outputs": [],
   "source": [
    "# Q5.Returns on a certain business venture, to the nearest $1,000, are known to follow the following probability distribution\n",
    "\n",
    "#x=[-2000,-1000,0,1000,2000,3000]\n",
    "#P(x)=[0.1,0.1,0.2,0.2,0.3,0.1]\n"
   ]
  },
  {
   "cell_type": "code",
   "execution_count": 100,
   "id": "3dbb98a2",
   "metadata": {},
   "outputs": [
    {
     "data": {
      "text/plain": [
       "0.7999999999999999"
      ]
     },
     "execution_count": 100,
     "metadata": {},
     "output_type": "execute_result"
    }
   ],
   "source": [
    "#Is the venture likely to be successful? Explain\n",
    "# Yes.The probability of x < 0 are \n",
    "(0.2+0.2+0.3+0.1)\n",
    "#0.80(roundoff) which is 80%"
   ]
  },
  {
   "cell_type": "code",
   "execution_count": null,
   "id": "3b33463d",
   "metadata": {},
   "outputs": [],
   "source": [
    "# What is the long-term average earning of business ventures of this kind? Explain\n",
    "#Ans=long term average exp. Value=sum(x*P(x)) that is $ 800\n"
   ]
  },
  {
   "cell_type": "code",
   "execution_count": 104,
   "id": "a009cd0f",
   "metadata": {},
   "outputs": [],
   "source": [
    "# What is the good measure of the risk involved in a venture of this kind? Compute this measure\n",
    "#PLoss=(x= -2000)+P(x=-1000)=0.2 / 20%"
   ]
  },
  {
   "cell_type": "code",
   "execution_count": null,
   "id": "8a9a976f",
   "metadata": {},
   "outputs": [],
   "source": []
  }
 ],
 "metadata": {
  "kernelspec": {
   "display_name": "Python 3 (ipykernel)",
   "language": "python",
   "name": "python3"
  },
  "language_info": {
   "codemirror_mode": {
    "name": "ipython",
    "version": 3
   },
   "file_extension": ".py",
   "mimetype": "text/x-python",
   "name": "python",
   "nbconvert_exporter": "python",
   "pygments_lexer": "ipython3",
   "version": "3.9.12"
  }
 },
 "nbformat": 4,
 "nbformat_minor": 5
}
